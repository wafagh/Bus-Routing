{
  "cells": [
    {
      "cell_type": "code",
      "execution_count": null,
      "metadata": {
        "colab": {
          "base_uri": "https://localhost:8080/",
          "height": 826
        },
        "id": "AcwdIyF4lqwQ",
        "outputId": "e028b434-7e5f-461e-fa6b-67ef363c8ea1"
      },
      "outputs": [
        {
          "output_type": "stream",
          "name": "stdout",
          "text": [
            "Looking in indexes: https://pypi.org/simple, https://us-python.pkg.dev/colab-wheels/public/simple/\n",
            "Requirement already satisfied: networkx in /usr/local/lib/python3.8/dist-packages (3.0)\n",
            "Looking in indexes: https://pypi.org/simple, https://us-python.pkg.dev/colab-wheels/public/simple/\n",
            "Collecting mxnet\n",
            "  Downloading mxnet-1.9.1-py3-none-manylinux2014_x86_64.whl (49.1 MB)\n",
            "\u001b[2K     \u001b[90m━━━━━━━━━━━━━━━━━━━━━━━━━━━━━━━━━━━━━━━━\u001b[0m \u001b[32m49.1/49.1 MB\u001b[0m \u001b[31m9.2 MB/s\u001b[0m eta \u001b[36m0:00:00\u001b[0m\n",
            "\u001b[?25hRequirement already satisfied: numpy<2.0.0,>1.16.0 in /usr/local/lib/python3.8/dist-packages (from mxnet) (1.22.4)\n",
            "Requirement already satisfied: requests<3,>=2.20.0 in /usr/local/lib/python3.8/dist-packages (from mxnet) (2.25.1)\n",
            "Collecting graphviz<0.9.0,>=0.8.1\n",
            "  Downloading graphviz-0.8.4-py2.py3-none-any.whl (16 kB)\n",
            "Requirement already satisfied: chardet<5,>=3.0.2 in /usr/local/lib/python3.8/dist-packages (from requests<3,>=2.20.0->mxnet) (4.0.0)\n",
            "Requirement already satisfied: urllib3<1.27,>=1.21.1 in /usr/local/lib/python3.8/dist-packages (from requests<3,>=2.20.0->mxnet) (1.26.14)\n",
            "Requirement already satisfied: certifi>=2017.4.17 in /usr/local/lib/python3.8/dist-packages (from requests<3,>=2.20.0->mxnet) (2022.12.7)\n",
            "Requirement already satisfied: idna<3,>=2.5 in /usr/local/lib/python3.8/dist-packages (from requests<3,>=2.20.0->mxnet) (2.10)\n",
            "Installing collected packages: graphviz, mxnet\n",
            "  Attempting uninstall: graphviz\n",
            "    Found existing installation: graphviz 0.10.1\n",
            "    Uninstalling graphviz-0.10.1:\n",
            "      Successfully uninstalled graphviz-0.10.1\n",
            "Successfully installed graphviz-0.8.4 mxnet-1.9.1\n",
            "Looking in indexes: https://pypi.org/simple, https://us-python.pkg.dev/colab-wheels/public/simple/\n",
            "Collecting anvil-uplink\n",
            "  Downloading anvil_uplink-0.4.2-py2.py3-none-any.whl (90 kB)\n",
            "\u001b[2K     \u001b[90m━━━━━━━━━━━━━━━━━━━━━━━━━━━━━━━━━━━━━━━━\u001b[0m \u001b[32m90.1/90.1 KB\u001b[0m \u001b[31m7.3 MB/s\u001b[0m eta \u001b[36m0:00:00\u001b[0m\n",
            "\u001b[?25hRequirement already satisfied: six in /usr/local/lib/python3.8/dist-packages (from anvil-uplink) (1.15.0)\n",
            "Collecting argparse\n",
            "  Downloading argparse-1.4.0-py2.py3-none-any.whl (23 kB)\n",
            "Collecting ws4py\n",
            "  Downloading ws4py-0.5.1.tar.gz (51 kB)\n",
            "\u001b[2K     \u001b[90m━━━━━━━━━━━━━━━━━━━━━━━━━━━━━━━━━━━━━━━━\u001b[0m \u001b[32m51.4/51.4 KB\u001b[0m \u001b[31m5.7 MB/s\u001b[0m eta \u001b[36m0:00:00\u001b[0m\n",
            "\u001b[?25h  Preparing metadata (setup.py) ... \u001b[?25l\u001b[?25hdone\n",
            "Requirement already satisfied: future in /usr/local/lib/python3.8/dist-packages (from anvil-uplink) (0.16.0)\n",
            "Building wheels for collected packages: ws4py\n",
            "  Building wheel for ws4py (setup.py) ... \u001b[?25l\u001b[?25hdone\n",
            "  Created wheel for ws4py: filename=ws4py-0.5.1-py3-none-any.whl size=45229 sha256=137367f1c63c78d4eabe0c9170d03e1b0bbb73ebff827a1be7476dc3c876c544\n",
            "  Stored in directory: /root/.cache/pip/wheels/ea/f9/a1/34e2943cce3cf7daca304bfc35e91280694ced9194a487ce2f\n",
            "Successfully built ws4py\n",
            "Installing collected packages: ws4py, argparse, anvil-uplink\n",
            "Successfully installed anvil-uplink-0.4.2 argparse-1.4.0 ws4py-0.5.1\n"
          ]
        },
        {
          "output_type": "display_data",
          "data": {
            "application/vnd.colab-display-data+json": {
              "pip_warning": {
                "packages": [
                  "argparse",
                  "google"
                ]
              }
            }
          },
          "metadata": {}
        }
      ],
      "source": [
        "!pip install --upgrade networkx\n",
        "\n",
        "!pip install --upgrade mxnet\n",
        "!pip install anvil-uplink"
      ]
    },
    {
      "cell_type": "code",
      "execution_count": null,
      "metadata": {
        "colab": {
          "base_uri": "https://localhost:8080/"
        },
        "id": "IDaQ1-6wm_SW",
        "outputId": "77c5663e-349b-4b90-9405-e465dce0c0ea"
      },
      "outputs": [
        {
          "output_type": "stream",
          "name": "stdout",
          "text": [
            "Looking in indexes: https://pypi.org/simple, https://us-python.pkg.dev/colab-wheels/public/simple/\n",
            "Collecting mxnet-cu112\n",
            "  Downloading mxnet_cu112-1.9.1-py3-none-manylinux2014_x86_64.whl (499.4 MB)\n",
            "\u001b[2K     \u001b[90m━━━━━━━━━━━━━━━━━━━━━━━━━━━━━━━━━━━━━━━\u001b[0m \u001b[32m499.4/499.4 MB\u001b[0m \u001b[31m3.0 MB/s\u001b[0m eta \u001b[36m0:00:00\u001b[0m\n",
            "\u001b[?25hRequirement already satisfied: graphviz<0.9.0,>=0.8.1 in /usr/local/lib/python3.8/dist-packages (from mxnet-cu112) (0.8.4)\n",
            "Requirement already satisfied: numpy<2.0.0,>1.16.0 in /usr/local/lib/python3.8/dist-packages (from mxnet-cu112) (1.22.4)\n",
            "Requirement already satisfied: requests<3,>=2.20.0 in /usr/local/lib/python3.8/dist-packages (from mxnet-cu112) (2.25.1)\n",
            "Requirement already satisfied: certifi>=2017.4.17 in /usr/local/lib/python3.8/dist-packages (from requests<3,>=2.20.0->mxnet-cu112) (2022.12.7)\n",
            "Requirement already satisfied: idna<3,>=2.5 in /usr/local/lib/python3.8/dist-packages (from requests<3,>=2.20.0->mxnet-cu112) (2.10)\n",
            "Requirement already satisfied: urllib3<1.27,>=1.21.1 in /usr/local/lib/python3.8/dist-packages (from requests<3,>=2.20.0->mxnet-cu112) (1.26.14)\n",
            "Requirement already satisfied: chardet<5,>=3.0.2 in /usr/local/lib/python3.8/dist-packages (from requests<3,>=2.20.0->mxnet-cu112) (4.0.0)\n",
            "Installing collected packages: mxnet-cu112\n",
            "Successfully installed mxnet-cu112-1.9.1\n"
          ]
        }
      ],
      "source": [
        "\n",
        "!pip install mxnet-cu112"
      ]
    },
    {
      "cell_type": "code",
      "execution_count": null,
      "metadata": {
        "id": "Z_aj4E2VlSFS"
      },
      "outputs": [],
      "source": [
        "import networkx as nx\n",
        "import matplotlib.pyplot as plt\n",
        "import random\n",
        "import numpy as np\n",
        "import mxnet as mx\n",
        "import logging\n",
        "from sklearn.metrics import accuracy_score\n",
        "import anvil.server\n"
      ]
    },
    {
      "cell_type": "code",
      "execution_count": null,
      "metadata": {
        "id": "0p3pZkfVlUyP"
      },
      "outputs": [],
      "source": [
        "\n",
        "NUM_NODE = 50\n",
        "WEIGHT_MIN = .5\n",
        "WEIGHT_MAX = 1.\n",
        "const_list=[]\n",
        "for i in range(15):\n",
        "  flag=True\n",
        "  while flag:\n",
        "    index = random.randint(0, 49)\n",
        "    if index not in const_list:\n",
        "      const_list.append(index)\n",
        "      flag=False\n"
      ]
    },
    {
      "cell_type": "code",
      "execution_count": null,
      "metadata": {
        "id": "MidrAlv9wycF"
      },
      "outputs": [],
      "source": [
        "\n",
        "def calc_euclidean_dist(G, tmp_node, node):\n",
        "    \n",
        "    p_1 = np.array([G.nodes[tmp_node]['x'], G.nodes[tmp_node]['y']])\n",
        "    p_2 = np.array([G.nodes[node]['x'], G.nodes[node]['y']])\n",
        "    return np.sqrt(np.sum((p_1 - p_2)**2))\n",
        "\n",
        "def generate_low_degree_g(num_nodes=50,\\\n",
        "                          min_out_degree=2,\\\n",
        "                          max_out_degree=4,\\\n",
        "                          weight_min=WEIGHT_MIN,\\\n",
        "                          weight_max=WEIGHT_MAX,\\\n",
        "                          grid_size=20000):\n",
        "    \n",
        "    G = nx.Graph()\n",
        "    \n",
        "    num_of_passengers=0\n",
        "    #dx=1/grid_size=1/20,000=0.00005\n",
        "    euclidean_coords = np.linspace(0.0, 1.0, num=grid_size, endpoint=False)#[0.00000,0.00005,...,0.99995]\n",
        "    coords_indices = list(range(grid_size))\n",
        "    \n",
        "    random.shuffle(coords_indices)#permutated list of numbers from 0 to 20,000\n",
        "    x_coords = euclidean_coords[coords_indices][:num_nodes]#permutated subset of euclidean_coords\n",
        "    random.shuffle(coords_indices)\n",
        "    y_coords = euclidean_coords[coords_indices][:num_nodes]#permutated subset of euclidean_coords\n",
        "#     print(y_coords)\n",
        "    \n",
        "    # Add coordinates to nodes\n",
        "    #(make nodes: set coordinites and define number of passengers from node to node)\n",
        "    for node, coord in enumerate(zip(x_coords, y_coords)):\n",
        "#         print(node, coord[0], coord[1])\n",
        "        \n",
        "        amount=random.randrange(0,20,5)#number of passengers from the node\n",
        "                                         \n",
        "        num_of_passengers+=amount\n",
        "        #nodes of distinations\n",
        "        pdist=[0]*amount\n",
        "        for i in range(amount):\n",
        "          while True:\n",
        "            pdist[i]=random.randint(0,len(x_coords))\n",
        "            if pdist[i]!=coord[0]:\n",
        "                break\n",
        "              \n",
        "        G.add_node(node, x=coord[0], y=coord[1],passengers=amount,dists=pdist)\n",
        "    \n",
        "\n",
        "    for node in G.nodes:\n",
        "        \n",
        "        tmp_nodes = list(G.nodes)\n",
        "        tmp_nodes.remove(node)\n",
        "        node_dist = map(lambda tmp_node: (tmp_node, calc_euclidean_dist(G, tmp_node, node)), tmp_nodes)\n",
        "        node_dist = sorted(node_dist, key=lambda d:d[1])#list of other nodes odered by distance from this node\n",
        "        \n",
        "        num_of_neighbors = random.randint(min_out_degree, max_out_degree)\n",
        "\n",
        "        \n",
        "        for tmp_node in node_dist:\n",
        "\n",
        "            if G.degree(tmp_node[0]) >= max_out_degree \\\n",
        "                or G.degree(node) >= num_of_neighbors:\n",
        "                continue\n",
        "            passengers=G.nodes[tmp_node[0]]['passengers']+G.nodes[node]['passengers']\n",
        "            if tmp_node in const_list:\n",
        "              weight= 0.3\n",
        "            else:\n",
        "              if passengers>=0 and passengers <=10:\n",
        "                weight=0.9\n",
        "              elif  passengers >10 and passengers <=20:\n",
        "                weight =0.7\n",
        "              elif passengers >20 and passengers <=30 :\n",
        "                weight=0.5\n",
        "              else:\n",
        "                weight =1\n",
        "\n",
        "            geo_dist = calc_euclidean_dist(G, tmp_node[0], node)\n",
        "            \n",
        "            G.add_edge(node, tmp_node[0], weight=weight * geo_dist)\n",
        "    \n",
        "    # Add centrality to edges\n",
        "    edge_centrality = nx.edge_betweenness_centrality(G, \\\n",
        "                                                     k=G.number_of_nodes(), \\\n",
        "                                                     weight='weight')\n",
        "    assert len(edge_centrality) == G.number_of_edges()\n",
        "    \n",
        "    for edge_data in G.edges.data():\n",
        "        edge_data[2]['centrality'] = edge_centrality[(edge_data[0], edge_data[1])]\n",
        "    print(num_of_passengers)\n",
        "    return G"
      ]
    },
    {
      "cell_type": "code",
      "execution_count": null,
      "metadata": {
        "colab": {
          "base_uri": "https://localhost:8080/",
          "height": 467
        },
        "id": "byBiPwu0qCJb",
        "outputId": "4cb14ec6-39a8-44a5-d80c-d622d3c857eb"
      },
      "outputs": [
        {
          "output_type": "stream",
          "name": "stdout",
          "text": [
            "350\n",
            "325\n",
            "350\n",
            "4\n",
            "2\n",
            "50\n",
            "86\n",
            "the nodes are : [0, 1, 2, 3, 4, 5, 6, 7, 8, 9, 10, 11, 12, 13, 14, 15, 16, 17, 18, 19, 20, 21, 22, 23, 24, 25, 26, 27, 28, 29, 30, 31, 32, 33, 34, 35, 36, 37, 38, 39, 40, 41, 42, 43, 44, 45, 46, 47, 48, 49]\n"
          ]
        },
        {
          "output_type": "display_data",
          "data": {
            "text/plain": [
              "<Figure size 432x288 with 1 Axes>"
            ],
            "image/png": "[encoded data removed]"
          },
          "metadata": {}
        }
      ],
      "source": [
        "\n",
        "\n",
        "G = generate_low_degree_g()\n",
        "while nx.is_connected(G)==False:\n",
        "  G = generate_low_degree_g()\n",
        "max_degree = max(G.degree, key=lambda d: d[1])[1]\n",
        "min_degree = min(G.degree, key=lambda d: d[1])[1]\n",
        "print(max_degree)\n",
        "print(min_degree)\n",
        "print(G.number_of_nodes())\n",
        "print(G.number_of_edges())\n",
        "print(f\"the nodes are : {G.nodes}\")\n",
        "pos = {}\n",
        "x=G.number_of_nodes\n",
        "for t in G.nodes:\n",
        "        pos[t] = (G.nodes[t]['x'], G.nodes[t]['y'])\n",
        "\n",
        "nx.draw(G, pos=pos, node_size=200, font_size=8, with_labels=True)\n",
        "plt.show()"
      ]
    },
    {
      "cell_type": "code",
      "execution_count": null,
      "metadata": {
        "id": "MAScK3zmqCCw"
      },
      "outputs": [],
      "source": [
        "from networkx import NetworkXNoPath\n",
        "\n",
        "def calc_cosine_dist(p1, p2):\n",
        "    return np.dot(p1, p2) / (np.linalg.norm(p1) * np.linalg.norm(p2))\n",
        "\n",
        "def find_central_edge_greedy(G, start, depth=3):\n",
        "    \n",
        "    cur_node = start\n",
        "    path = [cur_node]\n",
        "    \n",
        "    centrality_sum = 0.0\n",
        "    \n",
        "    for d in range(depth + 1):\n",
        "        \n",
        "        edge_tuples = map(lambda e:(e[0], e[1], G.get_edge_data(e[0], e[1])['centrality']),\\\n",
        "                  G.edges(cur_node))\n",
        "        \n",
        "        chosen_edge = max(edge_tuples, key=lambda t:t[2])\n",
        "        \n",
        "        assert cur_node == chosen_edge[0]\n",
        "        cur_node = chosen_edge[1]\n",
        "        \n",
        "        # No point of getting trapped\n",
        "        # in a dead loop;\n",
        "        # just break out\n",
        "        if cur_node in path:\n",
        "            break\n",
        "        \n",
        "        centrality_sum += chosen_edge[2]\n",
        "        path.append(cur_node)\n",
        "    \n",
        "    return centrality_sum\n",
        "\n",
        "def encode_edges(G, parent, node, src, dst):\n",
        "    \n",
        "    ret = np.zeros((max_degree, 7))\n",
        "    ret[:, -1] = -1\n",
        "    \n",
        "    x_dst = G.nodes[dst]['x']\n",
        "    y_dst = G.nodes[dst]['y']\n",
        "    x_src = G.nodes[src]['x']\n",
        "    y_src = G.nodes[src]['y']\n",
        "    \n",
        "    for idx, edge in enumerate(G.edges(node)):\n",
        "        u = edge[0]\n",
        "        v = edge[1]\n",
        "        \n",
        "        # Only look forward\n",
        "        # allow look backwards(shouldn't be included)\n",
        "        if v == parent:\n",
        "            continue\n",
        "        \n",
        "        ret[idx][0] = G.get_edge_data(u, v)['centrality']\n",
        "        ret[idx][1] = G.get_edge_data(u, v)['weight']\n",
        "        \n",
        "        x_u = G.nodes[u]['x']\n",
        "        y_u = G.nodes[u]['y']\n",
        "        x_v = G.nodes[v]['x']\n",
        "        y_v = G.nodes[v]['y']\n",
        "\n",
        "        ret[idx][2] = calc_cosine_dist((x_v-x_u, y_v-y_u), (x_dst-x_u, y_dst-y_u))\n",
        "        ret[idx][3] = calc_euclidean_dist(G, v, dst)\n",
        "        ret[idx][4] = x_v\n",
        "        ret[idx][5] = y_v\n",
        "        ret[idx][-1] = v\n",
        "        \n",
        "    return (ret, x_src, y_src, x_dst, y_dst)\n",
        "\n",
        "def generate_stochastic_dataset(G, num_train_node_pairs=400,\\\n",
        "                                    num_test_node_pairs=100, verbose_frequence=100):\n",
        "    \n",
        "    train_features = []\n",
        "    train_labels = []\n",
        "    test_features = []\n",
        "    test_labels = []\n",
        "    \n",
        "    pair_path_dict = dict()\n",
        "    \n",
        "    train_selected_pairs = []\n",
        "    test_selected_pairs = []\n",
        "    num_of_nodes = G.number_of_nodes()\n",
        "    \n",
        "    train_mode = True\n",
        "    \n",
        "    while True:\n",
        "        src = np.random.randint(0, num_of_nodes)\n",
        "        dst = np.random.randint(0, num_of_nodes)\n",
        "        \n",
        "        if src == dst:\n",
        "            continue\n",
        "        \n",
        "        if (src, dst) in pair_path_dict:\n",
        "            continue\n",
        "        \n",
        "        try:\n",
        "            shortest_path = nx.dijkstra_path(G, src, dst)\n",
        "                \n",
        "        except NetworkXNoPath:\n",
        "            continue\n",
        "    \n",
        "        for path in [shortest_path, shortest_path[::-1]]:\n",
        "            \n",
        "            src = path[0]\n",
        "            dst = path[-1]\n",
        "            \n",
        "            pair_path_dict[(src, dst)] = path\n",
        "            \n",
        "            if train_mode and len(train_selected_pairs) < num_train_node_pairs:\n",
        "                train_selected_pairs.append((src, dst))\n",
        "            else:\n",
        "                train_mode = False\n",
        "                if len(test_selected_pairs) < num_test_node_pairs:\n",
        "                    test_selected_pairs.append((src, dst))\n",
        "                    \n",
        "            parent_node = -1\n",
        "            cur_node = src\n",
        "            for mid_node in path[1:]:\n",
        "\n",
        "                if train_mode:\n",
        "                    train_features.append(encode_edges(G, parent_node, cur_node, src, dst))\n",
        "                    train_labels.append(mid_node)\n",
        "                else:\n",
        "                    test_features.append(encode_edges(G, parent_node, cur_node, src, dst))\n",
        "                    test_labels.append(mid_node)\n",
        "                \n",
        "                parent_node = cur_node\n",
        "                cur_node = mid_node\n",
        "                \n",
        "        if len(train_selected_pairs) >= num_train_node_pairs \\\n",
        "            and len(test_selected_pairs) >= num_test_node_pairs:\n",
        "            break\n",
        "        \n",
        "    return train_features, train_labels, test_features, test_labels, train_selected_pairs, test_selected_pairs, pair_path_dict"
      ]
    },
    {
      "cell_type": "code",
      "execution_count": null,
      "metadata": {
        "id": "X9wYLz4HqB3g"
      },
      "outputs": [],
      "source": [
        "def find_label_idx(feature, label):\n",
        "    \n",
        "    for idx, row in enumerate(feature):\n",
        "        if label == row[-1]:\n",
        "            break\n",
        "    \n",
        "    return idx\n",
        "\n",
        "def augment_dataset(X, y, augmentation=False, augmentation_index=20, print_freq=300000):\n",
        "    \n",
        "    sample_size = len(y)\n",
        "    augmented_sample_size = augmentation_index * sample_size\n",
        "    feature_size = 28\n",
        "    \n",
        "    X_aug, y_aug = np.zeros((augmented_sample_size, feature_size)), np.zeros((augmented_sample_size), dtype=np.int)\n",
        "    indices = np.arange(max_degree)\n",
        "    \n",
        "    cnt = 0\n",
        "    for feature, label in zip(X, y):\n",
        "        for _ in range(augmentation_index):\n",
        "            \n",
        "            if augmentation:\n",
        "                np.random.shuffle(indices)\n",
        "            \n",
        "            feature_tmp = feature[0][indices]\n",
        "            label_tmp = find_label_idx(feature_tmp, label)\n",
        "            \n",
        "            X_aug[cnt] = np.append(feature_tmp[:, :-1].reshape(-1), [feature[1], feature[2], feature[3], feature[4]])\n",
        "            y_aug[cnt] = label_tmp\n",
        "            \n",
        "            cnt += 1\n",
        "            \n",
        "    return X_aug, y_aug"
      ]
    },
    {
      "cell_type": "code",
      "execution_count": null,
      "metadata": {
        "id": "fdleiIA8qKY6"
      },
      "outputs": [],
      "source": [
        "def generate_samples_from_graph(num_node_pairs, graph_size=50, augmentation=False, augmentation_index=1, label='Train'):\n",
        "    \n",
        "    G = generate_low_degree_g(num_nodes=graph_size)\n",
        "    while nx.is_connected(G) == False:\n",
        "      G = generate_low_degree_g()\n",
        "    \n",
        "    features, labels, _, _, selected_pairs, _, pair_path_dict =\\\n",
        "            generate_stochastic_dataset(G, num_train_node_pairs=num_node_pairs, num_test_node_pairs=0)\n",
        "        \n",
        "    X, y = augment_dataset(features, labels,\\\n",
        "                           augmentation=augmentation,\n",
        "                           augmentation_index=augmentation_index, \\\n",
        "                           print_freq=600)\n",
        "    \n",
        "    assert len(features) == len(labels)\n",
        "    assert len(X) == len(y)\n",
        "    \n",
        "    print(label)\n",
        "    print(\"%d pairs are selected for training\" % (len(selected_pairs)))\n",
        "    print(\"len of pair_path_dict: %d\" % (len(pair_path_dict)))\n",
        "    print(\"Num of training sample: %d\" % len(y))\n",
        "    print(label)\n",
        "    print('\\n')\n",
        "    \n",
        "    return X, y, G, pair_path_dict"
      ]
    },
    {
      "cell_type": "code",
      "execution_count": null,
      "metadata": {
        "colab": {
          "base_uri": "https://localhost:8080/"
        },
        "id": "MvgyKGt8qK4x",
        "outputId": "6109a366-32b4-415b-f13a-8ebf57bfe36d"
      },
      "outputs": [
        {
          "output_type": "stream",
          "name": "stdout",
          "text": [
            "355\n"
          ]
        },
        {
          "output_type": "stream",
          "name": "stderr",
          "text": [
            "<ipython-input-8-13c686ec9d1f>:15: DeprecationWarning: `np.int` is a deprecated alias for the builtin `int`. To silence this warning, use `int` by itself. Doing this will not modify any behavior and is safe. When replacing `np.int`, you may wish to use e.g. `np.int64` or `np.int32` to specify the precision. If you wish to review your current use, check the release note link for additional information.\n",
            "Deprecated in NumPy 1.20; for more details and guidance: https://numpy.org/devdocs/release/1.20.0-notes.html#deprecations\n",
            "  X_aug, y_aug = np.zeros((augmented_sample_size, feature_size)), np.zeros((augmented_sample_size), dtype=np.int)\n"
          ]
        },
        {
          "output_type": "stream",
          "name": "stdout",
          "text": [
            "Train\n",
            "1000 pairs are selected for training\n",
            "len of pair_path_dict: 1000\n",
            "Num of training sample: 62140\n",
            "Train\n",
            "\n",
            "\n",
            "400\n",
            "Validation\n",
            "100 pairs are selected for training\n",
            "len of pair_path_dict: 100\n",
            "Num of training sample: 550\n",
            "Validation\n",
            "\n",
            "\n"
          ]
        }
      ],
      "source": [
        "X_train, y_train, G_train, _ = generate_samples_from_graph(num_node_pairs=1000, augmentation=True, augmentation_index=10, label='Train')\n",
        "X_val, y_val, G_val, _ = generate_samples_from_graph(num_node_pairs=100, augmentation=False, label='Validation')"
      ]
    },
    {
      "cell_type": "code",
      "execution_count": null,
      "metadata": {
        "id": "w9S5vWRCqKwI"
      },
      "outputs": [],
      "source": [
        "batch_size = 128\n",
        "\n",
        "train_iter = mx.io.NDArrayIter(X_train, y_train, batch_size, shuffle=True)\n",
        "val_iter = mx.io.NDArrayIter(X_val, y_val, batch_size=batch_size)"
      ]
    },
    {
      "cell_type": "code",
      "execution_count": null,
      "metadata": {
        "id": "eSfg3G6AqSHT"
      },
      "outputs": [],
      "source": [
        "def build_model(context=mx.gpu()):\n",
        "    \n",
        "    data = mx.sym.var('data')\n",
        "    label = mx.sym.var('softmax_label')\n",
        "    \n",
        "    fc1  = mx.sym.FullyConnected(data=data, num_hidden=2048)\n",
        "    fc1 = mx.sym.Activation(data=fc1, act_type=\"relu\")\n",
        "    fc1 = mx.sym.Dropout(data=fc1)\n",
        "    \n",
        "    fc2  = mx.sym.FullyConnected(data=fc1, num_hidden=1024)\n",
        "    fc2 = mx.sym.Activation(data=fc2, act_type=\"relu\")\n",
        "    fc2 = mx.sym.Dropout(data=fc2)\n",
        "    \n",
        "    fc3  = mx.sym.FullyConnected(data=fc2, num_hidden=max_degree)\n",
        "    mlp  = mx.sym.SoftmaxOutput(data=fc3, label=label)\n",
        "    \n",
        "    return mx.mod.Module(symbol=mlp, context=context)"
      ]
    },
    {
      "cell_type": "code",
      "execution_count": null,
      "metadata": {
        "id": "ufy6un0yqR-S"
      },
      "outputs": [],
      "source": [
        "logging.getLogger().setLevel(logging.DEBUG)  # logging to stdout\n",
        "model = build_model()\n",
        "model.bind(data_shapes=train_iter.provide_data, label_shapes=train_iter.provide_label)\n",
        "model.init_params()"
      ]
    },
    {
      "cell_type": "code",
      "execution_count": null,
      "metadata": {
        "colab": {
          "base_uri": "https://localhost:8080/"
        },
        "id": "we7tk4jhqWgG",
        "outputId": "27465127-1360-463b-e67f-e67e20fbb534"
      },
      "outputs": [
        {
          "output_type": "stream",
          "name": "stderr",
          "text": [
            "WARNING:root:Already bound, ignoring bind()\n",
            "/usr/local/lib/python3.8/dist-packages/mxnet/module/base_module.py:501: UserWarning: Parameters already initialized and force_init=False. init_params call ignored.\n",
            "  self.init_params(initializer=initializer, arg_params=arg_params, aux_params=aux_params,\n",
            "INFO:root:Epoch[0] Batch [0-200]\tSpeed: 16085.00 samples/sec\taccuracy=0.812228\n",
            "INFO:root:Epoch[0] Batch [200-400]\tSpeed: 25426.78 samples/sec\taccuracy=0.850234\n",
            "INFO:root:Epoch[0] Train-accuracy=0.834185\n",
            "INFO:root:Epoch[0] Time cost=3.236\n",
            "INFO:root:Epoch[0] Validation-accuracy=0.801562\n",
            "INFO:root:Epoch[1] Batch [0-200]\tSpeed: 26347.81 samples/sec\taccuracy=0.860580\n",
            "INFO:root:Epoch[1] Batch [200-400]\tSpeed: 26989.59 samples/sec\taccuracy=0.865078\n",
            "INFO:root:Epoch[1] Train-accuracy=0.862703\n",
            "INFO:root:Epoch[1] Time cost=2.308\n",
            "INFO:root:Epoch[1] Validation-accuracy=0.834375\n",
            "INFO:root:Epoch[2] Batch [0-200]\tSpeed: 25558.47 samples/sec\taccuracy=0.871113\n",
            "INFO:root:Epoch[2] Batch [200-400]\tSpeed: 26657.85 samples/sec\taccuracy=0.869336\n",
            "INFO:root:Epoch[2] Train-accuracy=0.869824\n",
            "INFO:root:Epoch[2] Time cost=2.390\n",
            "INFO:root:Epoch[2] Validation-accuracy=0.807813\n",
            "INFO:root:Epoch[3] Batch [0-200]\tSpeed: 23314.99 samples/sec\taccuracy=0.876205\n",
            "INFO:root:Epoch[3] Batch [200-400]\tSpeed: 22547.66 samples/sec\taccuracy=0.879102\n",
            "INFO:root:Epoch[3] Train-accuracy=0.878183\n",
            "INFO:root:Epoch[3] Time cost=2.684\n",
            "INFO:root:Epoch[3] Validation-accuracy=0.821875\n",
            "INFO:root:Epoch[4] Batch [0-200]\tSpeed: 17284.27 samples/sec\taccuracy=0.879275\n",
            "INFO:root:Epoch[4] Batch [200-400]\tSpeed: 18205.48 samples/sec\taccuracy=0.878750\n",
            "INFO:root:Epoch[4] Train-accuracy=0.880642\n",
            "INFO:root:Epoch[4] Time cost=3.332\n",
            "INFO:root:Epoch[4] Validation-accuracy=0.828125\n",
            "INFO:root:Epoch[5] Batch [0-200]\tSpeed: 56547.55 samples/sec\taccuracy=0.880908\n",
            "INFO:root:Epoch[5] Batch [200-400]\tSpeed: 69639.70 samples/sec\taccuracy=0.881914\n",
            "INFO:root:Epoch[5] Train-accuracy=0.882523\n",
            "INFO:root:Epoch[5] Time cost=0.994\n",
            "INFO:root:Epoch[5] Validation-accuracy=0.839063\n",
            "INFO:root:Epoch[6] Batch [0-200]\tSpeed: 66946.39 samples/sec\taccuracy=0.884678\n",
            "INFO:root:Epoch[6] Batch [200-400]\tSpeed: 71610.67 samples/sec\taccuracy=0.888477\n",
            "INFO:root:Epoch[6] Train-accuracy=0.887088\n",
            "INFO:root:Epoch[6] Time cost=0.918\n",
            "INFO:root:Epoch[6] Validation-accuracy=0.829688\n",
            "INFO:root:Epoch[7] Batch [0-200]\tSpeed: 66326.05 samples/sec\taccuracy=0.889031\n",
            "INFO:root:Epoch[7] Batch [200-400]\tSpeed: 70317.17 samples/sec\taccuracy=0.889453\n",
            "INFO:root:Epoch[7] Train-accuracy=0.889323\n",
            "INFO:root:Epoch[7] Time cost=0.925\n",
            "INFO:root:Epoch[7] Validation-accuracy=0.871875\n",
            "INFO:root:Epoch[8] Batch [0-200]\tSpeed: 65152.89 samples/sec\taccuracy=0.888448\n",
            "INFO:root:Epoch[8] Batch [200-400]\tSpeed: 64937.40 samples/sec\taccuracy=0.889687\n",
            "INFO:root:Epoch[8] Train-accuracy=0.889821\n",
            "INFO:root:Epoch[8] Time cost=0.972\n",
            "INFO:root:Epoch[8] Validation-accuracy=0.823438\n",
            "INFO:root:Epoch[9] Batch [0-200]\tSpeed: 62865.41 samples/sec\taccuracy=0.893773\n",
            "INFO:root:Epoch[9] Batch [200-400]\tSpeed: 66556.45 samples/sec\taccuracy=0.892344\n",
            "INFO:root:Epoch[9] Train-accuracy=0.892988\n",
            "INFO:root:Epoch[9] Time cost=0.966\n",
            "INFO:root:Epoch[9] Validation-accuracy=0.825000\n",
            "INFO:root:Epoch[10] Batch [0-200]\tSpeed: 63521.75 samples/sec\taccuracy=0.896028\n",
            "INFO:root:Epoch[10] Batch [200-400]\tSpeed: 68047.41 samples/sec\taccuracy=0.890625\n",
            "INFO:root:Epoch[10] Train-accuracy=0.893084\n",
            "INFO:root:Epoch[10] Time cost=0.950\n",
            "INFO:root:Epoch[10] Validation-accuracy=0.820312\n",
            "INFO:root:Epoch[11] Batch [0-200]\tSpeed: 62828.48 samples/sec\taccuracy=0.895406\n",
            "INFO:root:Epoch[11] Batch [200-400]\tSpeed: 66333.55 samples/sec\taccuracy=0.896953\n",
            "INFO:root:Epoch[11] Train-accuracy=0.897360\n",
            "INFO:root:Epoch[11] Time cost=0.963\n",
            "INFO:root:Epoch[11] Validation-accuracy=0.848437\n",
            "INFO:root:Epoch[12] Batch [0-200]\tSpeed: 61596.41 samples/sec\taccuracy=0.895911\n",
            "INFO:root:Epoch[12] Batch [200-400]\tSpeed: 67970.35 samples/sec\taccuracy=0.897188\n",
            "INFO:root:Epoch[12] Train-accuracy=0.897409\n",
            "INFO:root:Epoch[12] Time cost=0.989\n",
            "INFO:root:Epoch[12] Validation-accuracy=0.839063\n",
            "INFO:root:Epoch[13] Batch [0-200]\tSpeed: 64979.72 samples/sec\taccuracy=0.901042\n",
            "INFO:root:Epoch[13] Batch [200-400]\tSpeed: 68780.18 samples/sec\taccuracy=0.899297\n",
            "INFO:root:Epoch[13] Train-accuracy=0.898904\n",
            "INFO:root:Epoch[13] Time cost=0.944\n",
            "INFO:root:Epoch[13] Validation-accuracy=0.850000\n",
            "INFO:root:Epoch[14] Batch [0-200]\tSpeed: 62908.36 samples/sec\taccuracy=0.903335\n",
            "INFO:root:Epoch[14] Batch [200-400]\tSpeed: 66136.98 samples/sec\taccuracy=0.900625\n",
            "INFO:root:Epoch[14] Train-accuracy=0.901604\n",
            "INFO:root:Epoch[14] Time cost=1.097\n",
            "INFO:root:Epoch[14] Validation-accuracy=0.823438\n",
            "INFO:root:Epoch[15] Batch [0-200]\tSpeed: 39115.95 samples/sec\taccuracy=0.899370\n",
            "INFO:root:Epoch[15] Batch [200-400]\tSpeed: 38519.04 samples/sec\taccuracy=0.901367\n",
            "INFO:root:Epoch[15] Train-accuracy=0.900592\n",
            "INFO:root:Epoch[15] Time cost=1.620\n",
            "INFO:root:Epoch[15] Validation-accuracy=0.848437\n",
            "INFO:root:Epoch[16] Batch [0-200]\tSpeed: 43892.34 samples/sec\taccuracy=0.903490\n",
            "INFO:root:Epoch[16] Batch [200-400]\tSpeed: 69106.74 samples/sec\taccuracy=0.901875\n",
            "INFO:root:Epoch[16] Train-accuracy=0.903148\n",
            "INFO:root:Epoch[16] Time cost=1.127\n",
            "INFO:root:Epoch[16] Validation-accuracy=0.850000\n",
            "INFO:root:Epoch[17] Batch [0-200]\tSpeed: 65480.77 samples/sec\taccuracy=0.905861\n",
            "INFO:root:Epoch[17] Batch [200-400]\tSpeed: 64427.98 samples/sec\taccuracy=0.900742\n",
            "INFO:root:Epoch[17] Train-accuracy=0.903646\n",
            "INFO:root:Epoch[17] Time cost=0.954\n",
            "INFO:root:Epoch[17] Validation-accuracy=0.826562\n",
            "INFO:root:Epoch[18] Batch [0-200]\tSpeed: 66061.22 samples/sec\taccuracy=0.903801\n",
            "INFO:root:Epoch[18] Batch [200-400]\tSpeed: 65979.78 samples/sec\taccuracy=0.904727\n",
            "INFO:root:Epoch[18] Train-accuracy=0.904610\n",
            "INFO:root:Epoch[18] Time cost=0.939\n",
            "INFO:root:Epoch[18] Validation-accuracy=0.839063\n",
            "INFO:root:Epoch[19] Batch [0-200]\tSpeed: 68221.34 samples/sec\taccuracy=0.905395\n",
            "INFO:root:Epoch[19] Batch [200-400]\tSpeed: 66829.31 samples/sec\taccuracy=0.902227\n",
            "INFO:root:Epoch[19] Train-accuracy=0.904594\n",
            "INFO:root:Epoch[19] Time cost=0.939\n",
            "INFO:root:Epoch[19] Validation-accuracy=0.857812\n",
            "INFO:root:Epoch[20] Batch [0-200]\tSpeed: 68857.32 samples/sec\taccuracy=0.906133\n",
            "INFO:root:Epoch[20] Batch [200-400]\tSpeed: 65254.02 samples/sec\taccuracy=0.907539\n",
            "INFO:root:Epoch[20] Train-accuracy=0.906073\n",
            "INFO:root:Epoch[20] Time cost=0.929\n",
            "INFO:root:Epoch[20] Validation-accuracy=0.850000\n",
            "INFO:root:Epoch[21] Batch [0-200]\tSpeed: 68279.86 samples/sec\taccuracy=0.907183\n",
            "INFO:root:Epoch[21] Batch [200-400]\tSpeed: 67111.30 samples/sec\taccuracy=0.907930\n",
            "INFO:root:Epoch[21] Train-accuracy=0.907761\n",
            "INFO:root:Epoch[21] Time cost=0.922\n",
            "INFO:root:Epoch[21] Validation-accuracy=0.843750\n",
            "INFO:root:Epoch[22] Batch [0-200]\tSpeed: 67014.96 samples/sec\taccuracy=0.906017\n",
            "INFO:root:Epoch[22] Batch [200-400]\tSpeed: 63131.39 samples/sec\taccuracy=0.905703\n",
            "INFO:root:Epoch[22] Train-accuracy=0.905784\n",
            "INFO:root:Epoch[22] Time cost=0.953\n",
            "INFO:root:Epoch[22] Validation-accuracy=0.843750\n",
            "INFO:root:Epoch[23] Batch [0-200]\tSpeed: 69594.02 samples/sec\taccuracy=0.908155\n",
            "INFO:root:Epoch[23] Batch [200-400]\tSpeed: 64368.50 samples/sec\taccuracy=0.906914\n",
            "INFO:root:Epoch[23] Train-accuracy=0.906957\n",
            "INFO:root:Epoch[23] Time cost=0.936\n",
            "INFO:root:Epoch[23] Validation-accuracy=0.826562\n",
            "INFO:root:Epoch[24] Batch [0-200]\tSpeed: 69190.55 samples/sec\taccuracy=0.907727\n",
            "INFO:root:Epoch[24] Batch [200-400]\tSpeed: 65891.88 samples/sec\taccuracy=0.906914\n",
            "INFO:root:Epoch[24] Train-accuracy=0.908131\n",
            "INFO:root:Epoch[24] Time cost=0.923\n",
            "INFO:root:Epoch[24] Validation-accuracy=0.828125\n",
            "INFO:root:Epoch[25] Batch [0-200]\tSpeed: 68723.08 samples/sec\taccuracy=0.910253\n",
            "INFO:root:Epoch[25] Batch [200-400]\tSpeed: 63490.95 samples/sec\taccuracy=0.908984\n",
            "INFO:root:Epoch[25] Train-accuracy=0.909465\n",
            "INFO:root:Epoch[25] Time cost=0.935\n",
            "INFO:root:Epoch[25] Validation-accuracy=0.851562\n",
            "INFO:root:Epoch[26] Batch [0-200]\tSpeed: 67734.35 samples/sec\taccuracy=0.910992\n",
            "INFO:root:Epoch[26] Batch [200-400]\tSpeed: 41696.64 samples/sec\taccuracy=0.910391\n",
            "INFO:root:Epoch[26] Train-accuracy=0.911539\n",
            "INFO:root:Epoch[26] Time cost=1.278\n",
            "INFO:root:Epoch[26] Validation-accuracy=0.829688\n",
            "INFO:root:Epoch[27] Batch [0-200]\tSpeed: 38035.93 samples/sec\taccuracy=0.910137\n",
            "INFO:root:Epoch[27] Batch [200-400]\tSpeed: 36941.09 samples/sec\taccuracy=0.909609\n",
            "INFO:root:Epoch[27] Train-accuracy=0.909642\n",
            "INFO:root:Epoch[27] Time cost=1.633\n",
            "INFO:root:Epoch[27] Validation-accuracy=0.835938\n",
            "INFO:root:Epoch[28] Batch [0-200]\tSpeed: 69214.23 samples/sec\taccuracy=0.915501\n",
            "INFO:root:Epoch[28] Batch [200-400]\tSpeed: 66512.62 samples/sec\taccuracy=0.912461\n",
            "INFO:root:Epoch[28] Train-accuracy=0.912600\n",
            "INFO:root:Epoch[28] Time cost=0.934\n",
            "INFO:root:Epoch[28] Validation-accuracy=0.851562\n",
            "INFO:root:Epoch[29] Batch [0-200]\tSpeed: 66219.41 samples/sec\taccuracy=0.907455\n",
            "INFO:root:Epoch[29] Batch [200-400]\tSpeed: 66544.57 samples/sec\taccuracy=0.908359\n",
            "INFO:root:Epoch[29] Train-accuracy=0.909915\n",
            "INFO:root:Epoch[29] Time cost=0.959\n",
            "INFO:root:Epoch[29] Validation-accuracy=0.870313\n",
            "INFO:root:Epoch[30] Batch [0-200]\tSpeed: 69059.45 samples/sec\taccuracy=0.909904\n",
            "INFO:root:Epoch[30] Batch [200-400]\tSpeed: 66743.53 samples/sec\taccuracy=0.910000\n",
            "INFO:root:Epoch[30] Train-accuracy=0.910365\n",
            "INFO:root:Epoch[30] Time cost=0.939\n",
            "INFO:root:Epoch[30] Validation-accuracy=0.843750\n",
            "INFO:root:Epoch[31] Batch [0-200]\tSpeed: 66757.64 samples/sec\taccuracy=0.911653\n",
            "INFO:root:Epoch[31] Batch [200-400]\tSpeed: 67161.29 samples/sec\taccuracy=0.914180\n",
            "INFO:root:Epoch[31] Train-accuracy=0.911860\n",
            "INFO:root:Epoch[31] Time cost=0.961\n",
            "INFO:root:Epoch[31] Validation-accuracy=0.829688\n",
            "INFO:root:Epoch[32] Batch [0-200]\tSpeed: 64642.43 samples/sec\taccuracy=0.909709\n",
            "INFO:root:Epoch[32] Batch [200-400]\tSpeed: 68523.44 samples/sec\taccuracy=0.913438\n",
            "INFO:root:Epoch[32] Train-accuracy=0.911442\n",
            "INFO:root:Epoch[32] Time cost=0.963\n",
            "INFO:root:Epoch[32] Validation-accuracy=0.842187\n",
            "INFO:root:Epoch[33] Batch [0-200]\tSpeed: 69447.06 samples/sec\taccuracy=0.912935\n",
            "INFO:root:Epoch[33] Batch [200-400]\tSpeed: 66957.16 samples/sec\taccuracy=0.915117\n",
            "INFO:root:Epoch[33] Train-accuracy=0.914416\n",
            "INFO:root:Epoch[33] Time cost=0.919\n",
            "INFO:root:Epoch[33] Validation-accuracy=0.846875\n",
            "INFO:root:Epoch[34] Batch [0-200]\tSpeed: 68350.54 samples/sec\taccuracy=0.912469\n",
            "INFO:root:Epoch[34] Batch [200-400]\tSpeed: 66029.69 samples/sec\taccuracy=0.909453\n",
            "INFO:root:Epoch[34] Train-accuracy=0.911073\n",
            "INFO:root:Epoch[34] Time cost=0.935\n",
            "INFO:root:Epoch[34] Validation-accuracy=0.848437\n",
            "INFO:root:Epoch[35] Batch [0-200]\tSpeed: 69228.06 samples/sec\taccuracy=0.913946\n",
            "INFO:root:Epoch[35] Batch [200-400]\tSpeed: 66867.97 samples/sec\taccuracy=0.915781\n",
            "INFO:root:Epoch[35] Train-accuracy=0.914223\n",
            "INFO:root:Epoch[35] Time cost=0.940\n",
            "INFO:root:Epoch[35] Validation-accuracy=0.825000\n",
            "INFO:root:Epoch[36] Batch [0-200]\tSpeed: 68291.59 samples/sec\taccuracy=0.914607\n",
            "INFO:root:Epoch[36] Batch [200-400]\tSpeed: 67975.47 samples/sec\taccuracy=0.913242\n",
            "INFO:root:Epoch[36] Train-accuracy=0.913805\n",
            "INFO:root:Epoch[36] Time cost=0.925\n",
            "INFO:root:Epoch[36] Validation-accuracy=0.834375\n",
            "INFO:root:Epoch[37] Batch [0-200]\tSpeed: 66410.72 samples/sec\taccuracy=0.913790\n",
            "INFO:root:Epoch[37] Batch [200-400]\tSpeed: 68039.43 samples/sec\taccuracy=0.911992\n",
            "INFO:root:Epoch[37] Train-accuracy=0.913178\n",
            "INFO:root:Epoch[37] Time cost=0.937\n",
            "INFO:root:Epoch[37] Validation-accuracy=0.854688\n",
            "INFO:root:Epoch[38] Batch [0-200]\tSpeed: 40872.81 samples/sec\taccuracy=0.916472\n",
            "INFO:root:Epoch[38] Batch [200-400]\tSpeed: 39766.49 samples/sec\taccuracy=0.912500\n",
            "INFO:root:Epoch[38] Train-accuracy=0.914722\n",
            "INFO:root:Epoch[38] Time cost=1.560\n",
            "INFO:root:Epoch[38] Validation-accuracy=0.862500\n",
            "INFO:root:Epoch[39] Batch [0-200]\tSpeed: 36571.10 samples/sec\taccuracy=0.915578\n",
            "INFO:root:Epoch[39] Batch [200-400]\tSpeed: 54888.83 samples/sec\taccuracy=0.913828\n",
            "INFO:root:Epoch[39] Train-accuracy=0.914947\n",
            "INFO:root:Epoch[39] Time cost=1.335\n",
            "INFO:root:Epoch[39] Validation-accuracy=0.848437\n",
            "INFO:root:Epoch[40] Batch [0-200]\tSpeed: 65000.18 samples/sec\taccuracy=0.915151\n",
            "INFO:root:Epoch[40] Batch [200-400]\tSpeed: 70353.80 samples/sec\taccuracy=0.911797\n",
            "INFO:root:Epoch[40] Train-accuracy=0.913805\n",
            "INFO:root:Epoch[40] Time cost=0.916\n",
            "INFO:root:Epoch[40] Validation-accuracy=0.857812\n",
            "INFO:root:Epoch[41] Batch [0-200]\tSpeed: 64082.18 samples/sec\taccuracy=0.916706\n",
            "INFO:root:Epoch[41] Batch [200-400]\tSpeed: 64939.44 samples/sec\taccuracy=0.914570\n",
            "INFO:root:Epoch[41] Train-accuracy=0.915059\n",
            "INFO:root:Epoch[41] Time cost=0.960\n",
            "INFO:root:Epoch[41] Validation-accuracy=0.848437\n",
            "INFO:root:Epoch[42] Batch [0-200]\tSpeed: 62402.76 samples/sec\taccuracy=0.917016\n",
            "INFO:root:Epoch[42] Batch [200-400]\tSpeed: 65782.77 samples/sec\taccuracy=0.919414\n",
            "INFO:root:Epoch[42] Train-accuracy=0.918146\n",
            "INFO:root:Epoch[42] Time cost=0.962\n",
            "INFO:root:Epoch[42] Validation-accuracy=0.850000\n",
            "INFO:root:Epoch[43] Batch [0-200]\tSpeed: 65979.70 samples/sec\taccuracy=0.915617\n",
            "INFO:root:Epoch[43] Batch [200-400]\tSpeed: 63298.79 samples/sec\taccuracy=0.915625\n",
            "INFO:root:Epoch[43] Train-accuracy=0.915365\n",
            "INFO:root:Epoch[43] Time cost=0.954\n",
            "INFO:root:Epoch[43] Validation-accuracy=0.857812\n",
            "INFO:root:Epoch[44] Batch [0-200]\tSpeed: 65199.93 samples/sec\taccuracy=0.916783\n",
            "INFO:root:Epoch[44] Batch [200-400]\tSpeed: 63267.83 samples/sec\taccuracy=0.916445\n",
            "INFO:root:Epoch[44] Train-accuracy=0.917422\n",
            "INFO:root:Epoch[44] Time cost=0.962\n",
            "INFO:root:Epoch[44] Validation-accuracy=0.845313\n",
            "INFO:root:Epoch[45] Batch [0-200]\tSpeed: 66910.68 samples/sec\taccuracy=0.914024\n",
            "INFO:root:Epoch[45] Batch [200-400]\tSpeed: 63501.16 samples/sec\taccuracy=0.917500\n",
            "INFO:root:Epoch[45] Train-accuracy=0.915895\n",
            "INFO:root:Epoch[45] Time cost=0.946\n",
            "INFO:root:Epoch[45] Validation-accuracy=0.845313\n",
            "INFO:root:Epoch[46] Batch [0-200]\tSpeed: 64684.76 samples/sec\taccuracy=0.918338\n",
            "INFO:root:Epoch[46] Batch [200-400]\tSpeed: 63811.37 samples/sec\taccuracy=0.915898\n",
            "INFO:root:Epoch[46] Train-accuracy=0.916795\n",
            "INFO:root:Epoch[46] Time cost=0.958\n",
            "INFO:root:Epoch[46] Validation-accuracy=0.845313\n",
            "INFO:root:Epoch[47] Batch [0-200]\tSpeed: 63077.72 samples/sec\taccuracy=0.915928\n",
            "INFO:root:Epoch[47] Batch [200-400]\tSpeed: 65174.60 samples/sec\taccuracy=0.917305\n",
            "INFO:root:Epoch[47] Train-accuracy=0.916313\n",
            "INFO:root:Epoch[47] Time cost=0.955\n",
            "INFO:root:Epoch[47] Validation-accuracy=0.857812\n",
            "INFO:root:Epoch[48] Batch [0-200]\tSpeed: 67497.10 samples/sec\taccuracy=0.917561\n",
            "INFO:root:Epoch[48] Batch [200-400]\tSpeed: 63886.89 samples/sec\taccuracy=0.915117\n",
            "INFO:root:Epoch[48] Train-accuracy=0.916217\n",
            "INFO:root:Epoch[48] Time cost=0.937\n",
            "INFO:root:Epoch[48] Validation-accuracy=0.846875\n",
            "INFO:root:Epoch[49] Batch [0-200]\tSpeed: 65989.03 samples/sec\taccuracy=0.918727\n",
            "INFO:root:Epoch[49] Batch [200-400]\tSpeed: 53350.90 samples/sec\taccuracy=0.917266\n",
            "INFO:root:Epoch[49] Train-accuracy=0.917872\n",
            "INFO:root:Epoch[49] Time cost=1.146\n",
            "INFO:root:Epoch[49] Validation-accuracy=0.814063\n"
          ]
        }
      ],
      "source": [
        "model.fit(train_iter,  # train data\n",
        "              eval_data=val_iter,  # validation data\n",
        "              optimizer='adam',  # use SGD to train\n",
        "#               optimizer_params={'learning_rate':0.01, 'momentum': 0.9},\n",
        "              eval_metric='acc',  # report accuracy during training\n",
        "              batch_end_callback = mx.callback.Speedometer(batch_size, 200),\n",
        "#               epoch_end_callback = mx.callback.do_checkpoint(\"mymodel\", 1),\n",
        "              num_epoch=50) "
      ]
    },
    {
      "cell_type": "code",
      "execution_count": null,
      "metadata": {
        "colab": {
          "base_uri": "https://localhost:8080/"
        },
        "id": "QZLjGbP6qY1Z",
        "outputId": "ee5c445c-f7eb-460b-b9d9-671f6126e576"
      },
      "outputs": [
        {
          "output_type": "stream",
          "name": "stdout",
          "text": [
            "370\n",
            "Test\n",
            "200 pairs are selected for training\n",
            "len of pair_path_dict: 200\n",
            "Num of training sample: 1162\n",
            "Test\n",
            "\n",
            "\n",
            "Accuracy on test set: 0.888985\n"
          ]
        },
        {
          "output_type": "stream",
          "name": "stderr",
          "text": [
            "<ipython-input-8-13c686ec9d1f>:15: DeprecationWarning: `np.int` is a deprecated alias for the builtin `int`. To silence this warning, use `int` by itself. Doing this will not modify any behavior and is safe. When replacing `np.int`, you may wish to use e.g. `np.int64` or `np.int32` to specify the precision. If you wish to review your current use, check the release note link for additional information.\n",
            "Deprecated in NumPy 1.20; for more details and guidance: https://numpy.org/devdocs/release/1.20.0-notes.html#deprecations\n",
            "  X_aug, y_aug = np.zeros((augmented_sample_size, feature_size)), np.zeros((augmented_sample_size), dtype=np.int)\n"
          ]
        }
      ],
      "source": [
        "X_test, y_test, G_test, _ = generate_samples_from_graph(num_node_pairs=200, graph_size=50, augmentation=False, augmentation_index=1, label='Test')\n",
        "pred_test = np.argmax(model.predict(mx.io.NDArrayIter(X_test, y_test, batch_size=128)).asnumpy(), axis=1)\n",
        "acc = accuracy_score(y_test, pred_test)\n",
        "print(\"Accuracy on test set: %f\" % (acc))"
      ]
    },
    {
      "cell_type": "code",
      "execution_count": null,
      "metadata": {
        "id": "ukKHKpOTqeHl"
      },
      "outputs": [],
      "source": [
        "\n",
        "graph_sizes = [50, 100, 150]\n",
        "stats = [[] for _ in range(len(graph_sizes))]\n",
        "sample_size_stats = [[] for _ in range(len(graph_sizes))]\n",
        "number_of_tests = 50\n",
        "num_node_pairs = 300"
      ]
    },
    {
      "cell_type": "code",
      "execution_count": null,
      "metadata": {
        "colab": {
          "base_uri": "https://localhost:8080/"
        },
        "id": "i-4SB2T-qeBi",
        "outputId": "93421141-0b2f-4879-91b0-8bbbd8464924"
      },
      "outputs": [
        {
          "output_type": "stream",
          "name": "stdout",
          "text": [
            "Working on graphs with 50 nodes\n",
            "400\n"
          ]
        },
        {
          "output_type": "stream",
          "name": "stderr",
          "text": [
            "<ipython-input-8-13c686ec9d1f>:15: DeprecationWarning: `np.int` is a deprecated alias for the builtin `int`. To silence this warning, use `int` by itself. Doing this will not modify any behavior and is safe. When replacing `np.int`, you may wish to use e.g. `np.int64` or `np.int32` to specify the precision. If you wish to review your current use, check the release note link for additional information.\n",
            "Deprecated in NumPy 1.20; for more details and guidance: https://numpy.org/devdocs/release/1.20.0-notes.html#deprecations\n",
            "  X_aug, y_aug = np.zeros((augmented_sample_size, feature_size)), np.zeros((augmented_sample_size), dtype=np.int)\n"
          ]
        },
        {
          "output_type": "stream",
          "name": "stdout",
          "text": [
            "Test\n",
            "300 pairs are selected for training\n",
            "len of pair_path_dict: 300\n",
            "Num of training sample: 1542\n",
            "Test\n",
            "\n",
            "\n",
            "405\n"
          ]
        },
        {
          "output_type": "stream",
          "name": "stderr",
          "text": [
            "<ipython-input-8-13c686ec9d1f>:15: DeprecationWarning: `np.int` is a deprecated alias for the builtin `int`. To silence this warning, use `int` by itself. Doing this will not modify any behavior and is safe. When replacing `np.int`, you may wish to use e.g. `np.int64` or `np.int32` to specify the precision. If you wish to review your current use, check the release note link for additional information.\n",
            "Deprecated in NumPy 1.20; for more details and guidance: https://numpy.org/devdocs/release/1.20.0-notes.html#deprecations\n",
            "  X_aug, y_aug = np.zeros((augmented_sample_size, feature_size)), np.zeros((augmented_sample_size), dtype=np.int)\n"
          ]
        },
        {
          "output_type": "stream",
          "name": "stdout",
          "text": [
            "Test\n",
            "300 pairs are selected for training\n",
            "len of pair_path_dict: 300\n",
            "Num of training sample: 1698\n",
            "Test\n",
            "\n",
            "\n",
            "335\n"
          ]
        },
        {
          "output_type": "stream",
          "name": "stderr",
          "text": [
            "<ipython-input-8-13c686ec9d1f>:15: DeprecationWarning: `np.int` is a deprecated alias for the builtin `int`. To silence this warning, use `int` by itself. Doing this will not modify any behavior and is safe. When replacing `np.int`, you may wish to use e.g. `np.int64` or `np.int32` to specify the precision. If you wish to review your current use, check the release note link for additional information.\n",
            "Deprecated in NumPy 1.20; for more details and guidance: https://numpy.org/devdocs/release/1.20.0-notes.html#deprecations\n",
            "  X_aug, y_aug = np.zeros((augmented_sample_size, feature_size)), np.zeros((augmented_sample_size), dtype=np.int)\n"
          ]
        },
        {
          "output_type": "stream",
          "name": "stdout",
          "text": [
            "Test\n",
            "300 pairs are selected for training\n",
            "len of pair_path_dict: 300\n",
            "Num of training sample: 1978\n",
            "Test\n",
            "\n",
            "\n",
            "375\n"
          ]
        },
        {
          "output_type": "stream",
          "name": "stderr",
          "text": [
            "<ipython-input-8-13c686ec9d1f>:15: DeprecationWarning: `np.int` is a deprecated alias for the builtin `int`. To silence this warning, use `int` by itself. Doing this will not modify any behavior and is safe. When replacing `np.int`, you may wish to use e.g. `np.int64` or `np.int32` to specify the precision. If you wish to review your current use, check the release note link for additional information.\n",
            "Deprecated in NumPy 1.20; for more details and guidance: https://numpy.org/devdocs/release/1.20.0-notes.html#deprecations\n",
            "  X_aug, y_aug = np.zeros((augmented_sample_size, feature_size)), np.zeros((augmented_sample_size), dtype=np.int)\n"
          ]
        },
        {
          "output_type": "stream",
          "name": "stdout",
          "text": [
            "Test\n",
            "300 pairs are selected for training\n",
            "len of pair_path_dict: 300\n",
            "Num of training sample: 1658\n",
            "Test\n",
            "\n",
            "\n",
            "465\n"
          ]
        },
        {
          "output_type": "stream",
          "name": "stderr",
          "text": [
            "<ipython-input-8-13c686ec9d1f>:15: DeprecationWarning: `np.int` is a deprecated alias for the builtin `int`. To silence this warning, use `int` by itself. Doing this will not modify any behavior and is safe. When replacing `np.int`, you may wish to use e.g. `np.int64` or `np.int32` to specify the precision. If you wish to review your current use, check the release note link for additional information.\n",
            "Deprecated in NumPy 1.20; for more details and guidance: https://numpy.org/devdocs/release/1.20.0-notes.html#deprecations\n",
            "  X_aug, y_aug = np.zeros((augmented_sample_size, feature_size)), np.zeros((augmented_sample_size), dtype=np.int)\n"
          ]
        },
        {
          "output_type": "stream",
          "name": "stdout",
          "text": [
            "Test\n",
            "300 pairs are selected for training\n",
            "len of pair_path_dict: 300\n",
            "Num of training sample: 2172\n",
            "Test\n",
            "\n",
            "\n",
            "Processed 5 graphs\n",
            "345\n"
          ]
        },
        {
          "output_type": "stream",
          "name": "stderr",
          "text": [
            "<ipython-input-8-13c686ec9d1f>:15: DeprecationWarning: `np.int` is a deprecated alias for the builtin `int`. To silence this warning, use `int` by itself. Doing this will not modify any behavior and is safe. When replacing `np.int`, you may wish to use e.g. `np.int64` or `np.int32` to specify the precision. If you wish to review your current use, check the release note link for additional information.\n",
            "Deprecated in NumPy 1.20; for more details and guidance: https://numpy.org/devdocs/release/1.20.0-notes.html#deprecations\n",
            "  X_aug, y_aug = np.zeros((augmented_sample_size, feature_size)), np.zeros((augmented_sample_size), dtype=np.int)\n"
          ]
        },
        {
          "output_type": "stream",
          "name": "stdout",
          "text": [
            "Test\n",
            "300 pairs are selected for training\n",
            "len of pair_path_dict: 300\n",
            "Num of training sample: 1624\n",
            "Test\n",
            "\n",
            "\n",
            "355\n",
            "335\n"
          ]
        },
        {
          "output_type": "stream",
          "name": "stderr",
          "text": [
            "<ipython-input-8-13c686ec9d1f>:15: DeprecationWarning: `np.int` is a deprecated alias for the builtin `int`. To silence this warning, use `int` by itself. Doing this will not modify any behavior and is safe. When replacing `np.int`, you may wish to use e.g. `np.int64` or `np.int32` to specify the precision. If you wish to review your current use, check the release note link for additional information.\n",
            "Deprecated in NumPy 1.20; for more details and guidance: https://numpy.org/devdocs/release/1.20.0-notes.html#deprecations\n",
            "  X_aug, y_aug = np.zeros((augmented_sample_size, feature_size)), np.zeros((augmented_sample_size), dtype=np.int)\n"
          ]
        },
        {
          "output_type": "stream",
          "name": "stdout",
          "text": [
            "Test\n",
            "300 pairs are selected for training\n",
            "len of pair_path_dict: 300\n",
            "Num of training sample: 1452\n",
            "Test\n",
            "\n",
            "\n",
            "410\n",
            "330\n",
            "420\n"
          ]
        },
        {
          "output_type": "stream",
          "name": "stderr",
          "text": [
            "<ipython-input-8-13c686ec9d1f>:15: DeprecationWarning: `np.int` is a deprecated alias for the builtin `int`. To silence this warning, use `int` by itself. Doing this will not modify any behavior and is safe. When replacing `np.int`, you may wish to use e.g. `np.int64` or `np.int32` to specify the precision. If you wish to review your current use, check the release note link for additional information.\n",
            "Deprecated in NumPy 1.20; for more details and guidance: https://numpy.org/devdocs/release/1.20.0-notes.html#deprecations\n",
            "  X_aug, y_aug = np.zeros((augmented_sample_size, feature_size)), np.zeros((augmented_sample_size), dtype=np.int)\n"
          ]
        },
        {
          "output_type": "stream",
          "name": "stdout",
          "text": [
            "Test\n",
            "300 pairs are selected for training\n",
            "len of pair_path_dict: 300\n",
            "Num of training sample: 1622\n",
            "Test\n",
            "\n",
            "\n",
            "385\n"
          ]
        },
        {
          "output_type": "stream",
          "name": "stderr",
          "text": [
            "<ipython-input-8-13c686ec9d1f>:15: DeprecationWarning: `np.int` is a deprecated alias for the builtin `int`. To silence this warning, use `int` by itself. Doing this will not modify any behavior and is safe. When replacing `np.int`, you may wish to use e.g. `np.int64` or `np.int32` to specify the precision. If you wish to review your current use, check the release note link for additional information.\n",
            "Deprecated in NumPy 1.20; for more details and guidance: https://numpy.org/devdocs/release/1.20.0-notes.html#deprecations\n",
            "  X_aug, y_aug = np.zeros((augmented_sample_size, feature_size)), np.zeros((augmented_sample_size), dtype=np.int)\n"
          ]
        },
        {
          "output_type": "stream",
          "name": "stdout",
          "text": [
            "Test\n",
            "300 pairs are selected for training\n",
            "len of pair_path_dict: 300\n",
            "Num of training sample: 1618\n",
            "Test\n",
            "\n",
            "\n",
            "365\n",
            "380\n"
          ]
        },
        {
          "output_type": "stream",
          "name": "stderr",
          "text": [
            "<ipython-input-8-13c686ec9d1f>:15: DeprecationWarning: `np.int` is a deprecated alias for the builtin `int`. To silence this warning, use `int` by itself. Doing this will not modify any behavior and is safe. When replacing `np.int`, you may wish to use e.g. `np.int64` or `np.int32` to specify the precision. If you wish to review your current use, check the release note link for additional information.\n",
            "Deprecated in NumPy 1.20; for more details and guidance: https://numpy.org/devdocs/release/1.20.0-notes.html#deprecations\n",
            "  X_aug, y_aug = np.zeros((augmented_sample_size, feature_size)), np.zeros((augmented_sample_size), dtype=np.int)\n"
          ]
        },
        {
          "output_type": "stream",
          "name": "stdout",
          "text": [
            "Test\n",
            "300 pairs are selected for training\n",
            "len of pair_path_dict: 300\n",
            "Num of training sample: 1728\n",
            "Test\n",
            "\n",
            "\n",
            "Processed 10 graphs\n",
            "405\n"
          ]
        },
        {
          "output_type": "stream",
          "name": "stderr",
          "text": [
            "<ipython-input-8-13c686ec9d1f>:15: DeprecationWarning: `np.int` is a deprecated alias for the builtin `int`. To silence this warning, use `int` by itself. Doing this will not modify any behavior and is safe. When replacing `np.int`, you may wish to use e.g. `np.int64` or `np.int32` to specify the precision. If you wish to review your current use, check the release note link for additional information.\n",
            "Deprecated in NumPy 1.20; for more details and guidance: https://numpy.org/devdocs/release/1.20.0-notes.html#deprecations\n",
            "  X_aug, y_aug = np.zeros((augmented_sample_size, feature_size)), np.zeros((augmented_sample_size), dtype=np.int)\n"
          ]
        },
        {
          "output_type": "stream",
          "name": "stdout",
          "text": [
            "Test\n",
            "300 pairs are selected for training\n",
            "len of pair_path_dict: 300\n",
            "Num of training sample: 1612\n",
            "Test\n",
            "\n",
            "\n",
            "385\n"
          ]
        },
        {
          "output_type": "stream",
          "name": "stderr",
          "text": [
            "<ipython-input-8-13c686ec9d1f>:15: DeprecationWarning: `np.int` is a deprecated alias for the builtin `int`. To silence this warning, use `int` by itself. Doing this will not modify any behavior and is safe. When replacing `np.int`, you may wish to use e.g. `np.int64` or `np.int32` to specify the precision. If you wish to review your current use, check the release note link for additional information.\n",
            "Deprecated in NumPy 1.20; for more details and guidance: https://numpy.org/devdocs/release/1.20.0-notes.html#deprecations\n",
            "  X_aug, y_aug = np.zeros((augmented_sample_size, feature_size)), np.zeros((augmented_sample_size), dtype=np.int)\n"
          ]
        },
        {
          "output_type": "stream",
          "name": "stdout",
          "text": [
            "Test\n",
            "300 pairs are selected for training\n",
            "len of pair_path_dict: 300\n",
            "Num of training sample: 2076\n",
            "Test\n",
            "\n",
            "\n",
            "335\n",
            "325\n"
          ]
        },
        {
          "output_type": "stream",
          "name": "stderr",
          "text": [
            "<ipython-input-8-13c686ec9d1f>:15: DeprecationWarning: `np.int` is a deprecated alias for the builtin `int`. To silence this warning, use `int` by itself. Doing this will not modify any behavior and is safe. When replacing `np.int`, you may wish to use e.g. `np.int64` or `np.int32` to specify the precision. If you wish to review your current use, check the release note link for additional information.\n",
            "Deprecated in NumPy 1.20; for more details and guidance: https://numpy.org/devdocs/release/1.20.0-notes.html#deprecations\n",
            "  X_aug, y_aug = np.zeros((augmented_sample_size, feature_size)), np.zeros((augmented_sample_size), dtype=np.int)\n"
          ]
        },
        {
          "output_type": "stream",
          "name": "stdout",
          "text": [
            "Test\n",
            "300 pairs are selected for training\n",
            "len of pair_path_dict: 300\n",
            "Num of training sample: 1576\n",
            "Test\n",
            "\n",
            "\n",
            "395\n",
            "405\n"
          ]
        },
        {
          "output_type": "stream",
          "name": "stderr",
          "text": [
            "<ipython-input-8-13c686ec9d1f>:15: DeprecationWarning: `np.int` is a deprecated alias for the builtin `int`. To silence this warning, use `int` by itself. Doing this will not modify any behavior and is safe. When replacing `np.int`, you may wish to use e.g. `np.int64` or `np.int32` to specify the precision. If you wish to review your current use, check the release note link for additional information.\n",
            "Deprecated in NumPy 1.20; for more details and guidance: https://numpy.org/devdocs/release/1.20.0-notes.html#deprecations\n",
            "  X_aug, y_aug = np.zeros((augmented_sample_size, feature_size)), np.zeros((augmented_sample_size), dtype=np.int)\n"
          ]
        },
        {
          "output_type": "stream",
          "name": "stdout",
          "text": [
            "Test\n",
            "300 pairs are selected for training\n",
            "len of pair_path_dict: 300\n",
            "Num of training sample: 1588\n",
            "Test\n",
            "\n",
            "\n",
            "320\n"
          ]
        },
        {
          "output_type": "stream",
          "name": "stderr",
          "text": [
            "<ipython-input-8-13c686ec9d1f>:15: DeprecationWarning: `np.int` is a deprecated alias for the builtin `int`. To silence this warning, use `int` by itself. Doing this will not modify any behavior and is safe. When replacing `np.int`, you may wish to use e.g. `np.int64` or `np.int32` to specify the precision. If you wish to review your current use, check the release note link for additional information.\n",
            "Deprecated in NumPy 1.20; for more details and guidance: https://numpy.org/devdocs/release/1.20.0-notes.html#deprecations\n",
            "  X_aug, y_aug = np.zeros((augmented_sample_size, feature_size)), np.zeros((augmented_sample_size), dtype=np.int)\n"
          ]
        },
        {
          "output_type": "stream",
          "name": "stdout",
          "text": [
            "Test\n",
            "300 pairs are selected for training\n",
            "len of pair_path_dict: 300\n",
            "Num of training sample: 1662\n",
            "Test\n",
            "\n",
            "\n",
            "Processed 15 graphs\n",
            "380\n",
            "370\n"
          ]
        },
        {
          "output_type": "stream",
          "name": "stderr",
          "text": [
            "<ipython-input-8-13c686ec9d1f>:15: DeprecationWarning: `np.int` is a deprecated alias for the builtin `int`. To silence this warning, use `int` by itself. Doing this will not modify any behavior and is safe. When replacing `np.int`, you may wish to use e.g. `np.int64` or `np.int32` to specify the precision. If you wish to review your current use, check the release note link for additional information.\n",
            "Deprecated in NumPy 1.20; for more details and guidance: https://numpy.org/devdocs/release/1.20.0-notes.html#deprecations\n",
            "  X_aug, y_aug = np.zeros((augmented_sample_size, feature_size)), np.zeros((augmented_sample_size), dtype=np.int)\n"
          ]
        },
        {
          "output_type": "stream",
          "name": "stdout",
          "text": [
            "Test\n",
            "300 pairs are selected for training\n",
            "len of pair_path_dict: 300\n",
            "Num of training sample: 2158\n",
            "Test\n",
            "\n",
            "\n",
            "410\n"
          ]
        },
        {
          "output_type": "stream",
          "name": "stderr",
          "text": [
            "<ipython-input-8-13c686ec9d1f>:15: DeprecationWarning: `np.int` is a deprecated alias for the builtin `int`. To silence this warning, use `int` by itself. Doing this will not modify any behavior and is safe. When replacing `np.int`, you may wish to use e.g. `np.int64` or `np.int32` to specify the precision. If you wish to review your current use, check the release note link for additional information.\n",
            "Deprecated in NumPy 1.20; for more details and guidance: https://numpy.org/devdocs/release/1.20.0-notes.html#deprecations\n",
            "  X_aug, y_aug = np.zeros((augmented_sample_size, feature_size)), np.zeros((augmented_sample_size), dtype=np.int)\n"
          ]
        },
        {
          "output_type": "stream",
          "name": "stdout",
          "text": [
            "Test\n",
            "300 pairs are selected for training\n",
            "len of pair_path_dict: 300\n",
            "Num of training sample: 1558\n",
            "Test\n",
            "\n",
            "\n",
            "450\n"
          ]
        },
        {
          "output_type": "stream",
          "name": "stderr",
          "text": [
            "<ipython-input-8-13c686ec9d1f>:15: DeprecationWarning: `np.int` is a deprecated alias for the builtin `int`. To silence this warning, use `int` by itself. Doing this will not modify any behavior and is safe. When replacing `np.int`, you may wish to use e.g. `np.int64` or `np.int32` to specify the precision. If you wish to review your current use, check the release note link for additional information.\n",
            "Deprecated in NumPy 1.20; for more details and guidance: https://numpy.org/devdocs/release/1.20.0-notes.html#deprecations\n",
            "  X_aug, y_aug = np.zeros((augmented_sample_size, feature_size)), np.zeros((augmented_sample_size), dtype=np.int)\n"
          ]
        },
        {
          "output_type": "stream",
          "name": "stdout",
          "text": [
            "Test\n",
            "300 pairs are selected for training\n",
            "len of pair_path_dict: 300\n",
            "Num of training sample: 1676\n",
            "Test\n",
            "\n",
            "\n",
            "350\n"
          ]
        },
        {
          "output_type": "stream",
          "name": "stderr",
          "text": [
            "<ipython-input-8-13c686ec9d1f>:15: DeprecationWarning: `np.int` is a deprecated alias for the builtin `int`. To silence this warning, use `int` by itself. Doing this will not modify any behavior and is safe. When replacing `np.int`, you may wish to use e.g. `np.int64` or `np.int32` to specify the precision. If you wish to review your current use, check the release note link for additional information.\n",
            "Deprecated in NumPy 1.20; for more details and guidance: https://numpy.org/devdocs/release/1.20.0-notes.html#deprecations\n",
            "  X_aug, y_aug = np.zeros((augmented_sample_size, feature_size)), np.zeros((augmented_sample_size), dtype=np.int)\n"
          ]
        },
        {
          "output_type": "stream",
          "name": "stdout",
          "text": [
            "Test\n",
            "300 pairs are selected for training\n",
            "len of pair_path_dict: 300\n",
            "Num of training sample: 1896\n",
            "Test\n",
            "\n",
            "\n",
            "395\n"
          ]
        },
        {
          "output_type": "stream",
          "name": "stderr",
          "text": [
            "<ipython-input-8-13c686ec9d1f>:15: DeprecationWarning: `np.int` is a deprecated alias for the builtin `int`. To silence this warning, use `int` by itself. Doing this will not modify any behavior and is safe. When replacing `np.int`, you may wish to use e.g. `np.int64` or `np.int32` to specify the precision. If you wish to review your current use, check the release note link for additional information.\n",
            "Deprecated in NumPy 1.20; for more details and guidance: https://numpy.org/devdocs/release/1.20.0-notes.html#deprecations\n",
            "  X_aug, y_aug = np.zeros((augmented_sample_size, feature_size)), np.zeros((augmented_sample_size), dtype=np.int)\n"
          ]
        },
        {
          "output_type": "stream",
          "name": "stdout",
          "text": [
            "Test\n",
            "300 pairs are selected for training\n",
            "len of pair_path_dict: 300\n",
            "Num of training sample: 1696\n",
            "Test\n",
            "\n",
            "\n",
            "Processed 20 graphs\n",
            "380\n",
            "400\n",
            "405\n"
          ]
        },
        {
          "output_type": "stream",
          "name": "stderr",
          "text": [
            "<ipython-input-8-13c686ec9d1f>:15: DeprecationWarning: `np.int` is a deprecated alias for the builtin `int`. To silence this warning, use `int` by itself. Doing this will not modify any behavior and is safe. When replacing `np.int`, you may wish to use e.g. `np.int64` or `np.int32` to specify the precision. If you wish to review your current use, check the release note link for additional information.\n",
            "Deprecated in NumPy 1.20; for more details and guidance: https://numpy.org/devdocs/release/1.20.0-notes.html#deprecations\n",
            "  X_aug, y_aug = np.zeros((augmented_sample_size, feature_size)), np.zeros((augmented_sample_size), dtype=np.int)\n"
          ]
        },
        {
          "output_type": "stream",
          "name": "stdout",
          "text": [
            "Test\n",
            "300 pairs are selected for training\n",
            "len of pair_path_dict: 300\n",
            "Num of training sample: 1870\n",
            "Test\n",
            "\n",
            "\n",
            "370\n",
            "380\n"
          ]
        },
        {
          "output_type": "stream",
          "name": "stderr",
          "text": [
            "<ipython-input-8-13c686ec9d1f>:15: DeprecationWarning: `np.int` is a deprecated alias for the builtin `int`. To silence this warning, use `int` by itself. Doing this will not modify any behavior and is safe. When replacing `np.int`, you may wish to use e.g. `np.int64` or `np.int32` to specify the precision. If you wish to review your current use, check the release note link for additional information.\n",
            "Deprecated in NumPy 1.20; for more details and guidance: https://numpy.org/devdocs/release/1.20.0-notes.html#deprecations\n",
            "  X_aug, y_aug = np.zeros((augmented_sample_size, feature_size)), np.zeros((augmented_sample_size), dtype=np.int)\n"
          ]
        },
        {
          "output_type": "stream",
          "name": "stdout",
          "text": [
            "Test\n",
            "300 pairs are selected for training\n",
            "len of pair_path_dict: 300\n",
            "Num of training sample: 1630\n",
            "Test\n",
            "\n",
            "\n",
            "420\n"
          ]
        },
        {
          "output_type": "stream",
          "name": "stderr",
          "text": [
            "<ipython-input-8-13c686ec9d1f>:15: DeprecationWarning: `np.int` is a deprecated alias for the builtin `int`. To silence this warning, use `int` by itself. Doing this will not modify any behavior and is safe. When replacing `np.int`, you may wish to use e.g. `np.int64` or `np.int32` to specify the precision. If you wish to review your current use, check the release note link for additional information.\n",
            "Deprecated in NumPy 1.20; for more details and guidance: https://numpy.org/devdocs/release/1.20.0-notes.html#deprecations\n",
            "  X_aug, y_aug = np.zeros((augmented_sample_size, feature_size)), np.zeros((augmented_sample_size), dtype=np.int)\n"
          ]
        },
        {
          "output_type": "stream",
          "name": "stdout",
          "text": [
            "Test\n",
            "300 pairs are selected for training\n",
            "len of pair_path_dict: 300\n",
            "Num of training sample: 1510\n",
            "Test\n",
            "\n",
            "\n",
            "385\n"
          ]
        },
        {
          "output_type": "stream",
          "name": "stderr",
          "text": [
            "<ipython-input-8-13c686ec9d1f>:15: DeprecationWarning: `np.int` is a deprecated alias for the builtin `int`. To silence this warning, use `int` by itself. Doing this will not modify any behavior and is safe. When replacing `np.int`, you may wish to use e.g. `np.int64` or `np.int32` to specify the precision. If you wish to review your current use, check the release note link for additional information.\n",
            "Deprecated in NumPy 1.20; for more details and guidance: https://numpy.org/devdocs/release/1.20.0-notes.html#deprecations\n",
            "  X_aug, y_aug = np.zeros((augmented_sample_size, feature_size)), np.zeros((augmented_sample_size), dtype=np.int)\n"
          ]
        },
        {
          "output_type": "stream",
          "name": "stdout",
          "text": [
            "Test\n",
            "300 pairs are selected for training\n",
            "len of pair_path_dict: 300\n",
            "Num of training sample: 1902\n",
            "Test\n",
            "\n",
            "\n",
            "405\n"
          ]
        },
        {
          "output_type": "stream",
          "name": "stderr",
          "text": [
            "<ipython-input-8-13c686ec9d1f>:15: DeprecationWarning: `np.int` is a deprecated alias for the builtin `int`. To silence this warning, use `int` by itself. Doing this will not modify any behavior and is safe. When replacing `np.int`, you may wish to use e.g. `np.int64` or `np.int32` to specify the precision. If you wish to review your current use, check the release note link for additional information.\n",
            "Deprecated in NumPy 1.20; for more details and guidance: https://numpy.org/devdocs/release/1.20.0-notes.html#deprecations\n",
            "  X_aug, y_aug = np.zeros((augmented_sample_size, feature_size)), np.zeros((augmented_sample_size), dtype=np.int)\n"
          ]
        },
        {
          "output_type": "stream",
          "name": "stdout",
          "text": [
            "Test\n",
            "300 pairs are selected for training\n",
            "len of pair_path_dict: 300\n",
            "Num of training sample: 1702\n",
            "Test\n",
            "\n",
            "\n",
            "Processed 25 graphs\n",
            "400\n"
          ]
        },
        {
          "output_type": "stream",
          "name": "stderr",
          "text": [
            "<ipython-input-8-13c686ec9d1f>:15: DeprecationWarning: `np.int` is a deprecated alias for the builtin `int`. To silence this warning, use `int` by itself. Doing this will not modify any behavior and is safe. When replacing `np.int`, you may wish to use e.g. `np.int64` or `np.int32` to specify the precision. If you wish to review your current use, check the release note link for additional information.\n",
            "Deprecated in NumPy 1.20; for more details and guidance: https://numpy.org/devdocs/release/1.20.0-notes.html#deprecations\n",
            "  X_aug, y_aug = np.zeros((augmented_sample_size, feature_size)), np.zeros((augmented_sample_size), dtype=np.int)\n"
          ]
        },
        {
          "output_type": "stream",
          "name": "stdout",
          "text": [
            "Test\n",
            "300 pairs are selected for training\n",
            "len of pair_path_dict: 300\n",
            "Num of training sample: 1846\n",
            "Test\n",
            "\n",
            "\n",
            "360\n"
          ]
        },
        {
          "output_type": "stream",
          "name": "stderr",
          "text": [
            "<ipython-input-8-13c686ec9d1f>:15: DeprecationWarning: `np.int` is a deprecated alias for the builtin `int`. To silence this warning, use `int` by itself. Doing this will not modify any behavior and is safe. When replacing `np.int`, you may wish to use e.g. `np.int64` or `np.int32` to specify the precision. If you wish to review your current use, check the release note link for additional information.\n",
            "Deprecated in NumPy 1.20; for more details and guidance: https://numpy.org/devdocs/release/1.20.0-notes.html#deprecations\n",
            "  X_aug, y_aug = np.zeros((augmented_sample_size, feature_size)), np.zeros((augmented_sample_size), dtype=np.int)\n"
          ]
        },
        {
          "output_type": "stream",
          "name": "stdout",
          "text": [
            "Test\n",
            "300 pairs are selected for training\n",
            "len of pair_path_dict: 300\n",
            "Num of training sample: 1580\n",
            "Test\n",
            "\n",
            "\n",
            "370\n"
          ]
        },
        {
          "output_type": "stream",
          "name": "stderr",
          "text": [
            "<ipython-input-8-13c686ec9d1f>:15: DeprecationWarning: `np.int` is a deprecated alias for the builtin `int`. To silence this warning, use `int` by itself. Doing this will not modify any behavior and is safe. When replacing `np.int`, you may wish to use e.g. `np.int64` or `np.int32` to specify the precision. If you wish to review your current use, check the release note link for additional information.\n",
            "Deprecated in NumPy 1.20; for more details and guidance: https://numpy.org/devdocs/release/1.20.0-notes.html#deprecations\n",
            "  X_aug, y_aug = np.zeros((augmented_sample_size, feature_size)), np.zeros((augmented_sample_size), dtype=np.int)\n"
          ]
        },
        {
          "output_type": "stream",
          "name": "stdout",
          "text": [
            "Test\n",
            "300 pairs are selected for training\n",
            "len of pair_path_dict: 300\n",
            "Num of training sample: 1856\n",
            "Test\n",
            "\n",
            "\n",
            "325\n"
          ]
        },
        {
          "output_type": "stream",
          "name": "stderr",
          "text": [
            "<ipython-input-8-13c686ec9d1f>:15: DeprecationWarning: `np.int` is a deprecated alias for the builtin `int`. To silence this warning, use `int` by itself. Doing this will not modify any behavior and is safe. When replacing `np.int`, you may wish to use e.g. `np.int64` or `np.int32` to specify the precision. If you wish to review your current use, check the release note link for additional information.\n",
            "Deprecated in NumPy 1.20; for more details and guidance: https://numpy.org/devdocs/release/1.20.0-notes.html#deprecations\n",
            "  X_aug, y_aug = np.zeros((augmented_sample_size, feature_size)), np.zeros((augmented_sample_size), dtype=np.int)\n"
          ]
        },
        {
          "output_type": "stream",
          "name": "stdout",
          "text": [
            "Test\n",
            "300 pairs are selected for training\n",
            "len of pair_path_dict: 300\n",
            "Num of training sample: 1776\n",
            "Test\n",
            "\n",
            "\n",
            "305\n"
          ]
        },
        {
          "output_type": "stream",
          "name": "stderr",
          "text": [
            "<ipython-input-8-13c686ec9d1f>:15: DeprecationWarning: `np.int` is a deprecated alias for the builtin `int`. To silence this warning, use `int` by itself. Doing this will not modify any behavior and is safe. When replacing `np.int`, you may wish to use e.g. `np.int64` or `np.int32` to specify the precision. If you wish to review your current use, check the release note link for additional information.\n",
            "Deprecated in NumPy 1.20; for more details and guidance: https://numpy.org/devdocs/release/1.20.0-notes.html#deprecations\n",
            "  X_aug, y_aug = np.zeros((augmented_sample_size, feature_size)), np.zeros((augmented_sample_size), dtype=np.int)\n"
          ]
        },
        {
          "output_type": "stream",
          "name": "stdout",
          "text": [
            "Test\n",
            "300 pairs are selected for training\n",
            "len of pair_path_dict: 300\n",
            "Num of training sample: 1680\n",
            "Test\n",
            "\n",
            "\n",
            "Processed 30 graphs\n",
            "360\n"
          ]
        },
        {
          "output_type": "stream",
          "name": "stderr",
          "text": [
            "<ipython-input-8-13c686ec9d1f>:15: DeprecationWarning: `np.int` is a deprecated alias for the builtin `int`. To silence this warning, use `int` by itself. Doing this will not modify any behavior and is safe. When replacing `np.int`, you may wish to use e.g. `np.int64` or `np.int32` to specify the precision. If you wish to review your current use, check the release note link for additional information.\n",
            "Deprecated in NumPy 1.20; for more details and guidance: https://numpy.org/devdocs/release/1.20.0-notes.html#deprecations\n",
            "  X_aug, y_aug = np.zeros((augmented_sample_size, feature_size)), np.zeros((augmented_sample_size), dtype=np.int)\n"
          ]
        },
        {
          "output_type": "stream",
          "name": "stdout",
          "text": [
            "Test\n",
            "300 pairs are selected for training\n",
            "len of pair_path_dict: 300\n",
            "Num of training sample: 2404\n",
            "Test\n",
            "\n",
            "\n",
            "440\n"
          ]
        },
        {
          "output_type": "stream",
          "name": "stderr",
          "text": [
            "<ipython-input-8-13c686ec9d1f>:15: DeprecationWarning: `np.int` is a deprecated alias for the builtin `int`. To silence this warning, use `int` by itself. Doing this will not modify any behavior and is safe. When replacing `np.int`, you may wish to use e.g. `np.int64` or `np.int32` to specify the precision. If you wish to review your current use, check the release note link for additional information.\n",
            "Deprecated in NumPy 1.20; for more details and guidance: https://numpy.org/devdocs/release/1.20.0-notes.html#deprecations\n",
            "  X_aug, y_aug = np.zeros((augmented_sample_size, feature_size)), np.zeros((augmented_sample_size), dtype=np.int)\n"
          ]
        },
        {
          "output_type": "stream",
          "name": "stdout",
          "text": [
            "Test\n",
            "300 pairs are selected for training\n",
            "len of pair_path_dict: 300\n",
            "Num of training sample: 2532\n",
            "Test\n",
            "\n",
            "\n",
            "440\n"
          ]
        },
        {
          "output_type": "stream",
          "name": "stderr",
          "text": [
            "<ipython-input-8-13c686ec9d1f>:15: DeprecationWarning: `np.int` is a deprecated alias for the builtin `int`. To silence this warning, use `int` by itself. Doing this will not modify any behavior and is safe. When replacing `np.int`, you may wish to use e.g. `np.int64` or `np.int32` to specify the precision. If you wish to review your current use, check the release note link for additional information.\n",
            "Deprecated in NumPy 1.20; for more details and guidance: https://numpy.org/devdocs/release/1.20.0-notes.html#deprecations\n",
            "  X_aug, y_aug = np.zeros((augmented_sample_size, feature_size)), np.zeros((augmented_sample_size), dtype=np.int)\n"
          ]
        },
        {
          "output_type": "stream",
          "name": "stdout",
          "text": [
            "Test\n",
            "300 pairs are selected for training\n",
            "len of pair_path_dict: 300\n",
            "Num of training sample: 1592\n",
            "Test\n",
            "\n",
            "\n",
            "360\n"
          ]
        },
        {
          "output_type": "stream",
          "name": "stderr",
          "text": [
            "<ipython-input-8-13c686ec9d1f>:15: DeprecationWarning: `np.int` is a deprecated alias for the builtin `int`. To silence this warning, use `int` by itself. Doing this will not modify any behavior and is safe. When replacing `np.int`, you may wish to use e.g. `np.int64` or `np.int32` to specify the precision. If you wish to review your current use, check the release note link for additional information.\n",
            "Deprecated in NumPy 1.20; for more details and guidance: https://numpy.org/devdocs/release/1.20.0-notes.html#deprecations\n",
            "  X_aug, y_aug = np.zeros((augmented_sample_size, feature_size)), np.zeros((augmented_sample_size), dtype=np.int)\n"
          ]
        },
        {
          "output_type": "stream",
          "name": "stdout",
          "text": [
            "Test\n",
            "300 pairs are selected for training\n",
            "len of pair_path_dict: 300\n",
            "Num of training sample: 1840\n",
            "Test\n",
            "\n",
            "\n",
            "340\n"
          ]
        },
        {
          "output_type": "stream",
          "name": "stderr",
          "text": [
            "<ipython-input-8-13c686ec9d1f>:15: DeprecationWarning: `np.int` is a deprecated alias for the builtin `int`. To silence this warning, use `int` by itself. Doing this will not modify any behavior and is safe. When replacing `np.int`, you may wish to use e.g. `np.int64` or `np.int32` to specify the precision. If you wish to review your current use, check the release note link for additional information.\n",
            "Deprecated in NumPy 1.20; for more details and guidance: https://numpy.org/devdocs/release/1.20.0-notes.html#deprecations\n",
            "  X_aug, y_aug = np.zeros((augmented_sample_size, feature_size)), np.zeros((augmented_sample_size), dtype=np.int)\n"
          ]
        },
        {
          "output_type": "stream",
          "name": "stdout",
          "text": [
            "Test\n",
            "300 pairs are selected for training\n",
            "len of pair_path_dict: 300\n",
            "Num of training sample: 1772\n",
            "Test\n",
            "\n",
            "\n",
            "Processed 35 graphs\n",
            "330\n"
          ]
        },
        {
          "output_type": "stream",
          "name": "stderr",
          "text": [
            "<ipython-input-8-13c686ec9d1f>:15: DeprecationWarning: `np.int` is a deprecated alias for the builtin `int`. To silence this warning, use `int` by itself. Doing this will not modify any behavior and is safe. When replacing `np.int`, you may wish to use e.g. `np.int64` or `np.int32` to specify the precision. If you wish to review your current use, check the release note link for additional information.\n",
            "Deprecated in NumPy 1.20; for more details and guidance: https://numpy.org/devdocs/release/1.20.0-notes.html#deprecations\n",
            "  X_aug, y_aug = np.zeros((augmented_sample_size, feature_size)), np.zeros((augmented_sample_size), dtype=np.int)\n"
          ]
        },
        {
          "output_type": "stream",
          "name": "stdout",
          "text": [
            "Test\n",
            "300 pairs are selected for training\n",
            "len of pair_path_dict: 300\n",
            "Num of training sample: 2488\n",
            "Test\n",
            "\n",
            "\n",
            "345\n"
          ]
        },
        {
          "output_type": "stream",
          "name": "stderr",
          "text": [
            "<ipython-input-8-13c686ec9d1f>:15: DeprecationWarning: `np.int` is a deprecated alias for the builtin `int`. To silence this warning, use `int` by itself. Doing this will not modify any behavior and is safe. When replacing `np.int`, you may wish to use e.g. `np.int64` or `np.int32` to specify the precision. If you wish to review your current use, check the release note link for additional information.\n",
            "Deprecated in NumPy 1.20; for more details and guidance: https://numpy.org/devdocs/release/1.20.0-notes.html#deprecations\n",
            "  X_aug, y_aug = np.zeros((augmented_sample_size, feature_size)), np.zeros((augmented_sample_size), dtype=np.int)\n"
          ]
        },
        {
          "output_type": "stream",
          "name": "stdout",
          "text": [
            "Test\n",
            "300 pairs are selected for training\n",
            "len of pair_path_dict: 300\n",
            "Num of training sample: 2048\n",
            "Test\n",
            "\n",
            "\n",
            "385\n",
            "380\n"
          ]
        },
        {
          "output_type": "stream",
          "name": "stderr",
          "text": [
            "<ipython-input-8-13c686ec9d1f>:15: DeprecationWarning: `np.int` is a deprecated alias for the builtin `int`. To silence this warning, use `int` by itself. Doing this will not modify any behavior and is safe. When replacing `np.int`, you may wish to use e.g. `np.int64` or `np.int32` to specify the precision. If you wish to review your current use, check the release note link for additional information.\n",
            "Deprecated in NumPy 1.20; for more details and guidance: https://numpy.org/devdocs/release/1.20.0-notes.html#deprecations\n",
            "  X_aug, y_aug = np.zeros((augmented_sample_size, feature_size)), np.zeros((augmented_sample_size), dtype=np.int)\n"
          ]
        },
        {
          "output_type": "stream",
          "name": "stdout",
          "text": [
            "Test\n",
            "300 pairs are selected for training\n",
            "len of pair_path_dict: 300\n",
            "Num of training sample: 1838\n",
            "Test\n",
            "\n",
            "\n",
            "430\n",
            "405\n"
          ]
        },
        {
          "output_type": "stream",
          "name": "stderr",
          "text": [
            "<ipython-input-8-13c686ec9d1f>:15: DeprecationWarning: `np.int` is a deprecated alias for the builtin `int`. To silence this warning, use `int` by itself. Doing this will not modify any behavior and is safe. When replacing `np.int`, you may wish to use e.g. `np.int64` or `np.int32` to specify the precision. If you wish to review your current use, check the release note link for additional information.\n",
            "Deprecated in NumPy 1.20; for more details and guidance: https://numpy.org/devdocs/release/1.20.0-notes.html#deprecations\n",
            "  X_aug, y_aug = np.zeros((augmented_sample_size, feature_size)), np.zeros((augmented_sample_size), dtype=np.int)\n"
          ]
        },
        {
          "output_type": "stream",
          "name": "stdout",
          "text": [
            "Test\n",
            "300 pairs are selected for training\n",
            "len of pair_path_dict: 300\n",
            "Num of training sample: 1892\n",
            "Test\n",
            "\n",
            "\n",
            "365\n",
            "395\n"
          ]
        },
        {
          "output_type": "stream",
          "name": "stderr",
          "text": [
            "<ipython-input-8-13c686ec9d1f>:15: DeprecationWarning: `np.int` is a deprecated alias for the builtin `int`. To silence this warning, use `int` by itself. Doing this will not modify any behavior and is safe. When replacing `np.int`, you may wish to use e.g. `np.int64` or `np.int32` to specify the precision. If you wish to review your current use, check the release note link for additional information.\n",
            "Deprecated in NumPy 1.20; for more details and guidance: https://numpy.org/devdocs/release/1.20.0-notes.html#deprecations\n",
            "  X_aug, y_aug = np.zeros((augmented_sample_size, feature_size)), np.zeros((augmented_sample_size), dtype=np.int)\n"
          ]
        },
        {
          "output_type": "stream",
          "name": "stdout",
          "text": [
            "Test\n",
            "300 pairs are selected for training\n",
            "len of pair_path_dict: 300\n",
            "Num of training sample: 1652\n",
            "Test\n",
            "\n",
            "\n",
            "Processed 40 graphs\n",
            "405\n"
          ]
        },
        {
          "output_type": "stream",
          "name": "stderr",
          "text": [
            "<ipython-input-8-13c686ec9d1f>:15: DeprecationWarning: `np.int` is a deprecated alias for the builtin `int`. To silence this warning, use `int` by itself. Doing this will not modify any behavior and is safe. When replacing `np.int`, you may wish to use e.g. `np.int64` or `np.int32` to specify the precision. If you wish to review your current use, check the release note link for additional information.\n",
            "Deprecated in NumPy 1.20; for more details and guidance: https://numpy.org/devdocs/release/1.20.0-notes.html#deprecations\n",
            "  X_aug, y_aug = np.zeros((augmented_sample_size, feature_size)), np.zeros((augmented_sample_size), dtype=np.int)\n"
          ]
        },
        {
          "output_type": "stream",
          "name": "stdout",
          "text": [
            "Test\n",
            "300 pairs are selected for training\n",
            "len of pair_path_dict: 300\n",
            "Num of training sample: 1942\n",
            "Test\n",
            "\n",
            "\n",
            "370\n"
          ]
        },
        {
          "output_type": "stream",
          "name": "stderr",
          "text": [
            "<ipython-input-8-13c686ec9d1f>:15: DeprecationWarning: `np.int` is a deprecated alias for the builtin `int`. To silence this warning, use `int` by itself. Doing this will not modify any behavior and is safe. When replacing `np.int`, you may wish to use e.g. `np.int64` or `np.int32` to specify the precision. If you wish to review your current use, check the release note link for additional information.\n",
            "Deprecated in NumPy 1.20; for more details and guidance: https://numpy.org/devdocs/release/1.20.0-notes.html#deprecations\n",
            "  X_aug, y_aug = np.zeros((augmented_sample_size, feature_size)), np.zeros((augmented_sample_size), dtype=np.int)\n"
          ]
        },
        {
          "output_type": "stream",
          "name": "stdout",
          "text": [
            "Test\n",
            "300 pairs are selected for training\n",
            "len of pair_path_dict: 300\n",
            "Num of training sample: 1552\n",
            "Test\n",
            "\n",
            "\n",
            "265\n",
            "310\n",
            "405\n"
          ]
        },
        {
          "output_type": "stream",
          "name": "stderr",
          "text": [
            "<ipython-input-8-13c686ec9d1f>:15: DeprecationWarning: `np.int` is a deprecated alias for the builtin `int`. To silence this warning, use `int` by itself. Doing this will not modify any behavior and is safe. When replacing `np.int`, you may wish to use e.g. `np.int64` or `np.int32` to specify the precision. If you wish to review your current use, check the release note link for additional information.\n",
            "Deprecated in NumPy 1.20; for more details and guidance: https://numpy.org/devdocs/release/1.20.0-notes.html#deprecations\n",
            "  X_aug, y_aug = np.zeros((augmented_sample_size, feature_size)), np.zeros((augmented_sample_size), dtype=np.int)\n"
          ]
        },
        {
          "output_type": "stream",
          "name": "stdout",
          "text": [
            "Test\n",
            "300 pairs are selected for training\n",
            "len of pair_path_dict: 300\n",
            "Num of training sample: 1626\n",
            "Test\n",
            "\n",
            "\n",
            "355\n"
          ]
        },
        {
          "output_type": "stream",
          "name": "stderr",
          "text": [
            "<ipython-input-8-13c686ec9d1f>:15: DeprecationWarning: `np.int` is a deprecated alias for the builtin `int`. To silence this warning, use `int` by itself. Doing this will not modify any behavior and is safe. When replacing `np.int`, you may wish to use e.g. `np.int64` or `np.int32` to specify the precision. If you wish to review your current use, check the release note link for additional information.\n",
            "Deprecated in NumPy 1.20; for more details and guidance: https://numpy.org/devdocs/release/1.20.0-notes.html#deprecations\n",
            "  X_aug, y_aug = np.zeros((augmented_sample_size, feature_size)), np.zeros((augmented_sample_size), dtype=np.int)\n"
          ]
        },
        {
          "output_type": "stream",
          "name": "stdout",
          "text": [
            "Test\n",
            "300 pairs are selected for training\n",
            "len of pair_path_dict: 300\n",
            "Num of training sample: 1894\n",
            "Test\n",
            "\n",
            "\n",
            "290\n"
          ]
        },
        {
          "output_type": "stream",
          "name": "stderr",
          "text": [
            "<ipython-input-8-13c686ec9d1f>:15: DeprecationWarning: `np.int` is a deprecated alias for the builtin `int`. To silence this warning, use `int` by itself. Doing this will not modify any behavior and is safe. When replacing `np.int`, you may wish to use e.g. `np.int64` or `np.int32` to specify the precision. If you wish to review your current use, check the release note link for additional information.\n",
            "Deprecated in NumPy 1.20; for more details and guidance: https://numpy.org/devdocs/release/1.20.0-notes.html#deprecations\n",
            "  X_aug, y_aug = np.zeros((augmented_sample_size, feature_size)), np.zeros((augmented_sample_size), dtype=np.int)\n"
          ]
        },
        {
          "output_type": "stream",
          "name": "stdout",
          "text": [
            "Test\n",
            "300 pairs are selected for training\n",
            "len of pair_path_dict: 300\n",
            "Num of training sample: 1762\n",
            "Test\n",
            "\n",
            "\n",
            "Processed 45 graphs\n",
            "300\n"
          ]
        },
        {
          "output_type": "stream",
          "name": "stderr",
          "text": [
            "<ipython-input-8-13c686ec9d1f>:15: DeprecationWarning: `np.int` is a deprecated alias for the builtin `int`. To silence this warning, use `int` by itself. Doing this will not modify any behavior and is safe. When replacing `np.int`, you may wish to use e.g. `np.int64` or `np.int32` to specify the precision. If you wish to review your current use, check the release note link for additional information.\n",
            "Deprecated in NumPy 1.20; for more details and guidance: https://numpy.org/devdocs/release/1.20.0-notes.html#deprecations\n",
            "  X_aug, y_aug = np.zeros((augmented_sample_size, feature_size)), np.zeros((augmented_sample_size), dtype=np.int)\n"
          ]
        },
        {
          "output_type": "stream",
          "name": "stdout",
          "text": [
            "Test\n",
            "300 pairs are selected for training\n",
            "len of pair_path_dict: 300\n",
            "Num of training sample: 2288\n",
            "Test\n",
            "\n",
            "\n",
            "385\n"
          ]
        },
        {
          "output_type": "stream",
          "name": "stderr",
          "text": [
            "<ipython-input-8-13c686ec9d1f>:15: DeprecationWarning: `np.int` is a deprecated alias for the builtin `int`. To silence this warning, use `int` by itself. Doing this will not modify any behavior and is safe. When replacing `np.int`, you may wish to use e.g. `np.int64` or `np.int32` to specify the precision. If you wish to review your current use, check the release note link for additional information.\n",
            "Deprecated in NumPy 1.20; for more details and guidance: https://numpy.org/devdocs/release/1.20.0-notes.html#deprecations\n",
            "  X_aug, y_aug = np.zeros((augmented_sample_size, feature_size)), np.zeros((augmented_sample_size), dtype=np.int)\n"
          ]
        },
        {
          "output_type": "stream",
          "name": "stdout",
          "text": [
            "Test\n",
            "300 pairs are selected for training\n",
            "len of pair_path_dict: 300\n",
            "Num of training sample: 1890\n",
            "Test\n",
            "\n",
            "\n",
            "340\n"
          ]
        },
        {
          "output_type": "stream",
          "name": "stderr",
          "text": [
            "<ipython-input-8-13c686ec9d1f>:15: DeprecationWarning: `np.int` is a deprecated alias for the builtin `int`. To silence this warning, use `int` by itself. Doing this will not modify any behavior and is safe. When replacing `np.int`, you may wish to use e.g. `np.int64` or `np.int32` to specify the precision. If you wish to review your current use, check the release note link for additional information.\n",
            "Deprecated in NumPy 1.20; for more details and guidance: https://numpy.org/devdocs/release/1.20.0-notes.html#deprecations\n",
            "  X_aug, y_aug = np.zeros((augmented_sample_size, feature_size)), np.zeros((augmented_sample_size), dtype=np.int)\n"
          ]
        },
        {
          "output_type": "stream",
          "name": "stdout",
          "text": [
            "Test\n",
            "300 pairs are selected for training\n",
            "len of pair_path_dict: 300\n",
            "Num of training sample: 2046\n",
            "Test\n",
            "\n",
            "\n",
            "390\n",
            "430\n"
          ]
        },
        {
          "output_type": "stream",
          "name": "stderr",
          "text": [
            "<ipython-input-8-13c686ec9d1f>:15: DeprecationWarning: `np.int` is a deprecated alias for the builtin `int`. To silence this warning, use `int` by itself. Doing this will not modify any behavior and is safe. When replacing `np.int`, you may wish to use e.g. `np.int64` or `np.int32` to specify the precision. If you wish to review your current use, check the release note link for additional information.\n",
            "Deprecated in NumPy 1.20; for more details and guidance: https://numpy.org/devdocs/release/1.20.0-notes.html#deprecations\n",
            "  X_aug, y_aug = np.zeros((augmented_sample_size, feature_size)), np.zeros((augmented_sample_size), dtype=np.int)\n"
          ]
        },
        {
          "output_type": "stream",
          "name": "stdout",
          "text": [
            "Test\n",
            "300 pairs are selected for training\n",
            "len of pair_path_dict: 300\n",
            "Num of training sample: 1650\n",
            "Test\n",
            "\n",
            "\n",
            "350\n"
          ]
        },
        {
          "output_type": "stream",
          "name": "stderr",
          "text": [
            "<ipython-input-8-13c686ec9d1f>:15: DeprecationWarning: `np.int` is a deprecated alias for the builtin `int`. To silence this warning, use `int` by itself. Doing this will not modify any behavior and is safe. When replacing `np.int`, you may wish to use e.g. `np.int64` or `np.int32` to specify the precision. If you wish to review your current use, check the release note link for additional information.\n",
            "Deprecated in NumPy 1.20; for more details and guidance: https://numpy.org/devdocs/release/1.20.0-notes.html#deprecations\n",
            "  X_aug, y_aug = np.zeros((augmented_sample_size, feature_size)), np.zeros((augmented_sample_size), dtype=np.int)\n"
          ]
        },
        {
          "output_type": "stream",
          "name": "stdout",
          "text": [
            "Test\n",
            "300 pairs are selected for training\n",
            "len of pair_path_dict: 300\n",
            "Num of training sample: 1700\n",
            "Test\n",
            "\n",
            "\n",
            "Working on graphs with 100 nodes\n",
            "655\n",
            "450\n"
          ]
        },
        {
          "output_type": "stream",
          "name": "stderr",
          "text": [
            "<ipython-input-8-13c686ec9d1f>:15: DeprecationWarning: `np.int` is a deprecated alias for the builtin `int`. To silence this warning, use `int` by itself. Doing this will not modify any behavior and is safe. When replacing `np.int`, you may wish to use e.g. `np.int64` or `np.int32` to specify the precision. If you wish to review your current use, check the release note link for additional information.\n",
            "Deprecated in NumPy 1.20; for more details and guidance: https://numpy.org/devdocs/release/1.20.0-notes.html#deprecations\n",
            "  X_aug, y_aug = np.zeros((augmented_sample_size, feature_size)), np.zeros((augmented_sample_size), dtype=np.int)\n"
          ]
        },
        {
          "output_type": "stream",
          "name": "stdout",
          "text": [
            "Test\n",
            "300 pairs are selected for training\n",
            "len of pair_path_dict: 300\n",
            "Num of training sample: 1996\n",
            "Test\n",
            "\n",
            "\n",
            "765\n"
          ]
        },
        {
          "output_type": "stream",
          "name": "stderr",
          "text": [
            "<ipython-input-8-13c686ec9d1f>:15: DeprecationWarning: `np.int` is a deprecated alias for the builtin `int`. To silence this warning, use `int` by itself. Doing this will not modify any behavior and is safe. When replacing `np.int`, you may wish to use e.g. `np.int64` or `np.int32` to specify the precision. If you wish to review your current use, check the release note link for additional information.\n",
            "Deprecated in NumPy 1.20; for more details and guidance: https://numpy.org/devdocs/release/1.20.0-notes.html#deprecations\n",
            "  X_aug, y_aug = np.zeros((augmented_sample_size, feature_size)), np.zeros((augmented_sample_size), dtype=np.int)\n"
          ]
        },
        {
          "output_type": "stream",
          "name": "stdout",
          "text": [
            "Test\n",
            "300 pairs are selected for training\n",
            "len of pair_path_dict: 300\n",
            "Num of training sample: 3100\n",
            "Test\n",
            "\n",
            "\n",
            "785\n",
            "430\n"
          ]
        },
        {
          "output_type": "stream",
          "name": "stderr",
          "text": [
            "<ipython-input-8-13c686ec9d1f>:15: DeprecationWarning: `np.int` is a deprecated alias for the builtin `int`. To silence this warning, use `int` by itself. Doing this will not modify any behavior and is safe. When replacing `np.int`, you may wish to use e.g. `np.int64` or `np.int32` to specify the precision. If you wish to review your current use, check the release note link for additional information.\n",
            "Deprecated in NumPy 1.20; for more details and guidance: https://numpy.org/devdocs/release/1.20.0-notes.html#deprecations\n",
            "  X_aug, y_aug = np.zeros((augmented_sample_size, feature_size)), np.zeros((augmented_sample_size), dtype=np.int)\n"
          ]
        },
        {
          "output_type": "stream",
          "name": "stdout",
          "text": [
            "Test\n",
            "300 pairs are selected for training\n",
            "len of pair_path_dict: 300\n",
            "Num of training sample: 1644\n",
            "Test\n",
            "\n",
            "\n",
            "705\n",
            "330\n"
          ]
        },
        {
          "output_type": "stream",
          "name": "stderr",
          "text": [
            "<ipython-input-8-13c686ec9d1f>:15: DeprecationWarning: `np.int` is a deprecated alias for the builtin `int`. To silence this warning, use `int` by itself. Doing this will not modify any behavior and is safe. When replacing `np.int`, you may wish to use e.g. `np.int64` or `np.int32` to specify the precision. If you wish to review your current use, check the release note link for additional information.\n",
            "Deprecated in NumPy 1.20; for more details and guidance: https://numpy.org/devdocs/release/1.20.0-notes.html#deprecations\n",
            "  X_aug, y_aug = np.zeros((augmented_sample_size, feature_size)), np.zeros((augmented_sample_size), dtype=np.int)\n"
          ]
        },
        {
          "output_type": "stream",
          "name": "stdout",
          "text": [
            "Test\n",
            "300 pairs are selected for training\n",
            "len of pair_path_dict: 300\n",
            "Num of training sample: 1738\n",
            "Test\n",
            "\n",
            "\n",
            "670\n"
          ]
        },
        {
          "output_type": "stream",
          "name": "stderr",
          "text": [
            "<ipython-input-8-13c686ec9d1f>:15: DeprecationWarning: `np.int` is a deprecated alias for the builtin `int`. To silence this warning, use `int` by itself. Doing this will not modify any behavior and is safe. When replacing `np.int`, you may wish to use e.g. `np.int64` or `np.int32` to specify the precision. If you wish to review your current use, check the release note link for additional information.\n",
            "Deprecated in NumPy 1.20; for more details and guidance: https://numpy.org/devdocs/release/1.20.0-notes.html#deprecations\n",
            "  X_aug, y_aug = np.zeros((augmented_sample_size, feature_size)), np.zeros((augmented_sample_size), dtype=np.int)\n"
          ]
        },
        {
          "output_type": "stream",
          "name": "stdout",
          "text": [
            "Test\n",
            "300 pairs are selected for training\n",
            "len of pair_path_dict: 300\n",
            "Num of training sample: 2572\n",
            "Test\n",
            "\n",
            "\n",
            "Processed 5 graphs\n",
            "670\n",
            "420\n"
          ]
        },
        {
          "output_type": "stream",
          "name": "stderr",
          "text": [
            "<ipython-input-8-13c686ec9d1f>:15: DeprecationWarning: `np.int` is a deprecated alias for the builtin `int`. To silence this warning, use `int` by itself. Doing this will not modify any behavior and is safe. When replacing `np.int`, you may wish to use e.g. `np.int64` or `np.int32` to specify the precision. If you wish to review your current use, check the release note link for additional information.\n",
            "Deprecated in NumPy 1.20; for more details and guidance: https://numpy.org/devdocs/release/1.20.0-notes.html#deprecations\n",
            "  X_aug, y_aug = np.zeros((augmented_sample_size, feature_size)), np.zeros((augmented_sample_size), dtype=np.int)\n"
          ]
        },
        {
          "output_type": "stream",
          "name": "stdout",
          "text": [
            "Test\n",
            "300 pairs are selected for training\n",
            "len of pair_path_dict: 300\n",
            "Num of training sample: 1846\n",
            "Test\n",
            "\n",
            "\n",
            "725\n"
          ]
        },
        {
          "output_type": "stream",
          "name": "stderr",
          "text": [
            "<ipython-input-8-13c686ec9d1f>:15: DeprecationWarning: `np.int` is a deprecated alias for the builtin `int`. To silence this warning, use `int` by itself. Doing this will not modify any behavior and is safe. When replacing `np.int`, you may wish to use e.g. `np.int64` or `np.int32` to specify the precision. If you wish to review your current use, check the release note link for additional information.\n",
            "Deprecated in NumPy 1.20; for more details and guidance: https://numpy.org/devdocs/release/1.20.0-notes.html#deprecations\n",
            "  X_aug, y_aug = np.zeros((augmented_sample_size, feature_size)), np.zeros((augmented_sample_size), dtype=np.int)\n"
          ]
        },
        {
          "output_type": "stream",
          "name": "stdout",
          "text": [
            "Test\n",
            "300 pairs are selected for training\n",
            "len of pair_path_dict: 300\n",
            "Num of training sample: 2590\n",
            "Test\n",
            "\n",
            "\n",
            "775\n"
          ]
        },
        {
          "output_type": "stream",
          "name": "stderr",
          "text": [
            "<ipython-input-8-13c686ec9d1f>:15: DeprecationWarning: `np.int` is a deprecated alias for the builtin `int`. To silence this warning, use `int` by itself. Doing this will not modify any behavior and is safe. When replacing `np.int`, you may wish to use e.g. `np.int64` or `np.int32` to specify the precision. If you wish to review your current use, check the release note link for additional information.\n",
            "Deprecated in NumPy 1.20; for more details and guidance: https://numpy.org/devdocs/release/1.20.0-notes.html#deprecations\n",
            "  X_aug, y_aug = np.zeros((augmented_sample_size, feature_size)), np.zeros((augmented_sample_size), dtype=np.int)\n"
          ]
        },
        {
          "output_type": "stream",
          "name": "stdout",
          "text": [
            "Test\n",
            "300 pairs are selected for training\n",
            "len of pair_path_dict: 300\n",
            "Num of training sample: 2176\n",
            "Test\n",
            "\n",
            "\n",
            "655\n",
            "380\n"
          ]
        },
        {
          "output_type": "stream",
          "name": "stderr",
          "text": [
            "<ipython-input-8-13c686ec9d1f>:15: DeprecationWarning: `np.int` is a deprecated alias for the builtin `int`. To silence this warning, use `int` by itself. Doing this will not modify any behavior and is safe. When replacing `np.int`, you may wish to use e.g. `np.int64` or `np.int32` to specify the precision. If you wish to review your current use, check the release note link for additional information.\n",
            "Deprecated in NumPy 1.20; for more details and guidance: https://numpy.org/devdocs/release/1.20.0-notes.html#deprecations\n",
            "  X_aug, y_aug = np.zeros((augmented_sample_size, feature_size)), np.zeros((augmented_sample_size), dtype=np.int)\n"
          ]
        },
        {
          "output_type": "stream",
          "name": "stdout",
          "text": [
            "Test\n",
            "300 pairs are selected for training\n",
            "len of pair_path_dict: 300\n",
            "Num of training sample: 1846\n",
            "Test\n",
            "\n",
            "\n",
            "655\n"
          ]
        },
        {
          "output_type": "stream",
          "name": "stderr",
          "text": [
            "<ipython-input-8-13c686ec9d1f>:15: DeprecationWarning: `np.int` is a deprecated alias for the builtin `int`. To silence this warning, use `int` by itself. Doing this will not modify any behavior and is safe. When replacing `np.int`, you may wish to use e.g. `np.int64` or `np.int32` to specify the precision. If you wish to review your current use, check the release note link for additional information.\n",
            "Deprecated in NumPy 1.20; for more details and guidance: https://numpy.org/devdocs/release/1.20.0-notes.html#deprecations\n",
            "  X_aug, y_aug = np.zeros((augmented_sample_size, feature_size)), np.zeros((augmented_sample_size), dtype=np.int)\n"
          ]
        },
        {
          "output_type": "stream",
          "name": "stdout",
          "text": [
            "Test\n",
            "300 pairs are selected for training\n",
            "len of pair_path_dict: 300\n",
            "Num of training sample: 2476\n",
            "Test\n",
            "\n",
            "\n",
            "Processed 10 graphs\n",
            "770\n"
          ]
        },
        {
          "output_type": "stream",
          "name": "stderr",
          "text": [
            "<ipython-input-8-13c686ec9d1f>:15: DeprecationWarning: `np.int` is a deprecated alias for the builtin `int`. To silence this warning, use `int` by itself. Doing this will not modify any behavior and is safe. When replacing `np.int`, you may wish to use e.g. `np.int64` or `np.int32` to specify the precision. If you wish to review your current use, check the release note link for additional information.\n",
            "Deprecated in NumPy 1.20; for more details and guidance: https://numpy.org/devdocs/release/1.20.0-notes.html#deprecations\n",
            "  X_aug, y_aug = np.zeros((augmented_sample_size, feature_size)), np.zeros((augmented_sample_size), dtype=np.int)\n"
          ]
        },
        {
          "output_type": "stream",
          "name": "stdout",
          "text": [
            "Test\n",
            "300 pairs are selected for training\n",
            "len of pair_path_dict: 300\n",
            "Num of training sample: 2792\n",
            "Test\n",
            "\n",
            "\n",
            "700\n"
          ]
        },
        {
          "output_type": "stream",
          "name": "stderr",
          "text": [
            "<ipython-input-8-13c686ec9d1f>:15: DeprecationWarning: `np.int` is a deprecated alias for the builtin `int`. To silence this warning, use `int` by itself. Doing this will not modify any behavior and is safe. When replacing `np.int`, you may wish to use e.g. `np.int64` or `np.int32` to specify the precision. If you wish to review your current use, check the release note link for additional information.\n",
            "Deprecated in NumPy 1.20; for more details and guidance: https://numpy.org/devdocs/release/1.20.0-notes.html#deprecations\n",
            "  X_aug, y_aug = np.zeros((augmented_sample_size, feature_size)), np.zeros((augmented_sample_size), dtype=np.int)\n"
          ]
        },
        {
          "output_type": "stream",
          "name": "stdout",
          "text": [
            "Test\n",
            "300 pairs are selected for training\n",
            "len of pair_path_dict: 300\n",
            "Num of training sample: 2824\n",
            "Test\n",
            "\n",
            "\n",
            "790\n",
            "430\n"
          ]
        },
        {
          "output_type": "stream",
          "name": "stderr",
          "text": [
            "<ipython-input-8-13c686ec9d1f>:15: DeprecationWarning: `np.int` is a deprecated alias for the builtin `int`. To silence this warning, use `int` by itself. Doing this will not modify any behavior and is safe. When replacing `np.int`, you may wish to use e.g. `np.int64` or `np.int32` to specify the precision. If you wish to review your current use, check the release note link for additional information.\n",
            "Deprecated in NumPy 1.20; for more details and guidance: https://numpy.org/devdocs/release/1.20.0-notes.html#deprecations\n",
            "  X_aug, y_aug = np.zeros((augmented_sample_size, feature_size)), np.zeros((augmented_sample_size), dtype=np.int)\n"
          ]
        },
        {
          "output_type": "stream",
          "name": "stdout",
          "text": [
            "Test\n",
            "300 pairs are selected for training\n",
            "len of pair_path_dict: 300\n",
            "Num of training sample: 1990\n",
            "Test\n",
            "\n",
            "\n",
            "840\n",
            "415\n",
            "360\n"
          ]
        },
        {
          "output_type": "stream",
          "name": "stderr",
          "text": [
            "<ipython-input-8-13c686ec9d1f>:15: DeprecationWarning: `np.int` is a deprecated alias for the builtin `int`. To silence this warning, use `int` by itself. Doing this will not modify any behavior and is safe. When replacing `np.int`, you may wish to use e.g. `np.int64` or `np.int32` to specify the precision. If you wish to review your current use, check the release note link for additional information.\n",
            "Deprecated in NumPy 1.20; for more details and guidance: https://numpy.org/devdocs/release/1.20.0-notes.html#deprecations\n",
            "  X_aug, y_aug = np.zeros((augmented_sample_size, feature_size)), np.zeros((augmented_sample_size), dtype=np.int)\n"
          ]
        },
        {
          "output_type": "stream",
          "name": "stdout",
          "text": [
            "Test\n",
            "300 pairs are selected for training\n",
            "len of pair_path_dict: 300\n",
            "Num of training sample: 1866\n",
            "Test\n",
            "\n",
            "\n",
            "720\n"
          ]
        },
        {
          "output_type": "stream",
          "name": "stderr",
          "text": [
            "<ipython-input-8-13c686ec9d1f>:15: DeprecationWarning: `np.int` is a deprecated alias for the builtin `int`. To silence this warning, use `int` by itself. Doing this will not modify any behavior and is safe. When replacing `np.int`, you may wish to use e.g. `np.int64` or `np.int32` to specify the precision. If you wish to review your current use, check the release note link for additional information.\n",
            "Deprecated in NumPy 1.20; for more details and guidance: https://numpy.org/devdocs/release/1.20.0-notes.html#deprecations\n",
            "  X_aug, y_aug = np.zeros((augmented_sample_size, feature_size)), np.zeros((augmented_sample_size), dtype=np.int)\n"
          ]
        },
        {
          "output_type": "stream",
          "name": "stdout",
          "text": [
            "Test\n",
            "300 pairs are selected for training\n",
            "len of pair_path_dict: 300\n",
            "Num of training sample: 2670\n",
            "Test\n",
            "\n",
            "\n",
            "Processed 15 graphs\n",
            "740\n"
          ]
        },
        {
          "output_type": "stream",
          "name": "stderr",
          "text": [
            "<ipython-input-8-13c686ec9d1f>:15: DeprecationWarning: `np.int` is a deprecated alias for the builtin `int`. To silence this warning, use `int` by itself. Doing this will not modify any behavior and is safe. When replacing `np.int`, you may wish to use e.g. `np.int64` or `np.int32` to specify the precision. If you wish to review your current use, check the release note link for additional information.\n",
            "Deprecated in NumPy 1.20; for more details and guidance: https://numpy.org/devdocs/release/1.20.0-notes.html#deprecations\n",
            "  X_aug, y_aug = np.zeros((augmented_sample_size, feature_size)), np.zeros((augmented_sample_size), dtype=np.int)\n"
          ]
        },
        {
          "output_type": "stream",
          "name": "stdout",
          "text": [
            "Test\n",
            "300 pairs are selected for training\n",
            "len of pair_path_dict: 300\n",
            "Num of training sample: 2560\n",
            "Test\n",
            "\n",
            "\n",
            "750\n"
          ]
        },
        {
          "output_type": "stream",
          "name": "stderr",
          "text": [
            "<ipython-input-8-13c686ec9d1f>:15: DeprecationWarning: `np.int` is a deprecated alias for the builtin `int`. To silence this warning, use `int` by itself. Doing this will not modify any behavior and is safe. When replacing `np.int`, you may wish to use e.g. `np.int64` or `np.int32` to specify the precision. If you wish to review your current use, check the release note link for additional information.\n",
            "Deprecated in NumPy 1.20; for more details and guidance: https://numpy.org/devdocs/release/1.20.0-notes.html#deprecations\n",
            "  X_aug, y_aug = np.zeros((augmented_sample_size, feature_size)), np.zeros((augmented_sample_size), dtype=np.int)\n"
          ]
        },
        {
          "output_type": "stream",
          "name": "stdout",
          "text": [
            "Test\n",
            "300 pairs are selected for training\n",
            "len of pair_path_dict: 300\n",
            "Num of training sample: 3616\n",
            "Test\n",
            "\n",
            "\n",
            "800\n"
          ]
        },
        {
          "output_type": "stream",
          "name": "stderr",
          "text": [
            "<ipython-input-8-13c686ec9d1f>:15: DeprecationWarning: `np.int` is a deprecated alias for the builtin `int`. To silence this warning, use `int` by itself. Doing this will not modify any behavior and is safe. When replacing `np.int`, you may wish to use e.g. `np.int64` or `np.int32` to specify the precision. If you wish to review your current use, check the release note link for additional information.\n",
            "Deprecated in NumPy 1.20; for more details and guidance: https://numpy.org/devdocs/release/1.20.0-notes.html#deprecations\n",
            "  X_aug, y_aug = np.zeros((augmented_sample_size, feature_size)), np.zeros((augmented_sample_size), dtype=np.int)\n"
          ]
        },
        {
          "output_type": "stream",
          "name": "stdout",
          "text": [
            "Test\n",
            "300 pairs are selected for training\n",
            "len of pair_path_dict: 300\n",
            "Num of training sample: 2558\n",
            "Test\n",
            "\n",
            "\n",
            "685\n"
          ]
        },
        {
          "output_type": "stream",
          "name": "stderr",
          "text": [
            "<ipython-input-8-13c686ec9d1f>:15: DeprecationWarning: `np.int` is a deprecated alias for the builtin `int`. To silence this warning, use `int` by itself. Doing this will not modify any behavior and is safe. When replacing `np.int`, you may wish to use e.g. `np.int64` or `np.int32` to specify the precision. If you wish to review your current use, check the release note link for additional information.\n",
            "Deprecated in NumPy 1.20; for more details and guidance: https://numpy.org/devdocs/release/1.20.0-notes.html#deprecations\n",
            "  X_aug, y_aug = np.zeros((augmented_sample_size, feature_size)), np.zeros((augmented_sample_size), dtype=np.int)\n"
          ]
        },
        {
          "output_type": "stream",
          "name": "stdout",
          "text": [
            "Test\n",
            "300 pairs are selected for training\n",
            "len of pair_path_dict: 300\n",
            "Num of training sample: 2616\n",
            "Test\n",
            "\n",
            "\n",
            "710\n",
            "310\n"
          ]
        },
        {
          "output_type": "stream",
          "name": "stderr",
          "text": [
            "<ipython-input-8-13c686ec9d1f>:15: DeprecationWarning: `np.int` is a deprecated alias for the builtin `int`. To silence this warning, use `int` by itself. Doing this will not modify any behavior and is safe. When replacing `np.int`, you may wish to use e.g. `np.int64` or `np.int32` to specify the precision. If you wish to review your current use, check the release note link for additional information.\n",
            "Deprecated in NumPy 1.20; for more details and guidance: https://numpy.org/devdocs/release/1.20.0-notes.html#deprecations\n",
            "  X_aug, y_aug = np.zeros((augmented_sample_size, feature_size)), np.zeros((augmented_sample_size), dtype=np.int)\n"
          ]
        },
        {
          "output_type": "stream",
          "name": "stdout",
          "text": [
            "Test\n",
            "300 pairs are selected for training\n",
            "len of pair_path_dict: 300\n",
            "Num of training sample: 1982\n",
            "Test\n",
            "\n",
            "\n",
            "Processed 20 graphs\n",
            "795\n",
            "375\n"
          ]
        },
        {
          "output_type": "stream",
          "name": "stderr",
          "text": [
            "<ipython-input-8-13c686ec9d1f>:15: DeprecationWarning: `np.int` is a deprecated alias for the builtin `int`. To silence this warning, use `int` by itself. Doing this will not modify any behavior and is safe. When replacing `np.int`, you may wish to use e.g. `np.int64` or `np.int32` to specify the precision. If you wish to review your current use, check the release note link for additional information.\n",
            "Deprecated in NumPy 1.20; for more details and guidance: https://numpy.org/devdocs/release/1.20.0-notes.html#deprecations\n",
            "  X_aug, y_aug = np.zeros((augmented_sample_size, feature_size)), np.zeros((augmented_sample_size), dtype=np.int)\n"
          ]
        },
        {
          "output_type": "stream",
          "name": "stdout",
          "text": [
            "Test\n",
            "300 pairs are selected for training\n",
            "len of pair_path_dict: 300\n",
            "Num of training sample: 2886\n",
            "Test\n",
            "\n",
            "\n",
            "810\n"
          ]
        },
        {
          "output_type": "stream",
          "name": "stderr",
          "text": [
            "<ipython-input-8-13c686ec9d1f>:15: DeprecationWarning: `np.int` is a deprecated alias for the builtin `int`. To silence this warning, use `int` by itself. Doing this will not modify any behavior and is safe. When replacing `np.int`, you may wish to use e.g. `np.int64` or `np.int32` to specify the precision. If you wish to review your current use, check the release note link for additional information.\n",
            "Deprecated in NumPy 1.20; for more details and guidance: https://numpy.org/devdocs/release/1.20.0-notes.html#deprecations\n",
            "  X_aug, y_aug = np.zeros((augmented_sample_size, feature_size)), np.zeros((augmented_sample_size), dtype=np.int)\n"
          ]
        },
        {
          "output_type": "stream",
          "name": "stdout",
          "text": [
            "Test\n",
            "300 pairs are selected for training\n",
            "len of pair_path_dict: 300\n",
            "Num of training sample: 2802\n",
            "Test\n",
            "\n",
            "\n",
            "765\n"
          ]
        },
        {
          "output_type": "stream",
          "name": "stderr",
          "text": [
            "<ipython-input-8-13c686ec9d1f>:15: DeprecationWarning: `np.int` is a deprecated alias for the builtin `int`. To silence this warning, use `int` by itself. Doing this will not modify any behavior and is safe. When replacing `np.int`, you may wish to use e.g. `np.int64` or `np.int32` to specify the precision. If you wish to review your current use, check the release note link for additional information.\n",
            "Deprecated in NumPy 1.20; for more details and guidance: https://numpy.org/devdocs/release/1.20.0-notes.html#deprecations\n",
            "  X_aug, y_aug = np.zeros((augmented_sample_size, feature_size)), np.zeros((augmented_sample_size), dtype=np.int)\n"
          ]
        },
        {
          "output_type": "stream",
          "name": "stdout",
          "text": [
            "Test\n",
            "300 pairs are selected for training\n",
            "len of pair_path_dict: 300\n",
            "Num of training sample: 3482\n",
            "Test\n",
            "\n",
            "\n",
            "710\n"
          ]
        },
        {
          "output_type": "stream",
          "name": "stderr",
          "text": [
            "<ipython-input-8-13c686ec9d1f>:15: DeprecationWarning: `np.int` is a deprecated alias for the builtin `int`. To silence this warning, use `int` by itself. Doing this will not modify any behavior and is safe. When replacing `np.int`, you may wish to use e.g. `np.int64` or `np.int32` to specify the precision. If you wish to review your current use, check the release note link for additional information.\n",
            "Deprecated in NumPy 1.20; for more details and guidance: https://numpy.org/devdocs/release/1.20.0-notes.html#deprecations\n",
            "  X_aug, y_aug = np.zeros((augmented_sample_size, feature_size)), np.zeros((augmented_sample_size), dtype=np.int)\n"
          ]
        },
        {
          "output_type": "stream",
          "name": "stdout",
          "text": [
            "Test\n",
            "300 pairs are selected for training\n",
            "len of pair_path_dict: 300\n",
            "Num of training sample: 3414\n",
            "Test\n",
            "\n",
            "\n",
            "815\n"
          ]
        },
        {
          "output_type": "stream",
          "name": "stderr",
          "text": [
            "<ipython-input-8-13c686ec9d1f>:15: DeprecationWarning: `np.int` is a deprecated alias for the builtin `int`. To silence this warning, use `int` by itself. Doing this will not modify any behavior and is safe. When replacing `np.int`, you may wish to use e.g. `np.int64` or `np.int32` to specify the precision. If you wish to review your current use, check the release note link for additional information.\n",
            "Deprecated in NumPy 1.20; for more details and guidance: https://numpy.org/devdocs/release/1.20.0-notes.html#deprecations\n",
            "  X_aug, y_aug = np.zeros((augmented_sample_size, feature_size)), np.zeros((augmented_sample_size), dtype=np.int)\n"
          ]
        },
        {
          "output_type": "stream",
          "name": "stdout",
          "text": [
            "Test\n",
            "300 pairs are selected for training\n",
            "len of pair_path_dict: 300\n",
            "Num of training sample: 3250\n",
            "Test\n",
            "\n",
            "\n",
            "Processed 25 graphs\n",
            "700\n",
            "335\n"
          ]
        },
        {
          "output_type": "stream",
          "name": "stderr",
          "text": [
            "<ipython-input-8-13c686ec9d1f>:15: DeprecationWarning: `np.int` is a deprecated alias for the builtin `int`. To silence this warning, use `int` by itself. Doing this will not modify any behavior and is safe. When replacing `np.int`, you may wish to use e.g. `np.int64` or `np.int32` to specify the precision. If you wish to review your current use, check the release note link for additional information.\n",
            "Deprecated in NumPy 1.20; for more details and guidance: https://numpy.org/devdocs/release/1.20.0-notes.html#deprecations\n",
            "  X_aug, y_aug = np.zeros((augmented_sample_size, feature_size)), np.zeros((augmented_sample_size), dtype=np.int)\n"
          ]
        },
        {
          "output_type": "stream",
          "name": "stdout",
          "text": [
            "370\n",
            "Test\n",
            "300 pairs are selected for training\n",
            "len of pair_path_dict: 300\n",
            "Num of training sample: 1860\n",
            "Test\n",
            "\n",
            "\n",
            "650\n"
          ]
        },
        {
          "output_type": "stream",
          "name": "stderr",
          "text": [
            "<ipython-input-8-13c686ec9d1f>:15: DeprecationWarning: `np.int` is a deprecated alias for the builtin `int`. To silence this warning, use `int` by itself. Doing this will not modify any behavior and is safe. When replacing `np.int`, you may wish to use e.g. `np.int64` or `np.int32` to specify the precision. If you wish to review your current use, check the release note link for additional information.\n",
            "Deprecated in NumPy 1.20; for more details and guidance: https://numpy.org/devdocs/release/1.20.0-notes.html#deprecations\n",
            "  X_aug, y_aug = np.zeros((augmented_sample_size, feature_size)), np.zeros((augmented_sample_size), dtype=np.int)\n"
          ]
        },
        {
          "output_type": "stream",
          "name": "stdout",
          "text": [
            "Test\n",
            "300 pairs are selected for training\n",
            "len of pair_path_dict: 300\n",
            "Num of training sample: 2776\n",
            "Test\n",
            "\n",
            "\n",
            "665\n"
          ]
        },
        {
          "output_type": "stream",
          "name": "stderr",
          "text": [
            "<ipython-input-8-13c686ec9d1f>:15: DeprecationWarning: `np.int` is a deprecated alias for the builtin `int`. To silence this warning, use `int` by itself. Doing this will not modify any behavior and is safe. When replacing `np.int`, you may wish to use e.g. `np.int64` or `np.int32` to specify the precision. If you wish to review your current use, check the release note link for additional information.\n",
            "Deprecated in NumPy 1.20; for more details and guidance: https://numpy.org/devdocs/release/1.20.0-notes.html#deprecations\n",
            "  X_aug, y_aug = np.zeros((augmented_sample_size, feature_size)), np.zeros((augmented_sample_size), dtype=np.int)\n"
          ]
        },
        {
          "output_type": "stream",
          "name": "stdout",
          "text": [
            "Test\n",
            "300 pairs are selected for training\n",
            "len of pair_path_dict: 300\n",
            "Num of training sample: 3134\n",
            "Test\n",
            "\n",
            "\n",
            "800\n"
          ]
        },
        {
          "output_type": "stream",
          "name": "stderr",
          "text": [
            "<ipython-input-8-13c686ec9d1f>:15: DeprecationWarning: `np.int` is a deprecated alias for the builtin `int`. To silence this warning, use `int` by itself. Doing this will not modify any behavior and is safe. When replacing `np.int`, you may wish to use e.g. `np.int64` or `np.int32` to specify the precision. If you wish to review your current use, check the release note link for additional information.\n",
            "Deprecated in NumPy 1.20; for more details and guidance: https://numpy.org/devdocs/release/1.20.0-notes.html#deprecations\n",
            "  X_aug, y_aug = np.zeros((augmented_sample_size, feature_size)), np.zeros((augmented_sample_size), dtype=np.int)\n"
          ]
        },
        {
          "output_type": "stream",
          "name": "stdout",
          "text": [
            "Test\n",
            "300 pairs are selected for training\n",
            "len of pair_path_dict: 300\n",
            "Num of training sample: 2572\n",
            "Test\n",
            "\n",
            "\n",
            "705\n"
          ]
        },
        {
          "output_type": "stream",
          "name": "stderr",
          "text": [
            "<ipython-input-8-13c686ec9d1f>:15: DeprecationWarning: `np.int` is a deprecated alias for the builtin `int`. To silence this warning, use `int` by itself. Doing this will not modify any behavior and is safe. When replacing `np.int`, you may wish to use e.g. `np.int64` or `np.int32` to specify the precision. If you wish to review your current use, check the release note link for additional information.\n",
            "Deprecated in NumPy 1.20; for more details and guidance: https://numpy.org/devdocs/release/1.20.0-notes.html#deprecations\n",
            "  X_aug, y_aug = np.zeros((augmented_sample_size, feature_size)), np.zeros((augmented_sample_size), dtype=np.int)\n"
          ]
        },
        {
          "output_type": "stream",
          "name": "stdout",
          "text": [
            "Test\n",
            "300 pairs are selected for training\n",
            "len of pair_path_dict: 300\n",
            "Num of training sample: 2532\n",
            "Test\n",
            "\n",
            "\n",
            "Processed 30 graphs\n",
            "745\n"
          ]
        },
        {
          "output_type": "stream",
          "name": "stderr",
          "text": [
            "<ipython-input-8-13c686ec9d1f>:15: DeprecationWarning: `np.int` is a deprecated alias for the builtin `int`. To silence this warning, use `int` by itself. Doing this will not modify any behavior and is safe. When replacing `np.int`, you may wish to use e.g. `np.int64` or `np.int32` to specify the precision. If you wish to review your current use, check the release note link for additional information.\n",
            "Deprecated in NumPy 1.20; for more details and guidance: https://numpy.org/devdocs/release/1.20.0-notes.html#deprecations\n",
            "  X_aug, y_aug = np.zeros((augmented_sample_size, feature_size)), np.zeros((augmented_sample_size), dtype=np.int)\n"
          ]
        },
        {
          "output_type": "stream",
          "name": "stdout",
          "text": [
            "Test\n",
            "300 pairs are selected for training\n",
            "len of pair_path_dict: 300\n",
            "Num of training sample: 2776\n",
            "Test\n",
            "\n",
            "\n",
            "680\n"
          ]
        },
        {
          "output_type": "stream",
          "name": "stderr",
          "text": [
            "<ipython-input-8-13c686ec9d1f>:15: DeprecationWarning: `np.int` is a deprecated alias for the builtin `int`. To silence this warning, use `int` by itself. Doing this will not modify any behavior and is safe. When replacing `np.int`, you may wish to use e.g. `np.int64` or `np.int32` to specify the precision. If you wish to review your current use, check the release note link for additional information.\n",
            "Deprecated in NumPy 1.20; for more details and guidance: https://numpy.org/devdocs/release/1.20.0-notes.html#deprecations\n",
            "  X_aug, y_aug = np.zeros((augmented_sample_size, feature_size)), np.zeros((augmented_sample_size), dtype=np.int)\n"
          ]
        },
        {
          "output_type": "stream",
          "name": "stdout",
          "text": [
            "Test\n",
            "300 pairs are selected for training\n",
            "len of pair_path_dict: 300\n",
            "Num of training sample: 3352\n",
            "Test\n",
            "\n",
            "\n",
            "770\n",
            "325\n"
          ]
        },
        {
          "output_type": "stream",
          "name": "stderr",
          "text": [
            "<ipython-input-8-13c686ec9d1f>:15: DeprecationWarning: `np.int` is a deprecated alias for the builtin `int`. To silence this warning, use `int` by itself. Doing this will not modify any behavior and is safe. When replacing `np.int`, you may wish to use e.g. `np.int64` or `np.int32` to specify the precision. If you wish to review your current use, check the release note link for additional information.\n",
            "Deprecated in NumPy 1.20; for more details and guidance: https://numpy.org/devdocs/release/1.20.0-notes.html#deprecations\n",
            "  X_aug, y_aug = np.zeros((augmented_sample_size, feature_size)), np.zeros((augmented_sample_size), dtype=np.int)\n"
          ]
        },
        {
          "output_type": "stream",
          "name": "stdout",
          "text": [
            "Test\n",
            "300 pairs are selected for training\n",
            "len of pair_path_dict: 300\n",
            "Num of training sample: 2208\n",
            "Test\n",
            "\n",
            "\n",
            "825\n"
          ]
        },
        {
          "output_type": "stream",
          "name": "stderr",
          "text": [
            "<ipython-input-8-13c686ec9d1f>:15: DeprecationWarning: `np.int` is a deprecated alias for the builtin `int`. To silence this warning, use `int` by itself. Doing this will not modify any behavior and is safe. When replacing `np.int`, you may wish to use e.g. `np.int64` or `np.int32` to specify the precision. If you wish to review your current use, check the release note link for additional information.\n",
            "Deprecated in NumPy 1.20; for more details and guidance: https://numpy.org/devdocs/release/1.20.0-notes.html#deprecations\n",
            "  X_aug, y_aug = np.zeros((augmented_sample_size, feature_size)), np.zeros((augmented_sample_size), dtype=np.int)\n"
          ]
        },
        {
          "output_type": "stream",
          "name": "stdout",
          "text": [
            "Test\n",
            "300 pairs are selected for training\n",
            "len of pair_path_dict: 300\n",
            "Num of training sample: 2538\n",
            "Test\n",
            "\n",
            "\n",
            "785\n"
          ]
        },
        {
          "output_type": "stream",
          "name": "stderr",
          "text": [
            "<ipython-input-8-13c686ec9d1f>:15: DeprecationWarning: `np.int` is a deprecated alias for the builtin `int`. To silence this warning, use `int` by itself. Doing this will not modify any behavior and is safe. When replacing `np.int`, you may wish to use e.g. `np.int64` or `np.int32` to specify the precision. If you wish to review your current use, check the release note link for additional information.\n",
            "Deprecated in NumPy 1.20; for more details and guidance: https://numpy.org/devdocs/release/1.20.0-notes.html#deprecations\n",
            "  X_aug, y_aug = np.zeros((augmented_sample_size, feature_size)), np.zeros((augmented_sample_size), dtype=np.int)\n"
          ]
        },
        {
          "output_type": "stream",
          "name": "stdout",
          "text": [
            "Test\n",
            "300 pairs are selected for training\n",
            "len of pair_path_dict: 300\n",
            "Num of training sample: 3160\n",
            "Test\n",
            "\n",
            "\n",
            "Processed 35 graphs\n",
            "745\n",
            "365\n"
          ]
        },
        {
          "output_type": "stream",
          "name": "stderr",
          "text": [
            "<ipython-input-8-13c686ec9d1f>:15: DeprecationWarning: `np.int` is a deprecated alias for the builtin `int`. To silence this warning, use `int` by itself. Doing this will not modify any behavior and is safe. When replacing `np.int`, you may wish to use e.g. `np.int64` or `np.int32` to specify the precision. If you wish to review your current use, check the release note link for additional information.\n",
            "Deprecated in NumPy 1.20; for more details and guidance: https://numpy.org/devdocs/release/1.20.0-notes.html#deprecations\n",
            "  X_aug, y_aug = np.zeros((augmented_sample_size, feature_size)), np.zeros((augmented_sample_size), dtype=np.int)\n"
          ]
        },
        {
          "output_type": "stream",
          "name": "stdout",
          "text": [
            "Test\n",
            "300 pairs are selected for training\n",
            "len of pair_path_dict: 300\n",
            "Num of training sample: 1778\n",
            "Test\n",
            "\n",
            "\n",
            "770\n",
            "360\n",
            "325\n",
            "390\n",
            "305\n"
          ]
        },
        {
          "output_type": "stream",
          "name": "stderr",
          "text": [
            "<ipython-input-8-13c686ec9d1f>:15: DeprecationWarning: `np.int` is a deprecated alias for the builtin `int`. To silence this warning, use `int` by itself. Doing this will not modify any behavior and is safe. When replacing `np.int`, you may wish to use e.g. `np.int64` or `np.int32` to specify the precision. If you wish to review your current use, check the release note link for additional information.\n",
            "Deprecated in NumPy 1.20; for more details and guidance: https://numpy.org/devdocs/release/1.20.0-notes.html#deprecations\n",
            "  X_aug, y_aug = np.zeros((augmented_sample_size, feature_size)), np.zeros((augmented_sample_size), dtype=np.int)\n"
          ]
        },
        {
          "output_type": "stream",
          "name": "stdout",
          "text": [
            "Test\n",
            "300 pairs are selected for training\n",
            "len of pair_path_dict: 300\n",
            "Num of training sample: 2032\n",
            "Test\n",
            "\n",
            "\n",
            "710\n",
            "350\n",
            "340\n"
          ]
        },
        {
          "output_type": "stream",
          "name": "stderr",
          "text": [
            "<ipython-input-8-13c686ec9d1f>:15: DeprecationWarning: `np.int` is a deprecated alias for the builtin `int`. To silence this warning, use `int` by itself. Doing this will not modify any behavior and is safe. When replacing `np.int`, you may wish to use e.g. `np.int64` or `np.int32` to specify the precision. If you wish to review your current use, check the release note link for additional information.\n",
            "Deprecated in NumPy 1.20; for more details and guidance: https://numpy.org/devdocs/release/1.20.0-notes.html#deprecations\n",
            "  X_aug, y_aug = np.zeros((augmented_sample_size, feature_size)), np.zeros((augmented_sample_size), dtype=np.int)\n"
          ]
        },
        {
          "output_type": "stream",
          "name": "stdout",
          "text": [
            "Test\n",
            "300 pairs are selected for training\n",
            "len of pair_path_dict: 300\n",
            "Num of training sample: 1980\n",
            "Test\n",
            "\n",
            "\n",
            "820\n"
          ]
        },
        {
          "output_type": "stream",
          "name": "stderr",
          "text": [
            "<ipython-input-8-13c686ec9d1f>:15: DeprecationWarning: `np.int` is a deprecated alias for the builtin `int`. To silence this warning, use `int` by itself. Doing this will not modify any behavior and is safe. When replacing `np.int`, you may wish to use e.g. `np.int64` or `np.int32` to specify the precision. If you wish to review your current use, check the release note link for additional information.\n",
            "Deprecated in NumPy 1.20; for more details and guidance: https://numpy.org/devdocs/release/1.20.0-notes.html#deprecations\n",
            "  X_aug, y_aug = np.zeros((augmented_sample_size, feature_size)), np.zeros((augmented_sample_size), dtype=np.int)\n"
          ]
        },
        {
          "output_type": "stream",
          "name": "stdout",
          "text": [
            "Test\n",
            "300 pairs are selected for training\n",
            "len of pair_path_dict: 300\n",
            "Num of training sample: 3132\n",
            "Test\n",
            "\n",
            "\n",
            "685\n"
          ]
        },
        {
          "output_type": "stream",
          "name": "stderr",
          "text": [
            "<ipython-input-8-13c686ec9d1f>:15: DeprecationWarning: `np.int` is a deprecated alias for the builtin `int`. To silence this warning, use `int` by itself. Doing this will not modify any behavior and is safe. When replacing `np.int`, you may wish to use e.g. `np.int64` or `np.int32` to specify the precision. If you wish to review your current use, check the release note link for additional information.\n",
            "Deprecated in NumPy 1.20; for more details and guidance: https://numpy.org/devdocs/release/1.20.0-notes.html#deprecations\n",
            "  X_aug, y_aug = np.zeros((augmented_sample_size, feature_size)), np.zeros((augmented_sample_size), dtype=np.int)\n"
          ]
        },
        {
          "output_type": "stream",
          "name": "stdout",
          "text": [
            "Test\n",
            "300 pairs are selected for training\n",
            "len of pair_path_dict: 300\n",
            "Num of training sample: 2530\n",
            "Test\n",
            "\n",
            "\n",
            "Processed 40 graphs\n",
            "725\n"
          ]
        },
        {
          "output_type": "stream",
          "name": "stderr",
          "text": [
            "<ipython-input-8-13c686ec9d1f>:15: DeprecationWarning: `np.int` is a deprecated alias for the builtin `int`. To silence this warning, use `int` by itself. Doing this will not modify any behavior and is safe. When replacing `np.int`, you may wish to use e.g. `np.int64` or `np.int32` to specify the precision. If you wish to review your current use, check the release note link for additional information.\n",
            "Deprecated in NumPy 1.20; for more details and guidance: https://numpy.org/devdocs/release/1.20.0-notes.html#deprecations\n",
            "  X_aug, y_aug = np.zeros((augmented_sample_size, feature_size)), np.zeros((augmented_sample_size), dtype=np.int)\n"
          ]
        },
        {
          "output_type": "stream",
          "name": "stdout",
          "text": [
            "Test\n",
            "300 pairs are selected for training\n",
            "len of pair_path_dict: 300\n",
            "Num of training sample: 3146\n",
            "Test\n",
            "\n",
            "\n",
            "740\n",
            "365\n"
          ]
        },
        {
          "output_type": "stream",
          "name": "stderr",
          "text": [
            "<ipython-input-8-13c686ec9d1f>:15: DeprecationWarning: `np.int` is a deprecated alias for the builtin `int`. To silence this warning, use `int` by itself. Doing this will not modify any behavior and is safe. When replacing `np.int`, you may wish to use e.g. `np.int64` or `np.int32` to specify the precision. If you wish to review your current use, check the release note link for additional information.\n",
            "Deprecated in NumPy 1.20; for more details and guidance: https://numpy.org/devdocs/release/1.20.0-notes.html#deprecations\n",
            "  X_aug, y_aug = np.zeros((augmented_sample_size, feature_size)), np.zeros((augmented_sample_size), dtype=np.int)\n"
          ]
        },
        {
          "output_type": "stream",
          "name": "stdout",
          "text": [
            "Test\n",
            "300 pairs are selected for training\n",
            "len of pair_path_dict: 300\n",
            "Num of training sample: 2342\n",
            "Test\n",
            "\n",
            "\n",
            "785\n"
          ]
        },
        {
          "output_type": "stream",
          "name": "stderr",
          "text": [
            "<ipython-input-8-13c686ec9d1f>:15: DeprecationWarning: `np.int` is a deprecated alias for the builtin `int`. To silence this warning, use `int` by itself. Doing this will not modify any behavior and is safe. When replacing `np.int`, you may wish to use e.g. `np.int64` or `np.int32` to specify the precision. If you wish to review your current use, check the release note link for additional information.\n",
            "Deprecated in NumPy 1.20; for more details and guidance: https://numpy.org/devdocs/release/1.20.0-notes.html#deprecations\n",
            "  X_aug, y_aug = np.zeros((augmented_sample_size, feature_size)), np.zeros((augmented_sample_size), dtype=np.int)\n"
          ]
        },
        {
          "output_type": "stream",
          "name": "stdout",
          "text": [
            "Test\n",
            "300 pairs are selected for training\n",
            "len of pair_path_dict: 300\n",
            "Num of training sample: 3244\n",
            "Test\n",
            "\n",
            "\n",
            "695\n",
            "410\n"
          ]
        },
        {
          "output_type": "stream",
          "name": "stderr",
          "text": [
            "<ipython-input-8-13c686ec9d1f>:15: DeprecationWarning: `np.int` is a deprecated alias for the builtin `int`. To silence this warning, use `int` by itself. Doing this will not modify any behavior and is safe. When replacing `np.int`, you may wish to use e.g. `np.int64` or `np.int32` to specify the precision. If you wish to review your current use, check the release note link for additional information.\n",
            "Deprecated in NumPy 1.20; for more details and guidance: https://numpy.org/devdocs/release/1.20.0-notes.html#deprecations\n",
            "  X_aug, y_aug = np.zeros((augmented_sample_size, feature_size)), np.zeros((augmented_sample_size), dtype=np.int)\n"
          ]
        },
        {
          "output_type": "stream",
          "name": "stdout",
          "text": [
            "385\n",
            "Test\n",
            "300 pairs are selected for training\n",
            "len of pair_path_dict: 300\n",
            "Num of training sample: 1686\n",
            "Test\n",
            "\n",
            "\n",
            "685\n"
          ]
        },
        {
          "output_type": "stream",
          "name": "stderr",
          "text": [
            "<ipython-input-8-13c686ec9d1f>:15: DeprecationWarning: `np.int` is a deprecated alias for the builtin `int`. To silence this warning, use `int` by itself. Doing this will not modify any behavior and is safe. When replacing `np.int`, you may wish to use e.g. `np.int64` or `np.int32` to specify the precision. If you wish to review your current use, check the release note link for additional information.\n",
            "Deprecated in NumPy 1.20; for more details and guidance: https://numpy.org/devdocs/release/1.20.0-notes.html#deprecations\n",
            "  X_aug, y_aug = np.zeros((augmented_sample_size, feature_size)), np.zeros((augmented_sample_size), dtype=np.int)\n"
          ]
        },
        {
          "output_type": "stream",
          "name": "stdout",
          "text": [
            "Test\n",
            "300 pairs are selected for training\n",
            "len of pair_path_dict: 300\n",
            "Num of training sample: 2578\n",
            "Test\n",
            "\n",
            "\n",
            "Processed 45 graphs\n",
            "780\n"
          ]
        },
        {
          "output_type": "stream",
          "name": "stderr",
          "text": [
            "<ipython-input-8-13c686ec9d1f>:15: DeprecationWarning: `np.int` is a deprecated alias for the builtin `int`. To silence this warning, use `int` by itself. Doing this will not modify any behavior and is safe. When replacing `np.int`, you may wish to use e.g. `np.int64` or `np.int32` to specify the precision. If you wish to review your current use, check the release note link for additional information.\n",
            "Deprecated in NumPy 1.20; for more details and guidance: https://numpy.org/devdocs/release/1.20.0-notes.html#deprecations\n",
            "  X_aug, y_aug = np.zeros((augmented_sample_size, feature_size)), np.zeros((augmented_sample_size), dtype=np.int)\n"
          ]
        },
        {
          "output_type": "stream",
          "name": "stdout",
          "text": [
            "Test\n",
            "300 pairs are selected for training\n",
            "len of pair_path_dict: 300\n",
            "Num of training sample: 3100\n",
            "Test\n",
            "\n",
            "\n",
            "795\n"
          ]
        },
        {
          "output_type": "stream",
          "name": "stderr",
          "text": [
            "<ipython-input-8-13c686ec9d1f>:15: DeprecationWarning: `np.int` is a deprecated alias for the builtin `int`. To silence this warning, use `int` by itself. Doing this will not modify any behavior and is safe. When replacing `np.int`, you may wish to use e.g. `np.int64` or `np.int32` to specify the precision. If you wish to review your current use, check the release note link for additional information.\n",
            "Deprecated in NumPy 1.20; for more details and guidance: https://numpy.org/devdocs/release/1.20.0-notes.html#deprecations\n",
            "  X_aug, y_aug = np.zeros((augmented_sample_size, feature_size)), np.zeros((augmented_sample_size), dtype=np.int)\n"
          ]
        },
        {
          "output_type": "stream",
          "name": "stdout",
          "text": [
            "Test\n",
            "300 pairs are selected for training\n",
            "len of pair_path_dict: 300\n",
            "Num of training sample: 2770\n",
            "Test\n",
            "\n",
            "\n",
            "725\n"
          ]
        },
        {
          "output_type": "stream",
          "name": "stderr",
          "text": [
            "<ipython-input-8-13c686ec9d1f>:15: DeprecationWarning: `np.int` is a deprecated alias for the builtin `int`. To silence this warning, use `int` by itself. Doing this will not modify any behavior and is safe. When replacing `np.int`, you may wish to use e.g. `np.int64` or `np.int32` to specify the precision. If you wish to review your current use, check the release note link for additional information.\n",
            "Deprecated in NumPy 1.20; for more details and guidance: https://numpy.org/devdocs/release/1.20.0-notes.html#deprecations\n",
            "  X_aug, y_aug = np.zeros((augmented_sample_size, feature_size)), np.zeros((augmented_sample_size), dtype=np.int)\n"
          ]
        },
        {
          "output_type": "stream",
          "name": "stdout",
          "text": [
            "Test\n",
            "300 pairs are selected for training\n",
            "len of pair_path_dict: 300\n",
            "Num of training sample: 3588\n",
            "Test\n",
            "\n",
            "\n",
            "730\n"
          ]
        },
        {
          "output_type": "stream",
          "name": "stderr",
          "text": [
            "<ipython-input-8-13c686ec9d1f>:15: DeprecationWarning: `np.int` is a deprecated alias for the builtin `int`. To silence this warning, use `int` by itself. Doing this will not modify any behavior and is safe. When replacing `np.int`, you may wish to use e.g. `np.int64` or `np.int32` to specify the precision. If you wish to review your current use, check the release note link for additional information.\n",
            "Deprecated in NumPy 1.20; for more details and guidance: https://numpy.org/devdocs/release/1.20.0-notes.html#deprecations\n",
            "  X_aug, y_aug = np.zeros((augmented_sample_size, feature_size)), np.zeros((augmented_sample_size), dtype=np.int)\n"
          ]
        },
        {
          "output_type": "stream",
          "name": "stdout",
          "text": [
            "Test\n",
            "300 pairs are selected for training\n",
            "len of pair_path_dict: 300\n",
            "Num of training sample: 2838\n",
            "Test\n",
            "\n",
            "\n",
            "825\n",
            "395\n"
          ]
        },
        {
          "output_type": "stream",
          "name": "stderr",
          "text": [
            "<ipython-input-8-13c686ec9d1f>:15: DeprecationWarning: `np.int` is a deprecated alias for the builtin `int`. To silence this warning, use `int` by itself. Doing this will not modify any behavior and is safe. When replacing `np.int`, you may wish to use e.g. `np.int64` or `np.int32` to specify the precision. If you wish to review your current use, check the release note link for additional information.\n",
            "Deprecated in NumPy 1.20; for more details and guidance: https://numpy.org/devdocs/release/1.20.0-notes.html#deprecations\n",
            "  X_aug, y_aug = np.zeros((augmented_sample_size, feature_size)), np.zeros((augmented_sample_size), dtype=np.int)\n"
          ]
        },
        {
          "output_type": "stream",
          "name": "stdout",
          "text": [
            "Test\n",
            "300 pairs are selected for training\n",
            "len of pair_path_dict: 300\n",
            "Num of training sample: 2022\n",
            "Test\n",
            "\n",
            "\n",
            "Working on graphs with 150 nodes\n",
            "1130\n",
            "370\n",
            "400\n",
            "385\n",
            "385\n"
          ]
        },
        {
          "output_type": "stream",
          "name": "stderr",
          "text": [
            "<ipython-input-8-13c686ec9d1f>:15: DeprecationWarning: `np.int` is a deprecated alias for the builtin `int`. To silence this warning, use `int` by itself. Doing this will not modify any behavior and is safe. When replacing `np.int`, you may wish to use e.g. `np.int64` or `np.int32` to specify the precision. If you wish to review your current use, check the release note link for additional information.\n",
            "Deprecated in NumPy 1.20; for more details and guidance: https://numpy.org/devdocs/release/1.20.0-notes.html#deprecations\n",
            "  X_aug, y_aug = np.zeros((augmented_sample_size, feature_size)), np.zeros((augmented_sample_size), dtype=np.int)\n"
          ]
        },
        {
          "output_type": "stream",
          "name": "stdout",
          "text": [
            "Test\n",
            "300 pairs are selected for training\n",
            "len of pair_path_dict: 300\n",
            "Num of training sample: 1614\n",
            "Test\n",
            "\n",
            "\n",
            "1080\n",
            "365\n",
            "415\n"
          ]
        },
        {
          "output_type": "stream",
          "name": "stderr",
          "text": [
            "<ipython-input-8-13c686ec9d1f>:15: DeprecationWarning: `np.int` is a deprecated alias for the builtin `int`. To silence this warning, use `int` by itself. Doing this will not modify any behavior and is safe. When replacing `np.int`, you may wish to use e.g. `np.int64` or `np.int32` to specify the precision. If you wish to review your current use, check the release note link for additional information.\n",
            "Deprecated in NumPy 1.20; for more details and guidance: https://numpy.org/devdocs/release/1.20.0-notes.html#deprecations\n",
            "  X_aug, y_aug = np.zeros((augmented_sample_size, feature_size)), np.zeros((augmented_sample_size), dtype=np.int)\n"
          ]
        },
        {
          "output_type": "stream",
          "name": "stdout",
          "text": [
            "Test\n",
            "300 pairs are selected for training\n",
            "len of pair_path_dict: 300\n",
            "Num of training sample: 1698\n",
            "Test\n",
            "\n",
            "\n",
            "1225\n",
            "370\n"
          ]
        },
        {
          "output_type": "stream",
          "name": "stderr",
          "text": [
            "<ipython-input-8-13c686ec9d1f>:15: DeprecationWarning: `np.int` is a deprecated alias for the builtin `int`. To silence this warning, use `int` by itself. Doing this will not modify any behavior and is safe. When replacing `np.int`, you may wish to use e.g. `np.int64` or `np.int32` to specify the precision. If you wish to review your current use, check the release note link for additional information.\n",
            "Deprecated in NumPy 1.20; for more details and guidance: https://numpy.org/devdocs/release/1.20.0-notes.html#deprecations\n",
            "  X_aug, y_aug = np.zeros((augmented_sample_size, feature_size)), np.zeros((augmented_sample_size), dtype=np.int)\n"
          ]
        },
        {
          "output_type": "stream",
          "name": "stdout",
          "text": [
            "Test\n",
            "300 pairs are selected for training\n",
            "len of pair_path_dict: 300\n",
            "Num of training sample: 1834\n",
            "Test\n",
            "\n",
            "\n",
            "1220\n"
          ]
        },
        {
          "output_type": "stream",
          "name": "stderr",
          "text": [
            "<ipython-input-8-13c686ec9d1f>:15: DeprecationWarning: `np.int` is a deprecated alias for the builtin `int`. To silence this warning, use `int` by itself. Doing this will not modify any behavior and is safe. When replacing `np.int`, you may wish to use e.g. `np.int64` or `np.int32` to specify the precision. If you wish to review your current use, check the release note link for additional information.\n",
            "Deprecated in NumPy 1.20; for more details and guidance: https://numpy.org/devdocs/release/1.20.0-notes.html#deprecations\n",
            "  X_aug, y_aug = np.zeros((augmented_sample_size, feature_size)), np.zeros((augmented_sample_size), dtype=np.int)\n"
          ]
        },
        {
          "output_type": "stream",
          "name": "stdout",
          "text": [
            "Test\n",
            "300 pairs are selected for training\n",
            "len of pair_path_dict: 300\n",
            "Num of training sample: 3774\n",
            "Test\n",
            "\n",
            "\n",
            "1085\n"
          ]
        },
        {
          "output_type": "stream",
          "name": "stderr",
          "text": [
            "<ipython-input-8-13c686ec9d1f>:15: DeprecationWarning: `np.int` is a deprecated alias for the builtin `int`. To silence this warning, use `int` by itself. Doing this will not modify any behavior and is safe. When replacing `np.int`, you may wish to use e.g. `np.int64` or `np.int32` to specify the precision. If you wish to review your current use, check the release note link for additional information.\n",
            "Deprecated in NumPy 1.20; for more details and guidance: https://numpy.org/devdocs/release/1.20.0-notes.html#deprecations\n",
            "  X_aug, y_aug = np.zeros((augmented_sample_size, feature_size)), np.zeros((augmented_sample_size), dtype=np.int)\n"
          ]
        },
        {
          "output_type": "stream",
          "name": "stdout",
          "text": [
            "Test\n",
            "300 pairs are selected for training\n",
            "len of pair_path_dict: 300\n",
            "Num of training sample: 3536\n",
            "Test\n",
            "\n",
            "\n",
            "Processed 5 graphs\n",
            "1285\n"
          ]
        },
        {
          "output_type": "stream",
          "name": "stderr",
          "text": [
            "<ipython-input-8-13c686ec9d1f>:15: DeprecationWarning: `np.int` is a deprecated alias for the builtin `int`. To silence this warning, use `int` by itself. Doing this will not modify any behavior and is safe. When replacing `np.int`, you may wish to use e.g. `np.int64` or `np.int32` to specify the precision. If you wish to review your current use, check the release note link for additional information.\n",
            "Deprecated in NumPy 1.20; for more details and guidance: https://numpy.org/devdocs/release/1.20.0-notes.html#deprecations\n",
            "  X_aug, y_aug = np.zeros((augmented_sample_size, feature_size)), np.zeros((augmented_sample_size), dtype=np.int)\n"
          ]
        },
        {
          "output_type": "stream",
          "name": "stdout",
          "text": [
            "Test\n",
            "300 pairs are selected for training\n",
            "len of pair_path_dict: 300\n",
            "Num of training sample: 3852\n",
            "Test\n",
            "\n",
            "\n",
            "1090\n"
          ]
        },
        {
          "output_type": "stream",
          "name": "stderr",
          "text": [
            "<ipython-input-8-13c686ec9d1f>:15: DeprecationWarning: `np.int` is a deprecated alias for the builtin `int`. To silence this warning, use `int` by itself. Doing this will not modify any behavior and is safe. When replacing `np.int`, you may wish to use e.g. `np.int64` or `np.int32` to specify the precision. If you wish to review your current use, check the release note link for additional information.\n",
            "Deprecated in NumPy 1.20; for more details and guidance: https://numpy.org/devdocs/release/1.20.0-notes.html#deprecations\n",
            "  X_aug, y_aug = np.zeros((augmented_sample_size, feature_size)), np.zeros((augmented_sample_size), dtype=np.int)\n"
          ]
        },
        {
          "output_type": "stream",
          "name": "stdout",
          "text": [
            "Test\n",
            "300 pairs are selected for training\n",
            "len of pair_path_dict: 300\n",
            "Num of training sample: 3002\n",
            "Test\n",
            "\n",
            "\n",
            "1105\n"
          ]
        },
        {
          "output_type": "stream",
          "name": "stderr",
          "text": [
            "<ipython-input-8-13c686ec9d1f>:15: DeprecationWarning: `np.int` is a deprecated alias for the builtin `int`. To silence this warning, use `int` by itself. Doing this will not modify any behavior and is safe. When replacing `np.int`, you may wish to use e.g. `np.int64` or `np.int32` to specify the precision. If you wish to review your current use, check the release note link for additional information.\n",
            "Deprecated in NumPy 1.20; for more details and guidance: https://numpy.org/devdocs/release/1.20.0-notes.html#deprecations\n",
            "  X_aug, y_aug = np.zeros((augmented_sample_size, feature_size)), np.zeros((augmented_sample_size), dtype=np.int)\n"
          ]
        },
        {
          "output_type": "stream",
          "name": "stdout",
          "text": [
            "Test\n",
            "300 pairs are selected for training\n",
            "len of pair_path_dict: 300\n",
            "Num of training sample: 3398\n",
            "Test\n",
            "\n",
            "\n",
            "1065\n",
            "340\n",
            "355\n"
          ]
        },
        {
          "output_type": "stream",
          "name": "stderr",
          "text": [
            "<ipython-input-8-13c686ec9d1f>:15: DeprecationWarning: `np.int` is a deprecated alias for the builtin `int`. To silence this warning, use `int` by itself. Doing this will not modify any behavior and is safe. When replacing `np.int`, you may wish to use e.g. `np.int64` or `np.int32` to specify the precision. If you wish to review your current use, check the release note link for additional information.\n",
            "Deprecated in NumPy 1.20; for more details and guidance: https://numpy.org/devdocs/release/1.20.0-notes.html#deprecations\n",
            "  X_aug, y_aug = np.zeros((augmented_sample_size, feature_size)), np.zeros((augmented_sample_size), dtype=np.int)\n"
          ]
        },
        {
          "output_type": "stream",
          "name": "stdout",
          "text": [
            "Test\n",
            "300 pairs are selected for training\n",
            "len of pair_path_dict: 300\n",
            "Num of training sample: 2190\n",
            "Test\n",
            "\n",
            "\n",
            "1215\n"
          ]
        },
        {
          "output_type": "stream",
          "name": "stderr",
          "text": [
            "<ipython-input-8-13c686ec9d1f>:15: DeprecationWarning: `np.int` is a deprecated alias for the builtin `int`. To silence this warning, use `int` by itself. Doing this will not modify any behavior and is safe. When replacing `np.int`, you may wish to use e.g. `np.int64` or `np.int32` to specify the precision. If you wish to review your current use, check the release note link for additional information.\n",
            "Deprecated in NumPy 1.20; for more details and guidance: https://numpy.org/devdocs/release/1.20.0-notes.html#deprecations\n",
            "  X_aug, y_aug = np.zeros((augmented_sample_size, feature_size)), np.zeros((augmented_sample_size), dtype=np.int)\n"
          ]
        },
        {
          "output_type": "stream",
          "name": "stdout",
          "text": [
            "Test\n",
            "300 pairs are selected for training\n",
            "len of pair_path_dict: 300\n",
            "Num of training sample: 3638\n",
            "Test\n",
            "\n",
            "\n",
            "Processed 10 graphs\n",
            "1165\n"
          ]
        },
        {
          "output_type": "stream",
          "name": "stderr",
          "text": [
            "<ipython-input-8-13c686ec9d1f>:15: DeprecationWarning: `np.int` is a deprecated alias for the builtin `int`. To silence this warning, use `int` by itself. Doing this will not modify any behavior and is safe. When replacing `np.int`, you may wish to use e.g. `np.int64` or `np.int32` to specify the precision. If you wish to review your current use, check the release note link for additional information.\n",
            "Deprecated in NumPy 1.20; for more details and guidance: https://numpy.org/devdocs/release/1.20.0-notes.html#deprecations\n",
            "  X_aug, y_aug = np.zeros((augmented_sample_size, feature_size)), np.zeros((augmented_sample_size), dtype=np.int)\n"
          ]
        },
        {
          "output_type": "stream",
          "name": "stdout",
          "text": [
            "Test\n",
            "300 pairs are selected for training\n",
            "len of pair_path_dict: 300\n",
            "Num of training sample: 3044\n",
            "Test\n",
            "\n",
            "\n",
            "1010\n",
            "380\n",
            "320\n",
            "380\n"
          ]
        },
        {
          "output_type": "stream",
          "name": "stderr",
          "text": [
            "<ipython-input-8-13c686ec9d1f>:15: DeprecationWarning: `np.int` is a deprecated alias for the builtin `int`. To silence this warning, use `int` by itself. Doing this will not modify any behavior and is safe. When replacing `np.int`, you may wish to use e.g. `np.int64` or `np.int32` to specify the precision. If you wish to review your current use, check the release note link for additional information.\n",
            "Deprecated in NumPy 1.20; for more details and guidance: https://numpy.org/devdocs/release/1.20.0-notes.html#deprecations\n",
            "  X_aug, y_aug = np.zeros((augmented_sample_size, feature_size)), np.zeros((augmented_sample_size), dtype=np.int)\n"
          ]
        },
        {
          "output_type": "stream",
          "name": "stdout",
          "text": [
            "Test\n",
            "300 pairs are selected for training\n",
            "len of pair_path_dict: 300\n",
            "Num of training sample: 2218\n",
            "Test\n",
            "\n",
            "\n",
            "1165\n"
          ]
        },
        {
          "output_type": "stream",
          "name": "stderr",
          "text": [
            "<ipython-input-8-13c686ec9d1f>:15: DeprecationWarning: `np.int` is a deprecated alias for the builtin `int`. To silence this warning, use `int` by itself. Doing this will not modify any behavior and is safe. When replacing `np.int`, you may wish to use e.g. `np.int64` or `np.int32` to specify the precision. If you wish to review your current use, check the release note link for additional information.\n",
            "Deprecated in NumPy 1.20; for more details and guidance: https://numpy.org/devdocs/release/1.20.0-notes.html#deprecations\n",
            "  X_aug, y_aug = np.zeros((augmented_sample_size, feature_size)), np.zeros((augmented_sample_size), dtype=np.int)\n"
          ]
        },
        {
          "output_type": "stream",
          "name": "stdout",
          "text": [
            "Test\n",
            "300 pairs are selected for training\n",
            "len of pair_path_dict: 300\n",
            "Num of training sample: 3266\n",
            "Test\n",
            "\n",
            "\n",
            "1035\n"
          ]
        },
        {
          "output_type": "stream",
          "name": "stderr",
          "text": [
            "<ipython-input-8-13c686ec9d1f>:15: DeprecationWarning: `np.int` is a deprecated alias for the builtin `int`. To silence this warning, use `int` by itself. Doing this will not modify any behavior and is safe. When replacing `np.int`, you may wish to use e.g. `np.int64` or `np.int32` to specify the precision. If you wish to review your current use, check the release note link for additional information.\n",
            "Deprecated in NumPy 1.20; for more details and guidance: https://numpy.org/devdocs/release/1.20.0-notes.html#deprecations\n",
            "  X_aug, y_aug = np.zeros((augmented_sample_size, feature_size)), np.zeros((augmented_sample_size), dtype=np.int)\n"
          ]
        },
        {
          "output_type": "stream",
          "name": "stdout",
          "text": [
            "Test\n",
            "300 pairs are selected for training\n",
            "len of pair_path_dict: 300\n",
            "Num of training sample: 3298\n",
            "Test\n",
            "\n",
            "\n",
            "1025\n"
          ]
        },
        {
          "output_type": "stream",
          "name": "stderr",
          "text": [
            "<ipython-input-8-13c686ec9d1f>:15: DeprecationWarning: `np.int` is a deprecated alias for the builtin `int`. To silence this warning, use `int` by itself. Doing this will not modify any behavior and is safe. When replacing `np.int`, you may wish to use e.g. `np.int64` or `np.int32` to specify the precision. If you wish to review your current use, check the release note link for additional information.\n",
            "Deprecated in NumPy 1.20; for more details and guidance: https://numpy.org/devdocs/release/1.20.0-notes.html#deprecations\n",
            "  X_aug, y_aug = np.zeros((augmented_sample_size, feature_size)), np.zeros((augmented_sample_size), dtype=np.int)\n"
          ]
        },
        {
          "output_type": "stream",
          "name": "stdout",
          "text": [
            "Test\n",
            "300 pairs are selected for training\n",
            "len of pair_path_dict: 300\n",
            "Num of training sample: 3072\n",
            "Test\n",
            "\n",
            "\n",
            "Processed 15 graphs\n",
            "1100\n",
            "390\n"
          ]
        },
        {
          "output_type": "stream",
          "name": "stderr",
          "text": [
            "<ipython-input-8-13c686ec9d1f>:15: DeprecationWarning: `np.int` is a deprecated alias for the builtin `int`. To silence this warning, use `int` by itself. Doing this will not modify any behavior and is safe. When replacing `np.int`, you may wish to use e.g. `np.int64` or `np.int32` to specify the precision. If you wish to review your current use, check the release note link for additional information.\n",
            "Deprecated in NumPy 1.20; for more details and guidance: https://numpy.org/devdocs/release/1.20.0-notes.html#deprecations\n",
            "  X_aug, y_aug = np.zeros((augmented_sample_size, feature_size)), np.zeros((augmented_sample_size), dtype=np.int)\n"
          ]
        },
        {
          "output_type": "stream",
          "name": "stdout",
          "text": [
            "Test\n",
            "300 pairs are selected for training\n",
            "len of pair_path_dict: 300\n",
            "Num of training sample: 1990\n",
            "Test\n",
            "\n",
            "\n",
            "1140\n"
          ]
        },
        {
          "output_type": "stream",
          "name": "stderr",
          "text": [
            "<ipython-input-8-13c686ec9d1f>:15: DeprecationWarning: `np.int` is a deprecated alias for the builtin `int`. To silence this warning, use `int` by itself. Doing this will not modify any behavior and is safe. When replacing `np.int`, you may wish to use e.g. `np.int64` or `np.int32` to specify the precision. If you wish to review your current use, check the release note link for additional information.\n",
            "Deprecated in NumPy 1.20; for more details and guidance: https://numpy.org/devdocs/release/1.20.0-notes.html#deprecations\n",
            "  X_aug, y_aug = np.zeros((augmented_sample_size, feature_size)), np.zeros((augmented_sample_size), dtype=np.int)\n"
          ]
        },
        {
          "output_type": "stream",
          "name": "stdout",
          "text": [
            "Test\n",
            "300 pairs are selected for training\n",
            "len of pair_path_dict: 300\n",
            "Num of training sample: 3314\n",
            "Test\n",
            "\n",
            "\n",
            "1120\n",
            "370\n",
            "380\n"
          ]
        },
        {
          "output_type": "stream",
          "name": "stderr",
          "text": [
            "<ipython-input-8-13c686ec9d1f>:15: DeprecationWarning: `np.int` is a deprecated alias for the builtin `int`. To silence this warning, use `int` by itself. Doing this will not modify any behavior and is safe. When replacing `np.int`, you may wish to use e.g. `np.int64` or `np.int32` to specify the precision. If you wish to review your current use, check the release note link for additional information.\n",
            "Deprecated in NumPy 1.20; for more details and guidance: https://numpy.org/devdocs/release/1.20.0-notes.html#deprecations\n",
            "  X_aug, y_aug = np.zeros((augmented_sample_size, feature_size)), np.zeros((augmented_sample_size), dtype=np.int)\n"
          ]
        },
        {
          "output_type": "stream",
          "name": "stdout",
          "text": [
            "Test\n",
            "300 pairs are selected for training\n",
            "len of pair_path_dict: 300\n",
            "Num of training sample: 1580\n",
            "Test\n",
            "\n",
            "\n",
            "1025\n",
            "365\n"
          ]
        },
        {
          "output_type": "stream",
          "name": "stderr",
          "text": [
            "<ipython-input-8-13c686ec9d1f>:15: DeprecationWarning: `np.int` is a deprecated alias for the builtin `int`. To silence this warning, use `int` by itself. Doing this will not modify any behavior and is safe. When replacing `np.int`, you may wish to use e.g. `np.int64` or `np.int32` to specify the precision. If you wish to review your current use, check the release note link for additional information.\n",
            "Deprecated in NumPy 1.20; for more details and guidance: https://numpy.org/devdocs/release/1.20.0-notes.html#deprecations\n",
            "  X_aug, y_aug = np.zeros((augmented_sample_size, feature_size)), np.zeros((augmented_sample_size), dtype=np.int)\n"
          ]
        },
        {
          "output_type": "stream",
          "name": "stdout",
          "text": [
            "Test\n",
            "300 pairs are selected for training\n",
            "len of pair_path_dict: 300\n",
            "Num of training sample: 1634\n",
            "Test\n",
            "\n",
            "\n",
            "1180\n"
          ]
        },
        {
          "output_type": "stream",
          "name": "stderr",
          "text": [
            "<ipython-input-8-13c686ec9d1f>:15: DeprecationWarning: `np.int` is a deprecated alias for the builtin `int`. To silence this warning, use `int` by itself. Doing this will not modify any behavior and is safe. When replacing `np.int`, you may wish to use e.g. `np.int64` or `np.int32` to specify the precision. If you wish to review your current use, check the release note link for additional information.\n",
            "Deprecated in NumPy 1.20; for more details and guidance: https://numpy.org/devdocs/release/1.20.0-notes.html#deprecations\n",
            "  X_aug, y_aug = np.zeros((augmented_sample_size, feature_size)), np.zeros((augmented_sample_size), dtype=np.int)\n"
          ]
        },
        {
          "output_type": "stream",
          "name": "stdout",
          "text": [
            "Test\n",
            "300 pairs are selected for training\n",
            "len of pair_path_dict: 300\n",
            "Num of training sample: 3822\n",
            "Test\n",
            "\n",
            "\n",
            "Processed 20 graphs\n",
            "1185\n",
            "365\n"
          ]
        },
        {
          "output_type": "stream",
          "name": "stderr",
          "text": [
            "<ipython-input-8-13c686ec9d1f>:15: DeprecationWarning: `np.int` is a deprecated alias for the builtin `int`. To silence this warning, use `int` by itself. Doing this will not modify any behavior and is safe. When replacing `np.int`, you may wish to use e.g. `np.int64` or `np.int32` to specify the precision. If you wish to review your current use, check the release note link for additional information.\n",
            "Deprecated in NumPy 1.20; for more details and guidance: https://numpy.org/devdocs/release/1.20.0-notes.html#deprecations\n",
            "  X_aug, y_aug = np.zeros((augmented_sample_size, feature_size)), np.zeros((augmented_sample_size), dtype=np.int)\n"
          ]
        },
        {
          "output_type": "stream",
          "name": "stdout",
          "text": [
            "Test\n",
            "300 pairs are selected for training\n",
            "len of pair_path_dict: 300\n",
            "Num of training sample: 1936\n",
            "Test\n",
            "\n",
            "\n",
            "1220\n",
            "450\n",
            "420\n"
          ]
        },
        {
          "output_type": "stream",
          "name": "stderr",
          "text": [
            "<ipython-input-8-13c686ec9d1f>:15: DeprecationWarning: `np.int` is a deprecated alias for the builtin `int`. To silence this warning, use `int` by itself. Doing this will not modify any behavior and is safe. When replacing `np.int`, you may wish to use e.g. `np.int64` or `np.int32` to specify the precision. If you wish to review your current use, check the release note link for additional information.\n",
            "Deprecated in NumPy 1.20; for more details and guidance: https://numpy.org/devdocs/release/1.20.0-notes.html#deprecations\n",
            "  X_aug, y_aug = np.zeros((augmented_sample_size, feature_size)), np.zeros((augmented_sample_size), dtype=np.int)\n"
          ]
        },
        {
          "output_type": "stream",
          "name": "stdout",
          "text": [
            "Test\n",
            "300 pairs are selected for training\n",
            "len of pair_path_dict: 300\n",
            "Num of training sample: 1552\n",
            "Test\n",
            "\n",
            "\n",
            "1205\n",
            "440\n",
            "350\n",
            "400\n"
          ]
        },
        {
          "output_type": "stream",
          "name": "stderr",
          "text": [
            "<ipython-input-8-13c686ec9d1f>:15: DeprecationWarning: `np.int` is a deprecated alias for the builtin `int`. To silence this warning, use `int` by itself. Doing this will not modify any behavior and is safe. When replacing `np.int`, you may wish to use e.g. `np.int64` or `np.int32` to specify the precision. If you wish to review your current use, check the release note link for additional information.\n",
            "Deprecated in NumPy 1.20; for more details and guidance: https://numpy.org/devdocs/release/1.20.0-notes.html#deprecations\n",
            "  X_aug, y_aug = np.zeros((augmented_sample_size, feature_size)), np.zeros((augmented_sample_size), dtype=np.int)\n"
          ]
        },
        {
          "output_type": "stream",
          "name": "stdout",
          "text": [
            "Test\n",
            "300 pairs are selected for training\n",
            "len of pair_path_dict: 300\n",
            "Num of training sample: 1766\n",
            "Test\n",
            "\n",
            "\n",
            "1005\n"
          ]
        },
        {
          "output_type": "stream",
          "name": "stderr",
          "text": [
            "<ipython-input-8-13c686ec9d1f>:15: DeprecationWarning: `np.int` is a deprecated alias for the builtin `int`. To silence this warning, use `int` by itself. Doing this will not modify any behavior and is safe. When replacing `np.int`, you may wish to use e.g. `np.int64` or `np.int32` to specify the precision. If you wish to review your current use, check the release note link for additional information.\n",
            "Deprecated in NumPy 1.20; for more details and guidance: https://numpy.org/devdocs/release/1.20.0-notes.html#deprecations\n",
            "  X_aug, y_aug = np.zeros((augmented_sample_size, feature_size)), np.zeros((augmented_sample_size), dtype=np.int)\n"
          ]
        },
        {
          "output_type": "stream",
          "name": "stdout",
          "text": [
            "Test\n",
            "300 pairs are selected for training\n",
            "len of pair_path_dict: 300\n",
            "Num of training sample: 3770\n",
            "Test\n",
            "\n",
            "\n",
            "1055\n",
            "340\n",
            "365\n"
          ]
        },
        {
          "output_type": "stream",
          "name": "stderr",
          "text": [
            "<ipython-input-8-13c686ec9d1f>:15: DeprecationWarning: `np.int` is a deprecated alias for the builtin `int`. To silence this warning, use `int` by itself. Doing this will not modify any behavior and is safe. When replacing `np.int`, you may wish to use e.g. `np.int64` or `np.int32` to specify the precision. If you wish to review your current use, check the release note link for additional information.\n",
            "Deprecated in NumPy 1.20; for more details and guidance: https://numpy.org/devdocs/release/1.20.0-notes.html#deprecations\n",
            "  X_aug, y_aug = np.zeros((augmented_sample_size, feature_size)), np.zeros((augmented_sample_size), dtype=np.int)\n"
          ]
        },
        {
          "output_type": "stream",
          "name": "stdout",
          "text": [
            "Test\n",
            "300 pairs are selected for training\n",
            "len of pair_path_dict: 300\n",
            "Num of training sample: 2218\n",
            "Test\n",
            "\n",
            "\n",
            "Processed 25 graphs\n",
            "1190\n"
          ]
        },
        {
          "output_type": "stream",
          "name": "stderr",
          "text": [
            "<ipython-input-8-13c686ec9d1f>:15: DeprecationWarning: `np.int` is a deprecated alias for the builtin `int`. To silence this warning, use `int` by itself. Doing this will not modify any behavior and is safe. When replacing `np.int`, you may wish to use e.g. `np.int64` or `np.int32` to specify the precision. If you wish to review your current use, check the release note link for additional information.\n",
            "Deprecated in NumPy 1.20; for more details and guidance: https://numpy.org/devdocs/release/1.20.0-notes.html#deprecations\n",
            "  X_aug, y_aug = np.zeros((augmented_sample_size, feature_size)), np.zeros((augmented_sample_size), dtype=np.int)\n"
          ]
        },
        {
          "output_type": "stream",
          "name": "stdout",
          "text": [
            "Test\n",
            "300 pairs are selected for training\n",
            "len of pair_path_dict: 300\n",
            "Num of training sample: 3014\n",
            "Test\n",
            "\n",
            "\n",
            "1140\n"
          ]
        },
        {
          "output_type": "stream",
          "name": "stderr",
          "text": [
            "<ipython-input-8-13c686ec9d1f>:15: DeprecationWarning: `np.int` is a deprecated alias for the builtin `int`. To silence this warning, use `int` by itself. Doing this will not modify any behavior and is safe. When replacing `np.int`, you may wish to use e.g. `np.int64` or `np.int32` to specify the precision. If you wish to review your current use, check the release note link for additional information.\n",
            "Deprecated in NumPy 1.20; for more details and guidance: https://numpy.org/devdocs/release/1.20.0-notes.html#deprecations\n",
            "  X_aug, y_aug = np.zeros((augmented_sample_size, feature_size)), np.zeros((augmented_sample_size), dtype=np.int)\n"
          ]
        },
        {
          "output_type": "stream",
          "name": "stdout",
          "text": [
            "Test\n",
            "300 pairs are selected for training\n",
            "len of pair_path_dict: 300\n",
            "Num of training sample: 3514\n",
            "Test\n",
            "\n",
            "\n",
            "1105\n"
          ]
        },
        {
          "output_type": "stream",
          "name": "stderr",
          "text": [
            "<ipython-input-8-13c686ec9d1f>:15: DeprecationWarning: `np.int` is a deprecated alias for the builtin `int`. To silence this warning, use `int` by itself. Doing this will not modify any behavior and is safe. When replacing `np.int`, you may wish to use e.g. `np.int64` or `np.int32` to specify the precision. If you wish to review your current use, check the release note link for additional information.\n",
            "Deprecated in NumPy 1.20; for more details and guidance: https://numpy.org/devdocs/release/1.20.0-notes.html#deprecations\n",
            "  X_aug, y_aug = np.zeros((augmented_sample_size, feature_size)), np.zeros((augmented_sample_size), dtype=np.int)\n"
          ]
        },
        {
          "output_type": "stream",
          "name": "stdout",
          "text": [
            "Test\n",
            "300 pairs are selected for training\n",
            "len of pair_path_dict: 300\n",
            "Num of training sample: 3424\n",
            "Test\n",
            "\n",
            "\n",
            "1000\n"
          ]
        },
        {
          "output_type": "stream",
          "name": "stderr",
          "text": [
            "<ipython-input-8-13c686ec9d1f>:15: DeprecationWarning: `np.int` is a deprecated alias for the builtin `int`. To silence this warning, use `int` by itself. Doing this will not modify any behavior and is safe. When replacing `np.int`, you may wish to use e.g. `np.int64` or `np.int32` to specify the precision. If you wish to review your current use, check the release note link for additional information.\n",
            "Deprecated in NumPy 1.20; for more details and guidance: https://numpy.org/devdocs/release/1.20.0-notes.html#deprecations\n",
            "  X_aug, y_aug = np.zeros((augmented_sample_size, feature_size)), np.zeros((augmented_sample_size), dtype=np.int)\n"
          ]
        },
        {
          "output_type": "stream",
          "name": "stdout",
          "text": [
            "Test\n",
            "300 pairs are selected for training\n",
            "len of pair_path_dict: 300\n",
            "Num of training sample: 3230\n",
            "Test\n",
            "\n",
            "\n",
            "1315\n"
          ]
        },
        {
          "output_type": "stream",
          "name": "stderr",
          "text": [
            "<ipython-input-8-13c686ec9d1f>:15: DeprecationWarning: `np.int` is a deprecated alias for the builtin `int`. To silence this warning, use `int` by itself. Doing this will not modify any behavior and is safe. When replacing `np.int`, you may wish to use e.g. `np.int64` or `np.int32` to specify the precision. If you wish to review your current use, check the release note link for additional information.\n",
            "Deprecated in NumPy 1.20; for more details and guidance: https://numpy.org/devdocs/release/1.20.0-notes.html#deprecations\n",
            "  X_aug, y_aug = np.zeros((augmented_sample_size, feature_size)), np.zeros((augmented_sample_size), dtype=np.int)\n"
          ]
        },
        {
          "output_type": "stream",
          "name": "stdout",
          "text": [
            "Test\n",
            "300 pairs are selected for training\n",
            "len of pair_path_dict: 300\n",
            "Num of training sample: 3768\n",
            "Test\n",
            "\n",
            "\n",
            "Processed 30 graphs\n",
            "1295\n"
          ]
        },
        {
          "output_type": "stream",
          "name": "stderr",
          "text": [
            "<ipython-input-8-13c686ec9d1f>:15: DeprecationWarning: `np.int` is a deprecated alias for the builtin `int`. To silence this warning, use `int` by itself. Doing this will not modify any behavior and is safe. When replacing `np.int`, you may wish to use e.g. `np.int64` or `np.int32` to specify the precision. If you wish to review your current use, check the release note link for additional information.\n",
            "Deprecated in NumPy 1.20; for more details and guidance: https://numpy.org/devdocs/release/1.20.0-notes.html#deprecations\n",
            "  X_aug, y_aug = np.zeros((augmented_sample_size, feature_size)), np.zeros((augmented_sample_size), dtype=np.int)\n"
          ]
        },
        {
          "output_type": "stream",
          "name": "stdout",
          "text": [
            "Test\n",
            "300 pairs are selected for training\n",
            "len of pair_path_dict: 300\n",
            "Num of training sample: 3254\n",
            "Test\n",
            "\n",
            "\n",
            "1235\n"
          ]
        },
        {
          "output_type": "stream",
          "name": "stderr",
          "text": [
            "<ipython-input-8-13c686ec9d1f>:15: DeprecationWarning: `np.int` is a deprecated alias for the builtin `int`. To silence this warning, use `int` by itself. Doing this will not modify any behavior and is safe. When replacing `np.int`, you may wish to use e.g. `np.int64` or `np.int32` to specify the precision. If you wish to review your current use, check the release note link for additional information.\n",
            "Deprecated in NumPy 1.20; for more details and guidance: https://numpy.org/devdocs/release/1.20.0-notes.html#deprecations\n",
            "  X_aug, y_aug = np.zeros((augmented_sample_size, feature_size)), np.zeros((augmented_sample_size), dtype=np.int)\n"
          ]
        },
        {
          "output_type": "stream",
          "name": "stdout",
          "text": [
            "Test\n",
            "300 pairs are selected for training\n",
            "len of pair_path_dict: 300\n",
            "Num of training sample: 4814\n",
            "Test\n",
            "\n",
            "\n",
            "1165\n"
          ]
        },
        {
          "output_type": "stream",
          "name": "stderr",
          "text": [
            "<ipython-input-8-13c686ec9d1f>:15: DeprecationWarning: `np.int` is a deprecated alias for the builtin `int`. To silence this warning, use `int` by itself. Doing this will not modify any behavior and is safe. When replacing `np.int`, you may wish to use e.g. `np.int64` or `np.int32` to specify the precision. If you wish to review your current use, check the release note link for additional information.\n",
            "Deprecated in NumPy 1.20; for more details and guidance: https://numpy.org/devdocs/release/1.20.0-notes.html#deprecations\n",
            "  X_aug, y_aug = np.zeros((augmented_sample_size, feature_size)), np.zeros((augmented_sample_size), dtype=np.int)\n"
          ]
        },
        {
          "output_type": "stream",
          "name": "stdout",
          "text": [
            "Test\n",
            "300 pairs are selected for training\n",
            "len of pair_path_dict: 300\n",
            "Num of training sample: 3386\n",
            "Test\n",
            "\n",
            "\n",
            "1105\n",
            "390\n"
          ]
        },
        {
          "output_type": "stream",
          "name": "stderr",
          "text": [
            "<ipython-input-8-13c686ec9d1f>:15: DeprecationWarning: `np.int` is a deprecated alias for the builtin `int`. To silence this warning, use `int` by itself. Doing this will not modify any behavior and is safe. When replacing `np.int`, you may wish to use e.g. `np.int64` or `np.int32` to specify the precision. If you wish to review your current use, check the release note link for additional information.\n",
            "Deprecated in NumPy 1.20; for more details and guidance: https://numpy.org/devdocs/release/1.20.0-notes.html#deprecations\n",
            "  X_aug, y_aug = np.zeros((augmented_sample_size, feature_size)), np.zeros((augmented_sample_size), dtype=np.int)\n"
          ]
        },
        {
          "output_type": "stream",
          "name": "stdout",
          "text": [
            "Test\n",
            "300 pairs are selected for training\n",
            "len of pair_path_dict: 300\n",
            "Num of training sample: 1924\n",
            "Test\n",
            "\n",
            "\n",
            "1160\n"
          ]
        },
        {
          "output_type": "stream",
          "name": "stderr",
          "text": [
            "<ipython-input-8-13c686ec9d1f>:15: DeprecationWarning: `np.int` is a deprecated alias for the builtin `int`. To silence this warning, use `int` by itself. Doing this will not modify any behavior and is safe. When replacing `np.int`, you may wish to use e.g. `np.int64` or `np.int32` to specify the precision. If you wish to review your current use, check the release note link for additional information.\n",
            "Deprecated in NumPy 1.20; for more details and guidance: https://numpy.org/devdocs/release/1.20.0-notes.html#deprecations\n",
            "  X_aug, y_aug = np.zeros((augmented_sample_size, feature_size)), np.zeros((augmented_sample_size), dtype=np.int)\n"
          ]
        },
        {
          "output_type": "stream",
          "name": "stdout",
          "text": [
            "Test\n",
            "300 pairs are selected for training\n",
            "len of pair_path_dict: 300\n",
            "Num of training sample: 3574\n",
            "Test\n",
            "\n",
            "\n",
            "Processed 35 graphs\n",
            "1095\n",
            "350\n"
          ]
        },
        {
          "output_type": "stream",
          "name": "stderr",
          "text": [
            "<ipython-input-8-13c686ec9d1f>:15: DeprecationWarning: `np.int` is a deprecated alias for the builtin `int`. To silence this warning, use `int` by itself. Doing this will not modify any behavior and is safe. When replacing `np.int`, you may wish to use e.g. `np.int64` or `np.int32` to specify the precision. If you wish to review your current use, check the release note link for additional information.\n",
            "Deprecated in NumPy 1.20; for more details and guidance: https://numpy.org/devdocs/release/1.20.0-notes.html#deprecations\n",
            "  X_aug, y_aug = np.zeros((augmented_sample_size, feature_size)), np.zeros((augmented_sample_size), dtype=np.int)\n"
          ]
        },
        {
          "output_type": "stream",
          "name": "stdout",
          "text": [
            "Test\n",
            "300 pairs are selected for training\n",
            "len of pair_path_dict: 300\n",
            "Num of training sample: 1722\n",
            "Test\n",
            "\n",
            "\n",
            "1160\n"
          ]
        },
        {
          "output_type": "stream",
          "name": "stderr",
          "text": [
            "<ipython-input-8-13c686ec9d1f>:15: DeprecationWarning: `np.int` is a deprecated alias for the builtin `int`. To silence this warning, use `int` by itself. Doing this will not modify any behavior and is safe. When replacing `np.int`, you may wish to use e.g. `np.int64` or `np.int32` to specify the precision. If you wish to review your current use, check the release note link for additional information.\n",
            "Deprecated in NumPy 1.20; for more details and guidance: https://numpy.org/devdocs/release/1.20.0-notes.html#deprecations\n",
            "  X_aug, y_aug = np.zeros((augmented_sample_size, feature_size)), np.zeros((augmented_sample_size), dtype=np.int)\n"
          ]
        },
        {
          "output_type": "stream",
          "name": "stdout",
          "text": [
            "Test\n",
            "300 pairs are selected for training\n",
            "len of pair_path_dict: 300\n",
            "Num of training sample: 3946\n",
            "Test\n",
            "\n",
            "\n",
            "1265\n"
          ]
        },
        {
          "output_type": "stream",
          "name": "stderr",
          "text": [
            "<ipython-input-8-13c686ec9d1f>:15: DeprecationWarning: `np.int` is a deprecated alias for the builtin `int`. To silence this warning, use `int` by itself. Doing this will not modify any behavior and is safe. When replacing `np.int`, you may wish to use e.g. `np.int64` or `np.int32` to specify the precision. If you wish to review your current use, check the release note link for additional information.\n",
            "Deprecated in NumPy 1.20; for more details and guidance: https://numpy.org/devdocs/release/1.20.0-notes.html#deprecations\n",
            "  X_aug, y_aug = np.zeros((augmented_sample_size, feature_size)), np.zeros((augmented_sample_size), dtype=np.int)\n"
          ]
        },
        {
          "output_type": "stream",
          "name": "stdout",
          "text": [
            "Test\n",
            "300 pairs are selected for training\n",
            "len of pair_path_dict: 300\n",
            "Num of training sample: 3646\n",
            "Test\n",
            "\n",
            "\n",
            "1060\n",
            "415\n"
          ]
        },
        {
          "output_type": "stream",
          "name": "stderr",
          "text": [
            "<ipython-input-8-13c686ec9d1f>:15: DeprecationWarning: `np.int` is a deprecated alias for the builtin `int`. To silence this warning, use `int` by itself. Doing this will not modify any behavior and is safe. When replacing `np.int`, you may wish to use e.g. `np.int64` or `np.int32` to specify the precision. If you wish to review your current use, check the release note link for additional information.\n",
            "Deprecated in NumPy 1.20; for more details and guidance: https://numpy.org/devdocs/release/1.20.0-notes.html#deprecations\n",
            "  X_aug, y_aug = np.zeros((augmented_sample_size, feature_size)), np.zeros((augmented_sample_size), dtype=np.int)\n"
          ]
        },
        {
          "output_type": "stream",
          "name": "stdout",
          "text": [
            "Test\n",
            "300 pairs are selected for training\n",
            "len of pair_path_dict: 300\n",
            "Num of training sample: 1912\n",
            "Test\n",
            "\n",
            "\n",
            "1095\n",
            "390\n"
          ]
        },
        {
          "output_type": "stream",
          "name": "stderr",
          "text": [
            "<ipython-input-8-13c686ec9d1f>:15: DeprecationWarning: `np.int` is a deprecated alias for the builtin `int`. To silence this warning, use `int` by itself. Doing this will not modify any behavior and is safe. When replacing `np.int`, you may wish to use e.g. `np.int64` or `np.int32` to specify the precision. If you wish to review your current use, check the release note link for additional information.\n",
            "Deprecated in NumPy 1.20; for more details and guidance: https://numpy.org/devdocs/release/1.20.0-notes.html#deprecations\n",
            "  X_aug, y_aug = np.zeros((augmented_sample_size, feature_size)), np.zeros((augmented_sample_size), dtype=np.int)\n"
          ]
        },
        {
          "output_type": "stream",
          "name": "stdout",
          "text": [
            "310\n",
            "Test\n",
            "300 pairs are selected for training\n",
            "len of pair_path_dict: 300\n",
            "Num of training sample: 2420\n",
            "Test\n",
            "\n",
            "\n",
            "Processed 40 graphs\n",
            "1050\n"
          ]
        },
        {
          "output_type": "stream",
          "name": "stderr",
          "text": [
            "<ipython-input-8-13c686ec9d1f>:15: DeprecationWarning: `np.int` is a deprecated alias for the builtin `int`. To silence this warning, use `int` by itself. Doing this will not modify any behavior and is safe. When replacing `np.int`, you may wish to use e.g. `np.int64` or `np.int32` to specify the precision. If you wish to review your current use, check the release note link for additional information.\n",
            "Deprecated in NumPy 1.20; for more details and guidance: https://numpy.org/devdocs/release/1.20.0-notes.html#deprecations\n",
            "  X_aug, y_aug = np.zeros((augmented_sample_size, feature_size)), np.zeros((augmented_sample_size), dtype=np.int)\n"
          ]
        },
        {
          "output_type": "stream",
          "name": "stdout",
          "text": [
            "Test\n",
            "300 pairs are selected for training\n",
            "len of pair_path_dict: 300\n",
            "Num of training sample: 3628\n",
            "Test\n",
            "\n",
            "\n",
            "1055\n"
          ]
        },
        {
          "output_type": "stream",
          "name": "stderr",
          "text": [
            "<ipython-input-8-13c686ec9d1f>:15: DeprecationWarning: `np.int` is a deprecated alias for the builtin `int`. To silence this warning, use `int` by itself. Doing this will not modify any behavior and is safe. When replacing `np.int`, you may wish to use e.g. `np.int64` or `np.int32` to specify the precision. If you wish to review your current use, check the release note link for additional information.\n",
            "Deprecated in NumPy 1.20; for more details and guidance: https://numpy.org/devdocs/release/1.20.0-notes.html#deprecations\n",
            "  X_aug, y_aug = np.zeros((augmented_sample_size, feature_size)), np.zeros((augmented_sample_size), dtype=np.int)\n"
          ]
        },
        {
          "output_type": "stream",
          "name": "stdout",
          "text": [
            "Test\n",
            "300 pairs are selected for training\n",
            "len of pair_path_dict: 300\n",
            "Num of training sample: 3786\n",
            "Test\n",
            "\n",
            "\n",
            "1135\n"
          ]
        },
        {
          "output_type": "stream",
          "name": "stderr",
          "text": [
            "<ipython-input-8-13c686ec9d1f>:15: DeprecationWarning: `np.int` is a deprecated alias for the builtin `int`. To silence this warning, use `int` by itself. Doing this will not modify any behavior and is safe. When replacing `np.int`, you may wish to use e.g. `np.int64` or `np.int32` to specify the precision. If you wish to review your current use, check the release note link for additional information.\n",
            "Deprecated in NumPy 1.20; for more details and guidance: https://numpy.org/devdocs/release/1.20.0-notes.html#deprecations\n",
            "  X_aug, y_aug = np.zeros((augmented_sample_size, feature_size)), np.zeros((augmented_sample_size), dtype=np.int)\n"
          ]
        },
        {
          "output_type": "stream",
          "name": "stdout",
          "text": [
            "Test\n",
            "300 pairs are selected for training\n",
            "len of pair_path_dict: 300\n",
            "Num of training sample: 3152\n",
            "Test\n",
            "\n",
            "\n",
            "1080\n",
            "435\n"
          ]
        },
        {
          "output_type": "stream",
          "name": "stderr",
          "text": [
            "<ipython-input-8-13c686ec9d1f>:15: DeprecationWarning: `np.int` is a deprecated alias for the builtin `int`. To silence this warning, use `int` by itself. Doing this will not modify any behavior and is safe. When replacing `np.int`, you may wish to use e.g. `np.int64` or `np.int32` to specify the precision. If you wish to review your current use, check the release note link for additional information.\n",
            "Deprecated in NumPy 1.20; for more details and guidance: https://numpy.org/devdocs/release/1.20.0-notes.html#deprecations\n",
            "  X_aug, y_aug = np.zeros((augmented_sample_size, feature_size)), np.zeros((augmented_sample_size), dtype=np.int)\n"
          ]
        },
        {
          "output_type": "stream",
          "name": "stdout",
          "text": [
            "Test\n",
            "300 pairs are selected for training\n",
            "len of pair_path_dict: 300\n",
            "Num of training sample: 1612\n",
            "Test\n",
            "\n",
            "\n",
            "1090\n",
            "385\n"
          ]
        },
        {
          "output_type": "stream",
          "name": "stderr",
          "text": [
            "<ipython-input-8-13c686ec9d1f>:15: DeprecationWarning: `np.int` is a deprecated alias for the builtin `int`. To silence this warning, use `int` by itself. Doing this will not modify any behavior and is safe. When replacing `np.int`, you may wish to use e.g. `np.int64` or `np.int32` to specify the precision. If you wish to review your current use, check the release note link for additional information.\n",
            "Deprecated in NumPy 1.20; for more details and guidance: https://numpy.org/devdocs/release/1.20.0-notes.html#deprecations\n",
            "  X_aug, y_aug = np.zeros((augmented_sample_size, feature_size)), np.zeros((augmented_sample_size), dtype=np.int)\n"
          ]
        },
        {
          "output_type": "stream",
          "name": "stdout",
          "text": [
            "Test\n",
            "300 pairs are selected for training\n",
            "len of pair_path_dict: 300\n",
            "Num of training sample: 2124\n",
            "Test\n",
            "\n",
            "\n",
            "Processed 45 graphs\n",
            "1120\n",
            "370\n"
          ]
        },
        {
          "output_type": "stream",
          "name": "stderr",
          "text": [
            "<ipython-input-8-13c686ec9d1f>:15: DeprecationWarning: `np.int` is a deprecated alias for the builtin `int`. To silence this warning, use `int` by itself. Doing this will not modify any behavior and is safe. When replacing `np.int`, you may wish to use e.g. `np.int64` or `np.int32` to specify the precision. If you wish to review your current use, check the release note link for additional information.\n",
            "Deprecated in NumPy 1.20; for more details and guidance: https://numpy.org/devdocs/release/1.20.0-notes.html#deprecations\n",
            "  X_aug, y_aug = np.zeros((augmented_sample_size, feature_size)), np.zeros((augmented_sample_size), dtype=np.int)\n"
          ]
        },
        {
          "output_type": "stream",
          "name": "stdout",
          "text": [
            "Test\n",
            "300 pairs are selected for training\n",
            "len of pair_path_dict: 300\n",
            "Num of training sample: 2284\n",
            "Test\n",
            "\n",
            "\n",
            "1080\n",
            "410\n",
            "370\n"
          ]
        },
        {
          "output_type": "stream",
          "name": "stderr",
          "text": [
            "<ipython-input-8-13c686ec9d1f>:15: DeprecationWarning: `np.int` is a deprecated alias for the builtin `int`. To silence this warning, use `int` by itself. Doing this will not modify any behavior and is safe. When replacing `np.int`, you may wish to use e.g. `np.int64` or `np.int32` to specify the precision. If you wish to review your current use, check the release note link for additional information.\n",
            "Deprecated in NumPy 1.20; for more details and guidance: https://numpy.org/devdocs/release/1.20.0-notes.html#deprecations\n",
            "  X_aug, y_aug = np.zeros((augmented_sample_size, feature_size)), np.zeros((augmented_sample_size), dtype=np.int)\n"
          ]
        },
        {
          "output_type": "stream",
          "name": "stdout",
          "text": [
            "Test\n",
            "300 pairs are selected for training\n",
            "len of pair_path_dict: 300\n",
            "Num of training sample: 1632\n",
            "Test\n",
            "\n",
            "\n",
            "1195\n",
            "380\n"
          ]
        },
        {
          "output_type": "stream",
          "name": "stderr",
          "text": [
            "<ipython-input-8-13c686ec9d1f>:15: DeprecationWarning: `np.int` is a deprecated alias for the builtin `int`. To silence this warning, use `int` by itself. Doing this will not modify any behavior and is safe. When replacing `np.int`, you may wish to use e.g. `np.int64` or `np.int32` to specify the precision. If you wish to review your current use, check the release note link for additional information.\n",
            "Deprecated in NumPy 1.20; for more details and guidance: https://numpy.org/devdocs/release/1.20.0-notes.html#deprecations\n",
            "  X_aug, y_aug = np.zeros((augmented_sample_size, feature_size)), np.zeros((augmented_sample_size), dtype=np.int)\n"
          ]
        },
        {
          "output_type": "stream",
          "name": "stdout",
          "text": [
            "Test\n",
            "300 pairs are selected for training\n",
            "len of pair_path_dict: 300\n",
            "Num of training sample: 1880\n",
            "Test\n",
            "\n",
            "\n",
            "1295\n"
          ]
        },
        {
          "output_type": "stream",
          "name": "stderr",
          "text": [
            "<ipython-input-8-13c686ec9d1f>:15: DeprecationWarning: `np.int` is a deprecated alias for the builtin `int`. To silence this warning, use `int` by itself. Doing this will not modify any behavior and is safe. When replacing `np.int`, you may wish to use e.g. `np.int64` or `np.int32` to specify the precision. If you wish to review your current use, check the release note link for additional information.\n",
            "Deprecated in NumPy 1.20; for more details and guidance: https://numpy.org/devdocs/release/1.20.0-notes.html#deprecations\n",
            "  X_aug, y_aug = np.zeros((augmented_sample_size, feature_size)), np.zeros((augmented_sample_size), dtype=np.int)\n"
          ]
        },
        {
          "output_type": "stream",
          "name": "stdout",
          "text": [
            "Test\n",
            "300 pairs are selected for training\n",
            "len of pair_path_dict: 300\n",
            "Num of training sample: 3110\n",
            "Test\n",
            "\n",
            "\n",
            "1185\n"
          ]
        },
        {
          "output_type": "stream",
          "name": "stderr",
          "text": [
            "<ipython-input-8-13c686ec9d1f>:15: DeprecationWarning: `np.int` is a deprecated alias for the builtin `int`. To silence this warning, use `int` by itself. Doing this will not modify any behavior and is safe. When replacing `np.int`, you may wish to use e.g. `np.int64` or `np.int32` to specify the precision. If you wish to review your current use, check the release note link for additional information.\n",
            "Deprecated in NumPy 1.20; for more details and guidance: https://numpy.org/devdocs/release/1.20.0-notes.html#deprecations\n",
            "  X_aug, y_aug = np.zeros((augmented_sample_size, feature_size)), np.zeros((augmented_sample_size), dtype=np.int)\n"
          ]
        },
        {
          "output_type": "stream",
          "name": "stdout",
          "text": [
            "Test\n",
            "300 pairs are selected for training\n",
            "len of pair_path_dict: 300\n",
            "Num of training sample: 3834\n",
            "Test\n",
            "\n",
            "\n"
          ]
        }
      ],
      "source": [
        "for idx, num_nodes in enumerate(graph_sizes):\n",
        "    \n",
        "    print('Working on graphs with %d nodes' % num_nodes)\n",
        "    for i in range(number_of_tests):\n",
        "        \n",
        "        if i > 0 and i % 5 == 0:\n",
        "            print(\"Processed %d graphs\" % i)\n",
        "            \n",
        "        X_test, y_test, G_test, _ = generate_samples_from_graph(num_node_pairs=num_node_pairs, graph_size=num_nodes, augmentation=False, label='Test')\n",
        "\n",
        "        pred_test = np.argmax(model.predict(mx.io.NDArrayIter(X_test, y_test)).asnumpy(), axis=1)\n",
        "        acc = accuracy_score(y_test, pred_test)\n",
        "        stats[idx].append(acc)\n",
        "        sample_size_stats[idx].append(len(y_test))"
      ]
    },
    {
      "cell_type": "code",
      "execution_count": null,
      "metadata": {
        "colab": {
          "base_uri": "https://localhost:8080/",
          "height": 265
        },
        "id": "HwyLoB-Gqd5w",
        "outputId": "9c5751ba-8aae-4840-a47a-bf60ab5415a4"
      },
      "outputs": [
        {
          "output_type": "display_data",
          "data": {
            "text/plain": [
              "<Figure size 432x288 with 1 Axes>"
            ],
            "image/png": "[encoded data removed]"
          },
          "metadata": {
            "needs_background": "light"
          }
        }
      ],
      "source": [
        "for idx, stat in enumerate(sample_size_stats):\n",
        "    stat_mean = np.mean(stat)\n",
        "    stat_std = np.std(stat)\n",
        "    label = u'%d nodes, μ=%f, σ=%f' % \\\n",
        "            (graph_sizes[idx], stat_mean, stat_std)\n",
        "    plt.scatter(list(range(number_of_tests)), stat, label=label)\n",
        "\n",
        "plt.ylabel(\"Test Sample Size\")\n",
        "plt.legend(loc='best')\n",
        "plt.show()"
      ]
    },
    {
      "cell_type": "code",
      "execution_count": null,
      "metadata": {
        "colab": {
          "base_uri": "https://localhost:8080/",
          "height": 265
        },
        "id": "YJ5MIi8jqknf",
        "outputId": "640611d9-3a53-4a7b-9527-2c9312098e11"
      },
      "outputs": [
        {
          "output_type": "display_data",
          "data": {
            "text/plain": [
              "<Figure size 432x288 with 1 Axes>"
            ],
            "image/png": "[encoded data removed]"
          },
          "metadata": {
            "needs_background": "light"
          }
        }
      ],
      "source": [
        "for idx, stat in enumerate(stats):\n",
        "    stat_mean = np.mean(stat)\n",
        "    stat_std = np.std(stat)\n",
        "    label = u'%d nodes, μ=%f, σ=%f' % \\\n",
        "            (graph_sizes[idx], stat_mean, stat_std)\n",
        "    plt.scatter(list(range(number_of_tests)), stat, label=label)\n",
        "\n",
        "plt.ylabel(\"Model Accuracy\")\n",
        "plt.legend(loc='best')\n",
        "plt.show()"
      ]
    },
    {
      "cell_type": "code",
      "execution_count": null,
      "metadata": {
        "id": "F0jka5oiqkh3"
      },
      "outputs": [],
      "source": [
        "def nn_infer_next_node(G, path, parent, cur_node, src, dst, model, real_time_weight=False):\n",
        "\n",
        "    input_vec, x_src, y_src, x_dst, y_dst = encode_edges(G, parent, cur_node, src, dst)\n",
        "    \n",
        "    assert max_degree == 4\n",
        "    real_time_weight_change_factors = np.array([random.expovariate(lambd=1.0)\\\n",
        "                                                for _ in range(max_degree)])\\\n",
        "                                if real_time_weight else np.ones(max_degree)\n",
        "    \n",
        "    input_vec[:, 1] = np.multiply(input_vec[:, 1], real_time_weight_change_factors)\n",
        "    \n",
        "    real_input_vec = np.append(input_vec[:, :-1].reshape(-1), [x_src, y_src, x_dst, y_dst])\n",
        "    pred = model.predict(mx.io.NDArrayIter(np.array([real_input_vec]), np.array([0]))).asnumpy()[0]\n",
        "    pred_idx = np.argmax(pred)\n",
        "    neighbor = int(input_vec[pred_idx][-1])\n",
        "    \n",
        "    if neighbor == -1:\n",
        "        avaliable_neighbors = filter(lambda d: d >= 0, input_vec[:, -1])\n",
        "        l=list(avaliable_neighbors)\n",
        "        neighbor = int(l[np.random.randint(0, len(l))])\n",
        "            \n",
        "    return (neighbor, G.get_edge_data(cur_node, neighbor)['weight'])\n",
        "\n",
        "def dijkstra_path_finder(G, src, dst, p=0.0, model=None,\\\n",
        "                         invalid_path_threshold=G.number_of_nodes(),\n",
        "                         real_time_weight=False):\n",
        "    \n",
        "    path = [src]\n",
        "    parent_node = -1\n",
        "    cur_node = src\n",
        "    total_weights = .0\n",
        "    \n",
        "    while True:\n",
        "        \n",
        "        if len(path) >= invalid_path_threshold:\n",
        "            return path, total_weights, False\n",
        "        \n",
        "        neigbors = list(G.neighbors(cur_node))\n",
        "        num_neighbors = len(neigbors)\n",
        "        \n",
        "        pred_next_node, _ = nn_infer_next_node(G, path, parent_node,\\\n",
        "                                               cur_node, src, dst, model,\\\n",
        "                                               real_time_weight=real_time_weight)\n",
        "        pred_next_idx = neigbors.index(pred_next_node)\n",
        "        \n",
        "        sample_probabilities = [p/(num_neighbors-1)\\\n",
        "                                for _ in range(num_neighbors)]\n",
        "        sample_probabilities[pred_next_idx] = 1-p\n",
        "        assert sum(sample_probabilities) <= 1.0\n",
        "        \n",
        "        next_node = np.random.choice(neigbors, 1, p=sample_probabilities)[0]\n",
        "        total_weights += G.get_edge_data(cur_node, next_node)['weight']\n",
        "        path.append(next_node)\n",
        "        \n",
        "        if next_node == dst:\n",
        "            return path, total_weights, True\n",
        "        \n",
        "        parent_node = cur_node\n",
        "        cur_node = next_node"
      ]
    },
    {
      "cell_type": "code",
      "execution_count": null,
      "metadata": {
        "id": "WX2GXOzFqkaA"
      },
      "outputs": [],
      "source": [
        "def calc_path_weight_sum(G, path):\n",
        "    \n",
        "    weight_sum = 0.0\n",
        "    \n",
        "    for idx, node in enumerate(path[:-1]):\n",
        "        weight_sum += G.edges[(node, path[idx + 1])]['weight']\n",
        "        \n",
        "    return weight_sum"
      ]
    },
    {
      "cell_type": "code",
      "execution_count": null,
      "metadata": {
        "id": "YMzSQm18qp1e"
      },
      "outputs": [],
      "source": [
        "def calc_statistics(G, pair_path_dict, num_to_test=100, verbose=True):\n",
        "    found_cnt = 0\n",
        "    opt_path_cnt = 0\n",
        "    edge_efficiency = {}\n",
        "    time_efficiency = {}\n",
        "\n",
        "    keys =  list(pair_path_dict.keys())\n",
        "\n",
        "    \n",
        "    for key in keys:\n",
        "        nn_path, _, found = dijkstra_path_finder(G, key[0], key[1], model=model, invalid_path_threshold=G.number_of_nodes())\n",
        "        \n",
        "        dijkstra_path = pair_path_dict[(key[0],key[1])]\n",
        "        \n",
        "        if not found:\n",
        "            \n",
        "            continue\n",
        "\n",
        "        found_cnt += 1\n",
        "        for i in range(len(nn_path)-1):\n",
        "          index=-1\n",
        "          index1=i\n",
        "          for j in range(i+1,len(nn_path)-1):\n",
        "            \n",
        "            if nn_path[i]==nn_path[j]:\n",
        "              index=j\n",
        "          if index !=-1:\n",
        "           print(index,\" \",index1,\" \",len(nn_path))    \n",
        "           del nn_path[index1:index]\n",
        "           \n",
        "\n",
        "        edge_efficiency[(key[0], key[1])] = float(len(dijkstra_path)-1) / (len(nn_path)-1)\n",
        "        time_efficiency[(key[0], key[1])] = calc_path_weight_sum(G, dijkstra_path) \\\n",
        "                                        / calc_path_weight_sum(G, nn_path)\n",
        "        \n",
        "        if nn_path == dijkstra_path:\n",
        "            opt_path_cnt = opt_path_cnt + 1\n",
        "        else:\n",
        "            if verbose:\n",
        "                print(\"The model is able to find a different path between %d and %d\" % (key[0], key[1]))\n",
        "                plot_dijkstra_nn_comparison(G, dijkstra_path, nn_path)\n",
        "                print(\"Dijkstra path :\", dijkstra_path)\n",
        "                print(\"NN path :\", nn_path)\n",
        "                print('')\n",
        "\n",
        "\n",
        "\n",
        "    return found_cnt, opt_path_cnt, edge_efficiency, time_efficiency"
      ]
    },
    {
      "cell_type": "code",
      "execution_count": null,
      "metadata": {
        "id": "pqi-eOBNqptg"
      },
      "outputs": [],
      "source": [
        "def print_paths_statistics(G, pair_path_dict, num_to_test=100, verbose=True):\n",
        "\n",
        "    num_total_path = num_to_test\n",
        "\n",
        "    found_cnt, opt_path_cnt, edge_efficiency, time_efficiency = calc_statistics(G,\\\n",
        "                                                                pair_path_dict=pair_path_dict,\\\n",
        "                                                                num_to_test=num_to_test,\n",
        "                                                                verbose=verbose)\n",
        "    arrival_rate=float(found_cnt)/num_total_path\n",
        "    print('%d out of %d can find path: %f' % (found_cnt, num_total_path, arrival_rate))\n",
        "    print('%d out of %d can find optimal path: %f' % (opt_path_cnt, found_cnt, float(opt_path_cnt)/found_cnt))\n",
        "    print('%d out of %d all paths can find optimal paths: %f' % (opt_path_cnt, num_total_path, float(opt_path_cnt)/num_total_path))\n",
        "    \n",
        "    edge_efficiency_values = list(edge_efficiency.values())##########################added list\n",
        "    stat_mean = np.mean(edge_efficiency_values)\n",
        "    stat_std = np.std(edge_efficiency_values)\n",
        "    \n",
        "    label = u'%d pairs, μ=%f, σ=%f' % \\\n",
        "            (len(edge_efficiency), stat_mean, stat_std)\n",
        "    print(label)\n",
        "    edge_eff=stat_mean\n",
        "    time_efficiency_values = list(time_efficiency.values())\n",
        "    stat_mean = np.mean(time_efficiency_values)\n",
        "    stat_std = np.std(time_efficiency_values)\n",
        "    \n",
        "    label = u'%d pairs, μ=%f, σ=%f' % \\\n",
        "            (len(time_efficiency), stat_mean, stat_std)\n",
        "    time_eff=stat_mean\n",
        "    print(label)\n",
        "    overall_eff=(0.5 * arrival_rate) + (0.3* time_eff) + (0.2*edge_eff)\n",
        "    print(\"Overall efficiency= \",overall_eff)"
      ]
    },
    {
      "cell_type": "code",
      "execution_count": null,
      "metadata": {
        "id": "8Q4GLAjsqxQx"
      },
      "outputs": [],
      "source": [
        "def plot_dijkstra_nn_comparison(G, dijkstra_node_list, nn_node_list):\n",
        "\n",
        "    pos = {}\n",
        "\n",
        "    for node in dijkstra_node_list:\n",
        "        pos[node] = (G.nodes[node]['x'], G.nodes[node]['y'])\n",
        "\n",
        "    dijkstra_edge_list = []\n",
        "    for idx, node in enumerate(dijkstra_node_list[:-1]):\n",
        "        dijkstra_edge_list.append((node, dijkstra_node_list[idx+1]))\n",
        "\n",
        "    nx.draw_networkx_edges(G, pos=pos, edgelist=dijkstra_edge_list, node_size=20, edge_color='r')\n",
        "    nn_pos = {}\n",
        "\n",
        "    for node in nn_node_list:\n",
        "        nn_pos[node] = (G.nodes[node]['x'], G.nodes[node]['y'])\n",
        "\n",
        "    nn_edge_list = []\n",
        "    for idx, node in enumerate(nn_node_list[:-1]):\n",
        "        nn_edge_list.append((node, nn_node_list[idx+1]))\n",
        "\n",
        "    nx.draw_networkx_edges(G, pos=nn_pos, edgelist=set(nn_edge_list), node_size=100, edge_color='b')\n",
        "    \n",
        "    nx.draw_networkx_nodes(G, pos=pos,\\\n",
        "                           nodelist=[dijkstra_node_list[0], dijkstra_node_list[-1]],\\\n",
        "                           node_size=10,\\\n",
        "                           node_color=['r', 'g'])\n",
        "\n",
        "    plt.legend(loc='best')\n",
        "    plt.show()"
      ]
    },
    {
      "cell_type": "code",
      "execution_count": null,
      "metadata": {
        "id": "bw5mALL5VZmP"
      },
      "outputs": [],
      "source": [
        "model.save_params(\"/content/drive/MyDrive/project3/model\")"
      ]
    },
    {
      "cell_type": "code",
      "execution_count": null,
      "metadata": {
        "colab": {
          "base_uri": "https://localhost:8080/",
          "height": 246
        },
        "id": "HZfQgaUrVZXq",
        "outputId": "ac5d5f9e-6c76-4e53-995f-616817b757a4"
      },
      "outputs": [
        {
          "output_type": "error",
          "ename": "NameError",
          "evalue": "ignored",
          "traceback": [
            "\u001b[0;31m---------------------------------------------------------------------------\u001b[0m",
            "\u001b[0;31mNameError\u001b[0m                                 Traceback (most recent call last)",
            "\u001b[0;32m<ipython-input-1-d58027d50c7d>\u001b[0m in \u001b[0;36m<module>\u001b[0;34m\u001b[0m\n\u001b[1;32m      2\u001b[0m \u001b[0;32mfor\u001b[0m \u001b[0mi\u001b[0m \u001b[0;32min\u001b[0m \u001b[0mrange\u001b[0m\u001b[0;34m(\u001b[0m\u001b[0;36m10\u001b[0m\u001b[0;34m)\u001b[0m\u001b[0;34m:\u001b[0m\u001b[0;34m\u001b[0m\u001b[0;34m\u001b[0m\u001b[0m\n\u001b[1;32m      3\u001b[0m \u001b[0;34m\u001b[0m\u001b[0m\n\u001b[0;32m----> 4\u001b[0;31m   \u001b[0mX_train\u001b[0m\u001b[0;34m,\u001b[0m \u001b[0my_train\u001b[0m\u001b[0;34m,\u001b[0m \u001b[0mG_train\u001b[0m\u001b[0;34m,\u001b[0m \u001b[0m_\u001b[0m \u001b[0;34m=\u001b[0m \u001b[0mgenerate_samples_from_graph\u001b[0m\u001b[0;34m(\u001b[0m\u001b[0mnum_node_pairs\u001b[0m\u001b[0;34m=\u001b[0m\u001b[0;36m1000\u001b[0m\u001b[0;34m,\u001b[0m \u001b[0maugmentation\u001b[0m\u001b[0;34m=\u001b[0m\u001b[0;32mTrue\u001b[0m\u001b[0;34m,\u001b[0m \u001b[0maugmentation_index\u001b[0m\u001b[0;34m=\u001b[0m\u001b[0;36m10\u001b[0m\u001b[0;34m,\u001b[0m \u001b[0mlabel\u001b[0m\u001b[0;34m=\u001b[0m\u001b[0;34m'Train'\u001b[0m\u001b[0;34m)\u001b[0m\u001b[0;34m\u001b[0m\u001b[0;34m\u001b[0m\u001b[0m\n\u001b[0m\u001b[1;32m      5\u001b[0m   \u001b[0mX_val\u001b[0m\u001b[0;34m,\u001b[0m \u001b[0my_val\u001b[0m\u001b[0;34m,\u001b[0m \u001b[0mG_val\u001b[0m\u001b[0;34m,\u001b[0m \u001b[0m_\u001b[0m \u001b[0;34m=\u001b[0m \u001b[0mgenerate_samples_from_graph\u001b[0m\u001b[0;34m(\u001b[0m\u001b[0mnum_node_pairs\u001b[0m\u001b[0;34m=\u001b[0m\u001b[0;36m100\u001b[0m\u001b[0;34m,\u001b[0m \u001b[0maugmentation\u001b[0m\u001b[0;34m=\u001b[0m\u001b[0;32mFalse\u001b[0m\u001b[0;34m,\u001b[0m \u001b[0mlabel\u001b[0m\u001b[0;34m=\u001b[0m\u001b[0;34m'Validation'\u001b[0m\u001b[0;34m)\u001b[0m\u001b[0;34m\u001b[0m\u001b[0;34m\u001b[0m\u001b[0m\n\u001b[1;32m      6\u001b[0m \u001b[0;34m\u001b[0m\u001b[0m\n",
            "\u001b[0;31mNameError\u001b[0m: name 'generate_samples_from_graph' is not defined"
          ]
        }
      ],
      "source": [
        "batch_size=128\n",
        "for i in range(10):\n",
        "\n",
        "  X_train, y_train, G_train, _ = generate_samples_from_graph(num_node_pairs=1000, augmentation=True, augmentation_index=10, label='Train')\n",
        "  X_val, y_val, G_val, _ = generate_samples_from_graph(num_node_pairs=100, augmentation=False, label='Validation')\n",
        "\n",
        "  train_iter = mx.io.NDArrayIter(X_train, y_train, batch_size, shuffle=True)\n",
        "  val_iter = mx.io.NDArrayIter(X_val, y_val, batch_size=batch_size)\n",
        "\n",
        "\n",
        "  model.load_params(\"/content/drive/MyDrive/project3/model\")\n",
        "  model.fit(train_iter,  # train data\n",
        "              eval_data=val_iter,  # validation data\n",
        "              optimizer='adam',  # use SGD to train\n",
        "               optimizer_params={'learning_rate':0.01, 'momentum': 0.9},\n",
        "              eval_metric='acc',  # report accuracy during training\n",
        "              batch_end_callback = mx.callback.Speedometer(batch_size, 200),\n",
        "#               epoch_end_callback = mx.callback.do_checkpoint(\"mymodel\", 1),\n",
        "              num_epoch=50)\n",
        "  model.save_params(\"/content/drive/MyDrive/project3/model\") "
      ]
    },
    {
      "cell_type": "code",
      "execution_count": null,
      "metadata": {
        "colab": {
          "base_uri": "https://localhost:8080/",
          "height": 1000
        },
        "id": "6PBV7bqtqxKk",
        "outputId": "21ddb14d-ef95-4085-872d-bd2378055925"
      },
      "outputs": [
        {
          "output_type": "stream",
          "name": "stdout",
          "text": [
            "365\n",
            "Test\n",
            "100 pairs are selected for training\n",
            "len of pair_path_dict: 100\n",
            "Num of training sample: 650\n",
            "Test\n",
            "\n",
            "\n"
          ]
        },
        {
          "output_type": "stream",
          "name": "stderr",
          "text": [
            "<ipython-input-8-13c686ec9d1f>:15: DeprecationWarning: `np.int` is a deprecated alias for the builtin `int`. To silence this warning, use `int` by itself. Doing this will not modify any behavior and is safe. When replacing `np.int`, you may wish to use e.g. `np.int64` or `np.int32` to specify the precision. If you wish to review your current use, check the release note link for additional information.\n",
            "Deprecated in NumPy 1.20; for more details and guidance: https://numpy.org/devdocs/release/1.20.0-notes.html#deprecations\n",
            "  X_aug, y_aug = np.zeros((augmented_sample_size, feature_size)), np.zeros((augmented_sample_size), dtype=np.int)\n",
            "WARNING:matplotlib.legend:No artists with labels found to put in legend.  Note that artists whose label start with an underscore are ignored when legend() is called with no argument.\n",
            "DEBUG:matplotlib.axes._base:top of Axes not in the figure, so title not moved\n",
            "DEBUG:matplotlib.axes._base:top of Axes not in the figure, so title not moved\n",
            "DEBUG:matplotlib.axes._base:top of Axes not in the figure, so title not moved\n",
            "DEBUG:matplotlib.axes._base:top of Axes not in the figure, so title not moved\n"
          ]
        },
        {
          "output_type": "stream",
          "name": "stdout",
          "text": [
            "The model is able to find a different path between 17 and 18\n"
          ]
        },
        {
          "output_type": "display_data",
          "data": {
            "text/plain": [
              "<Figure size 432x288 with 1 Axes>"
            ],
            "image/png": "[encoded data removed]"
          },
          "metadata": {}
        },
        {
          "output_type": "stream",
          "name": "stdout",
          "text": [
            "Dijkstra path : [17, 14, 35, 47, 40, 10, 5, 18]\n",
            "NN path : [17, 14, 35, 47, 40, 10, 12, 18]\n",
            "\n"
          ]
        },
        {
          "output_type": "stream",
          "name": "stderr",
          "text": [
            "WARNING:matplotlib.legend:No artists with labels found to put in legend.  Note that artists whose label start with an underscore are ignored when legend() is called with no argument.\n",
            "DEBUG:matplotlib.axes._base:top of Axes not in the figure, so title not moved\n",
            "DEBUG:matplotlib.axes._base:top of Axes not in the figure, so title not moved\n"
          ]
        },
        {
          "output_type": "stream",
          "name": "stdout",
          "text": [
            "The model is able to find a different path between 41 and 36\n"
          ]
        },
        {
          "output_type": "stream",
          "name": "stderr",
          "text": [
            "DEBUG:matplotlib.axes._base:top of Axes not in the figure, so title not moved\n",
            "DEBUG:matplotlib.axes._base:top of Axes not in the figure, so title not moved\n"
          ]
        },
        {
          "output_type": "display_data",
          "data": {
            "text/plain": [
              "<Figure size 432x288 with 1 Axes>"
            ],
            "image/png": "[encoded data removed]"
          },
          "metadata": {}
        },
        {
          "output_type": "stream",
          "name": "stdout",
          "text": [
            "Dijkstra path : [41, 47, 40, 10, 5, 36]\n",
            "NN path : [41, 21, 47, 40, 10, 5, 36]\n",
            "\n",
            "The model is able to find a different path between 36 and 41\n"
          ]
        },
        {
          "output_type": "stream",
          "name": "stderr",
          "text": [
            "WARNING:matplotlib.legend:No artists with labels found to put in legend.  Note that artists whose label start with an underscore are ignored when legend() is called with no argument.\n",
            "DEBUG:matplotlib.axes._base:top of Axes not in the figure, so title not moved\n",
            "DEBUG:matplotlib.axes._base:top of Axes not in the figure, so title not moved\n",
            "DEBUG:matplotlib.axes._base:top of Axes not in the figure, so title not moved\n",
            "DEBUG:matplotlib.axes._base:top of Axes not in the figure, so title not moved\n"
          ]
        },
        {
          "output_type": "display_data",
          "data": {
            "text/plain": [
              "<Figure size 432x288 with 1 Axes>"
            ],
            "image/png": "[encoded data removed]"
          },
          "metadata": {}
        },
        {
          "output_type": "stream",
          "name": "stdout",
          "text": [
            "Dijkstra path : [36, 5, 10, 40, 47, 41]\n",
            "NN path : [36, 45, 40, 47, 41]\n",
            "\n"
          ]
        },
        {
          "output_type": "stream",
          "name": "stderr",
          "text": [
            "WARNING:matplotlib.legend:No artists with labels found to put in legend.  Note that artists whose label start with an underscore are ignored when legend() is called with no argument.\n",
            "DEBUG:matplotlib.axes._base:top of Axes not in the figure, so title not moved\n",
            "DEBUG:matplotlib.axes._base:top of Axes not in the figure, so title not moved\n"
          ]
        },
        {
          "output_type": "stream",
          "name": "stdout",
          "text": [
            "The model is able to find a different path between 44 and 13\n"
          ]
        },
        {
          "output_type": "stream",
          "name": "stderr",
          "text": [
            "DEBUG:matplotlib.axes._base:top of Axes not in the figure, so title not moved\n",
            "DEBUG:matplotlib.axes._base:top of Axes not in the figure, so title not moved\n"
          ]
        },
        {
          "output_type": "display_data",
          "data": {
            "text/plain": [
              "<Figure size 432x288 with 1 Axes>"
            ],
            "image/png": "[encoded data removed]"
          },
          "metadata": {}
        },
        {
          "output_type": "stream",
          "name": "stderr",
          "text": [
            "WARNING:matplotlib.legend:No artists with labels found to put in legend.  Note that artists whose label start with an underscore are ignored when legend() is called with no argument.\n",
            "DEBUG:matplotlib.axes._base:top of Axes not in the figure, so title not moved\n"
          ]
        },
        {
          "output_type": "stream",
          "name": "stdout",
          "text": [
            "Dijkstra path : [44, 0, 25, 20, 4, 13]\n",
            "NN path : [44, 28, 31, 0, 25, 20, 17, 14, 35, 13]\n",
            "\n",
            "The model is able to find a different path between 13 and 44\n"
          ]
        },
        {
          "output_type": "stream",
          "name": "stderr",
          "text": [
            "DEBUG:matplotlib.axes._base:top of Axes not in the figure, so title not moved\n",
            "DEBUG:matplotlib.axes._base:top of Axes not in the figure, so title not moved\n",
            "DEBUG:matplotlib.axes._base:top of Axes not in the figure, so title not moved\n"
          ]
        },
        {
          "output_type": "display_data",
          "data": {
            "text/plain": [
              "<Figure size 432x288 with 1 Axes>"
            ],
            "image/png": "[encoded data removed]"
          },
          "metadata": {}
        },
        {
          "output_type": "stream",
          "name": "stderr",
          "text": [
            "WARNING:matplotlib.legend:No artists with labels found to put in legend.  Note that artists whose label start with an underscore are ignored when legend() is called with no argument.\n",
            "DEBUG:matplotlib.axes._base:top of Axes not in the figure, so title not moved\n"
          ]
        },
        {
          "output_type": "stream",
          "name": "stdout",
          "text": [
            "Dijkstra path : [13, 4, 20, 25, 0, 44]\n",
            "NN path : [13, 17, 20, 25, 0, 44]\n",
            "\n",
            "The model is able to find a different path between 10 and 4\n"
          ]
        },
        {
          "output_type": "stream",
          "name": "stderr",
          "text": [
            "DEBUG:matplotlib.axes._base:top of Axes not in the figure, so title not moved\n",
            "DEBUG:matplotlib.axes._base:top of Axes not in the figure, so title not moved\n",
            "DEBUG:matplotlib.axes._base:top of Axes not in the figure, so title not moved\n"
          ]
        },
        {
          "output_type": "display_data",
          "data": {
            "text/plain": [
              "<Figure size 432x288 with 1 Axes>"
            ],
            "image/png": "[encoded data removed]"
          },
          "metadata": {}
        },
        {
          "output_type": "stream",
          "name": "stderr",
          "text": [
            "WARNING:matplotlib.legend:No artists with labels found to put in legend.  Note that artists whose label start with an underscore are ignored when legend() is called with no argument.\n",
            "DEBUG:matplotlib.axes._base:top of Axes not in the figure, so title not moved\n"
          ]
        },
        {
          "output_type": "stream",
          "name": "stdout",
          "text": [
            "Dijkstra path : [10, 40, 47, 35, 14, 4]\n",
            "NN path : [10, 40, 47, 35, 14, 17, 4]\n",
            "\n",
            "The model is able to find a different path between 38 and 21\n"
          ]
        },
        {
          "output_type": "stream",
          "name": "stderr",
          "text": [
            "DEBUG:matplotlib.axes._base:top of Axes not in the figure, so title not moved\n",
            "DEBUG:matplotlib.axes._base:top of Axes not in the figure, so title not moved\n",
            "DEBUG:matplotlib.axes._base:top of Axes not in the figure, so title not moved\n"
          ]
        },
        {
          "output_type": "display_data",
          "data": {
            "text/plain": [
              "<Figure size 432x288 with 1 Axes>"
            ],
            "image/png": "[encoded data removed]"
          },
          "metadata": {}
        },
        {
          "output_type": "stream",
          "name": "stdout",
          "text": [
            "Dijkstra path : [38, 43, 19, 7, 12, 10, 40, 47, 21]\n",
            "NN path : [38, 39, 27, 43, 19, 7, 12, 10, 40, 47, 21]\n",
            "\n",
            "19   3   21\n"
          ]
        },
        {
          "output_type": "stream",
          "name": "stderr",
          "text": [
            "WARNING:matplotlib.legend:No artists with labels found to put in legend.  Note that artists whose label start with an underscore are ignored when legend() is called with no argument.\n",
            "DEBUG:matplotlib.axes._base:top of Axes not in the figure, so title not moved\n",
            "DEBUG:matplotlib.axes._base:top of Axes not in the figure, so title not moved\n"
          ]
        },
        {
          "output_type": "stream",
          "name": "stdout",
          "text": [
            "The model is able to find a different path between 42 and 11\n"
          ]
        },
        {
          "output_type": "stream",
          "name": "stderr",
          "text": [
            "DEBUG:matplotlib.axes._base:top of Axes not in the figure, so title not moved\n",
            "DEBUG:matplotlib.axes._base:top of Axes not in the figure, so title not moved\n"
          ]
        },
        {
          "output_type": "display_data",
          "data": {
            "text/plain": [
              "<Figure size 432x288 with 1 Axes>"
            ],
            "image/png": "[encoded data removed]"
          },
          "metadata": {}
        },
        {
          "output_type": "stream",
          "name": "stderr",
          "text": [
            "WARNING:matplotlib.legend:No artists with labels found to put in legend.  Note that artists whose label start with an underscore are ignored when legend() is called with no argument.\n",
            "DEBUG:matplotlib.axes._base:top of Axes not in the figure, so title not moved\n"
          ]
        },
        {
          "output_type": "stream",
          "name": "stdout",
          "text": [
            "Dijkstra path : [42, 9, 21, 47, 40, 10, 12, 7, 19, 22, 33, 26, 11]\n",
            "NN path : [42, 9, 21, 47, 40, 10, 12, 7, 19, 43, 38, 39, 11]\n",
            "\n",
            "The model is able to find a different path between 8 and 24\n"
          ]
        },
        {
          "output_type": "stream",
          "name": "stderr",
          "text": [
            "DEBUG:matplotlib.axes._base:top of Axes not in the figure, so title not moved\n",
            "DEBUG:matplotlib.axes._base:top of Axes not in the figure, so title not moved\n",
            "DEBUG:matplotlib.axes._base:top of Axes not in the figure, so title not moved\n"
          ]
        },
        {
          "output_type": "display_data",
          "data": {
            "text/plain": [
              "<Figure size 432x288 with 1 Axes>"
            ],
            "image/png": "[encoded data removed]"
          },
          "metadata": {}
        },
        {
          "output_type": "stream",
          "name": "stderr",
          "text": [
            "WARNING:matplotlib.legend:No artists with labels found to put in legend.  Note that artists whose label start with an underscore are ignored when legend() is called with no argument.\n",
            "DEBUG:matplotlib.axes._base:top of Axes not in the figure, so title not moved\n"
          ]
        },
        {
          "output_type": "stream",
          "name": "stdout",
          "text": [
            "Dijkstra path : [8, 25, 20, 17, 14, 35, 47, 40, 10, 12, 24]\n",
            "NN path : [8, 37, 20, 17, 14, 35, 47, 40, 10, 12, 24]\n",
            "\n",
            "The model is able to find a different path between 24 and 8\n"
          ]
        },
        {
          "output_type": "stream",
          "name": "stderr",
          "text": [
            "DEBUG:matplotlib.axes._base:top of Axes not in the figure, so title not moved\n",
            "DEBUG:matplotlib.axes._base:top of Axes not in the figure, so title not moved\n",
            "DEBUG:matplotlib.axes._base:top of Axes not in the figure, so title not moved\n"
          ]
        },
        {
          "output_type": "display_data",
          "data": {
            "text/plain": [
              "<Figure size 432x288 with 1 Axes>"
            ],
            "image/png": "[encoded data removed]"
          },
          "metadata": {}
        },
        {
          "output_type": "stream",
          "name": "stderr",
          "text": [
            "WARNING:matplotlib.legend:No artists with labels found to put in legend.  Note that artists whose label start with an underscore are ignored when legend() is called with no argument.\n",
            "DEBUG:matplotlib.axes._base:top of Axes not in the figure, so title not moved\n",
            "DEBUG:matplotlib.axes._base:top of Axes not in the figure, so title not moved\n"
          ]
        },
        {
          "output_type": "stream",
          "name": "stdout",
          "text": [
            "Dijkstra path : [24, 12, 10, 40, 47, 35, 14, 17, 20, 25, 8]\n",
            "NN path : [24, 19, 7, 12, 10, 40, 47, 35, 14, 17, 20, 25, 8]\n",
            "\n",
            "The model is able to find a different path between 30 and 12\n"
          ]
        },
        {
          "output_type": "stream",
          "name": "stderr",
          "text": [
            "DEBUG:matplotlib.axes._base:top of Axes not in the figure, so title not moved\n",
            "DEBUG:matplotlib.axes._base:top of Axes not in the figure, so title not moved\n"
          ]
        },
        {
          "output_type": "display_data",
          "data": {
            "text/plain": [
              "<Figure size 432x288 with 1 Axes>"
            ],
            "image/png": "[encoded data removed]"
          },
          "metadata": {}
        },
        {
          "output_type": "stream",
          "name": "stderr",
          "text": [
            "WARNING:matplotlib.legend:No artists with labels found to put in legend.  Note that artists whose label start with an underscore are ignored when legend() is called with no argument.\n",
            "DEBUG:matplotlib.axes._base:top of Axes not in the figure, so title not moved\n"
          ]
        },
        {
          "output_type": "stream",
          "name": "stdout",
          "text": [
            "Dijkstra path : [30, 10, 12]\n",
            "NN path : [30, 5, 18, 12]\n",
            "\n",
            "The model is able to find a different path between 27 and 49\n"
          ]
        },
        {
          "output_type": "stream",
          "name": "stderr",
          "text": [
            "DEBUG:matplotlib.axes._base:top of Axes not in the figure, so title not moved\n",
            "DEBUG:matplotlib.axes._base:top of Axes not in the figure, so title not moved\n",
            "DEBUG:matplotlib.axes._base:top of Axes not in the figure, so title not moved\n"
          ]
        },
        {
          "output_type": "display_data",
          "data": {
            "text/plain": [
              "<Figure size 432x288 with 1 Axes>"
            ],
            "image/png": "[encoded data removed]"
          },
          "metadata": {}
        },
        {
          "output_type": "stream",
          "name": "stderr",
          "text": [
            "WARNING:matplotlib.legend:No artists with labels found to put in legend.  Note that artists whose label start with an underscore are ignored when legend() is called with no argument.\n"
          ]
        },
        {
          "output_type": "stream",
          "name": "stdout",
          "text": [
            "Dijkstra path : [27, 43, 19, 7, 12, 10, 40, 47, 41, 49]\n",
            "NN path : [27, 39, 38, 43, 19, 7, 12, 10, 40, 47, 41, 49]\n",
            "\n",
            "The model is able to find a different path between 30 and 33\n"
          ]
        },
        {
          "output_type": "stream",
          "name": "stderr",
          "text": [
            "DEBUG:matplotlib.axes._base:top of Axes not in the figure, so title not moved\n",
            "DEBUG:matplotlib.axes._base:top of Axes not in the figure, so title not moved\n",
            "DEBUG:matplotlib.axes._base:top of Axes not in the figure, so title not moved\n",
            "DEBUG:matplotlib.axes._base:top of Axes not in the figure, so title not moved\n"
          ]
        },
        {
          "output_type": "display_data",
          "data": {
            "text/plain": [
              "<Figure size 432x288 with 1 Axes>"
            ],
            "image/png": "[encoded data removed]"
          },
          "metadata": {}
        },
        {
          "output_type": "stream",
          "name": "stderr",
          "text": [
            "WARNING:matplotlib.legend:No artists with labels found to put in legend.  Note that artists whose label start with an underscore are ignored when legend() is called with no argument.\n",
            "DEBUG:matplotlib.axes._base:top of Axes not in the figure, so title not moved\n"
          ]
        },
        {
          "output_type": "stream",
          "name": "stdout",
          "text": [
            "Dijkstra path : [30, 10, 12, 7, 19, 22, 33]\n",
            "NN path : [30, 10, 12, 7, 19, 43, 38, 33]\n",
            "\n",
            "The model is able to find a different path between 33 and 30\n"
          ]
        },
        {
          "output_type": "stream",
          "name": "stderr",
          "text": [
            "DEBUG:matplotlib.axes._base:top of Axes not in the figure, so title not moved\n",
            "DEBUG:matplotlib.axes._base:top of Axes not in the figure, so title not moved\n",
            "DEBUG:matplotlib.axes._base:top of Axes not in the figure, so title not moved\n"
          ]
        },
        {
          "output_type": "display_data",
          "data": {
            "text/plain": [
              "<Figure size 432x288 with 1 Axes>"
            ],
            "image/png": "[encoded data removed]"
          },
          "metadata": {}
        },
        {
          "output_type": "stream",
          "name": "stderr",
          "text": [
            "WARNING:matplotlib.legend:No artists with labels found to put in legend.  Note that artists whose label start with an underscore are ignored when legend() is called with no argument.\n"
          ]
        },
        {
          "output_type": "stream",
          "name": "stdout",
          "text": [
            "Dijkstra path : [33, 22, 19, 7, 12, 10, 30]\n",
            "NN path : [33, 26, 27, 43, 19, 7, 12, 10, 30]\n",
            "\n",
            "25   1   32\n",
            "The model is able to find a different path between 24 and 11\n"
          ]
        },
        {
          "output_type": "stream",
          "name": "stderr",
          "text": [
            "DEBUG:matplotlib.axes._base:top of Axes not in the figure, so title not moved\n",
            "DEBUG:matplotlib.axes._base:top of Axes not in the figure, so title not moved\n",
            "DEBUG:matplotlib.axes._base:top of Axes not in the figure, so title not moved\n",
            "DEBUG:matplotlib.axes._base:top of Axes not in the figure, so title not moved\n"
          ]
        },
        {
          "output_type": "display_data",
          "data": {
            "text/plain": [
              "<Figure size 432x288 with 1 Axes>"
            ],
            "image/png": "[encoded data removed]"
          },
          "metadata": {}
        },
        {
          "output_type": "stream",
          "name": "stdout",
          "text": [
            "Dijkstra path : [24, 19, 22, 33, 26, 11]\n",
            "NN path : [24, 12, 7, 19, 43, 38, 39, 11]\n",
            "\n",
            "The model is able to find a different path between 46 and 1\n"
          ]
        },
        {
          "output_type": "stream",
          "name": "stderr",
          "text": [
            "WARNING:matplotlib.legend:No artists with labels found to put in legend.  Note that artists whose label start with an underscore are ignored when legend() is called with no argument.\n",
            "DEBUG:matplotlib.axes._base:top of Axes not in the figure, so title not moved\n",
            "DEBUG:matplotlib.axes._base:top of Axes not in the figure, so title not moved\n",
            "DEBUG:matplotlib.axes._base:top of Axes not in the figure, so title not moved\n",
            "DEBUG:matplotlib.axes._base:top of Axes not in the figure, so title not moved\n"
          ]
        },
        {
          "output_type": "display_data",
          "data": {
            "text/plain": [
              "<Figure size 432x288 with 1 Axes>"
            ],
            "image/png": "[encoded data removed]"
          },
          "metadata": {}
        },
        {
          "output_type": "stream",
          "name": "stderr",
          "text": [
            "WARNING:matplotlib.legend:No artists with labels found to put in legend.  Note that artists whose label start with an underscore are ignored when legend() is called with no argument.\n",
            "DEBUG:matplotlib.axes._base:top of Axes not in the figure, so title not moved\n"
          ]
        },
        {
          "output_type": "stream",
          "name": "stdout",
          "text": [
            "Dijkstra path : [46, 28, 31, 0, 25, 20, 17, 14, 35, 47, 21, 9, 23, 1]\n",
            "NN path : [46, 28, 31, 0, 25, 20, 17, 14, 35, 47, 40, 10, 12, 7, 19, 24, 18, 5, 36, 6, 29, 1]\n",
            "\n",
            "The model is able to find a different path between 17 and 15\n"
          ]
        },
        {
          "output_type": "stream",
          "name": "stderr",
          "text": [
            "DEBUG:matplotlib.axes._base:top of Axes not in the figure, so title not moved\n",
            "DEBUG:matplotlib.axes._base:top of Axes not in the figure, so title not moved\n",
            "DEBUG:matplotlib.axes._base:top of Axes not in the figure, so title not moved\n"
          ]
        },
        {
          "output_type": "display_data",
          "data": {
            "text/plain": [
              "<Figure size 432x288 with 1 Axes>"
            ],
            "image/png": "[encoded data removed]"
          },
          "metadata": {}
        },
        {
          "output_type": "stream",
          "name": "stderr",
          "text": [
            "WARNING:matplotlib.legend:No artists with labels found to put in legend.  Note that artists whose label start with an underscore are ignored when legend() is called with no argument.\n",
            "DEBUG:matplotlib.axes._base:top of Axes not in the figure, so title not moved\n",
            "DEBUG:matplotlib.axes._base:top of Axes not in the figure, so title not moved\n",
            "DEBUG:matplotlib.axes._base:top of Axes not in the figure, so title not moved\n",
            "DEBUG:matplotlib.axes._base:top of Axes not in the figure, so title not moved\n"
          ]
        },
        {
          "output_type": "stream",
          "name": "stdout",
          "text": [
            "Dijkstra path : [17, 14, 35, 47, 21, 9, 23, 15]\n",
            "NN path : [17, 14, 35, 47, 40, 10, 12, 7, 19, 24, 18, 5, 36, 6, 29, 15]\n",
            "\n",
            "The model is able to find a different path between 39 and 33\n"
          ]
        },
        {
          "output_type": "display_data",
          "data": {
            "text/plain": [
              "<Figure size 432x288 with 1 Axes>"
            ],
            "image/png": "[encoded data removed]"
          },
          "metadata": {}
        },
        {
          "output_type": "stream",
          "name": "stderr",
          "text": [
            "WARNING:matplotlib.legend:No artists with labels found to put in legend.  Note that artists whose label start with an underscore are ignored when legend() is called with no argument.\n",
            "DEBUG:matplotlib.axes._base:top of Axes not in the figure, so title not moved\n",
            "DEBUG:matplotlib.axes._base:top of Axes not in the figure, so title not moved\n",
            "DEBUG:matplotlib.axes._base:top of Axes not in the figure, so title not moved\n",
            "DEBUG:matplotlib.axes._base:top of Axes not in the figure, so title not moved\n"
          ]
        },
        {
          "output_type": "stream",
          "name": "stdout",
          "text": [
            "Dijkstra path : [39, 26, 33]\n",
            "NN path : [39, 38, 33]\n",
            "\n",
            "The model is able to find a different path between 33 and 39\n"
          ]
        },
        {
          "output_type": "display_data",
          "data": {
            "text/plain": [
              "<Figure size 432x288 with 1 Axes>"
            ],
            "image/png": "[encoded data removed]"
          },
          "metadata": {}
        },
        {
          "output_type": "stream",
          "name": "stdout",
          "text": [
            "Dijkstra path : [33, 26, 39]"
          ]
        },
        {
          "output_type": "stream",
          "name": "stderr",
          "text": [
            "WARNING:matplotlib.legend:No artists with labels found to put in legend.  Note that artists whose label start with an underscore are ignored when legend() is called with no argument.\n",
            "DEBUG:matplotlib.axes._base:top of Axes not in the figure, so title not moved\n",
            "DEBUG:matplotlib.axes._base:top of Axes not in the figure, so title not moved\n"
          ]
        },
        {
          "output_type": "stream",
          "name": "stdout",
          "text": [
            "\n",
            "NN path : [33, 26, 11, 39]\n",
            "\n",
            "The model is able to find a different path between 34 and 15\n"
          ]
        },
        {
          "output_type": "stream",
          "name": "stderr",
          "text": [
            "DEBUG:matplotlib.axes._base:top of Axes not in the figure, so title not moved\n",
            "DEBUG:matplotlib.axes._base:top of Axes not in the figure, so title not moved\n"
          ]
        },
        {
          "output_type": "display_data",
          "data": {
            "text/plain": [
              "<Figure size 432x288 with 1 Axes>"
            ],
            "image/png": "[encoded data removed]"
          },
          "metadata": {}
        },
        {
          "output_type": "stream",
          "name": "stderr",
          "text": [
            "WARNING:matplotlib.legend:No artists with labels found to put in legend.  Note that artists whose label start with an underscore are ignored when legend() is called with no argument.\n",
            "DEBUG:matplotlib.axes._base:top of Axes not in the figure, so title not moved\n"
          ]
        },
        {
          "output_type": "stream",
          "name": "stdout",
          "text": [
            "Dijkstra path : [34, 46, 28, 31, 0, 25, 20, 17, 14, 35, 47, 21, 9, 23, 15]\n",
            "NN path : [34, 46, 28, 31, 0, 25, 20, 17, 14, 35, 47, 40, 10, 12, 7, 19, 24, 18, 5, 36, 6, 29, 15]\n",
            "\n",
            "22   4   33\n",
            "The model is able to find a different path between 41 and 32\n"
          ]
        },
        {
          "output_type": "stream",
          "name": "stderr",
          "text": [
            "DEBUG:matplotlib.axes._base:top of Axes not in the figure, so title not moved\n",
            "DEBUG:matplotlib.axes._base:top of Axes not in the figure, so title not moved\n",
            "DEBUG:matplotlib.axes._base:top of Axes not in the figure, so title not moved\n"
          ]
        },
        {
          "output_type": "display_data",
          "data": {
            "text/plain": [
              "<Figure size 432x288 with 1 Axes>"
            ],
            "image/png": "[encoded data removed]"
          },
          "metadata": {}
        },
        {
          "output_type": "stream",
          "name": "stderr",
          "text": [
            "WARNING:matplotlib.legend:No artists with labels found to put in legend.  Note that artists whose label start with an underscore are ignored when legend() is called with no argument.\n",
            "DEBUG:matplotlib.axes._base:top of Axes not in the figure, so title not moved\n",
            "DEBUG:matplotlib.axes._base:top of Axes not in the figure, so title not moved\n",
            "DEBUG:matplotlib.axes._base:top of Axes not in the figure, so title not moved\n",
            "DEBUG:matplotlib.axes._base:top of Axes not in the figure, so title not moved\n"
          ]
        },
        {
          "output_type": "stream",
          "name": "stdout",
          "text": [
            "Dijkstra path : [41, 47, 35, 14, 17, 20, 25, 32]\n",
            "NN path : [41, 49, 21, 47, 35, 14, 17, 20, 25, 32]\n",
            "\n",
            "The model is able to find a different path between 32 and 41\n"
          ]
        },
        {
          "output_type": "display_data",
          "data": {
            "text/plain": [
              "<Figure size 432x288 with 1 Axes>"
            ],
            "image/png": "[encoded data removed]"
          },
          "metadata": {}
        },
        {
          "output_type": "stream",
          "name": "stderr",
          "text": [
            "WARNING:matplotlib.legend:No artists with labels found to put in legend.  Note that artists whose label start with an underscore are ignored when legend() is called with no argument.\n"
          ]
        },
        {
          "output_type": "stream",
          "name": "stdout",
          "text": [
            "Dijkstra path : [32, 25, 20, 17, 14, 35, 47, 41]\n",
            "NN path : [32, 16, 3, 46, 28, 31, 0, 25, 20, 17, 14, 35, 47, 41]\n",
            "\n",
            "The model is able to find a different path between 9 and 26\n"
          ]
        },
        {
          "output_type": "stream",
          "name": "stderr",
          "text": [
            "DEBUG:matplotlib.axes._base:top of Axes not in the figure, so title not moved\n",
            "DEBUG:matplotlib.axes._base:top of Axes not in the figure, so title not moved\n",
            "DEBUG:matplotlib.axes._base:top of Axes not in the figure, so title not moved\n",
            "DEBUG:matplotlib.axes._base:top of Axes not in the figure, so title not moved\n"
          ]
        },
        {
          "output_type": "display_data",
          "data": {
            "text/plain": [
              "<Figure size 432x288 with 1 Axes>"
            ],
            "image/png": "[encoded data removed]"
          },
          "metadata": {}
        },
        {
          "output_type": "stream",
          "name": "stderr",
          "text": [
            "WARNING:matplotlib.legend:No artists with labels found to put in legend.  Note that artists whose label start with an underscore are ignored when legend() is called with no argument.\n"
          ]
        },
        {
          "output_type": "stream",
          "name": "stdout",
          "text": [
            "Dijkstra path : [9, 21, 47, 40, 10, 12, 7, 19, 22, 33, 26]\n",
            "NN path : [9, 21, 47, 40, 10, 12, 7, 19, 43, 38, 39, 26]\n",
            "\n",
            "The model is able to find a different path between 12 and 3\n"
          ]
        },
        {
          "output_type": "stream",
          "name": "stderr",
          "text": [
            "DEBUG:matplotlib.axes._base:top of Axes not in the figure, so title not moved\n",
            "DEBUG:matplotlib.axes._base:top of Axes not in the figure, so title not moved\n",
            "DEBUG:matplotlib.axes._base:top of Axes not in the figure, so title not moved\n",
            "DEBUG:matplotlib.axes._base:top of Axes not in the figure, so title not moved\n"
          ]
        },
        {
          "output_type": "display_data",
          "data": {
            "text/plain": [
              "<Figure size 432x288 with 1 Axes>"
            ],
            "image/png": "[encoded data removed]"
          },
          "metadata": {}
        },
        {
          "output_type": "stream",
          "name": "stderr",
          "text": [
            "WARNING:matplotlib.legend:No artists with labels found to put in legend.  Note that artists whose label start with an underscore are ignored when legend() is called with no argument.\n",
            "DEBUG:matplotlib.axes._base:top of Axes not in the figure, so title not moved\n"
          ]
        },
        {
          "output_type": "stream",
          "name": "stdout",
          "text": [
            "Dijkstra path : [12, 10, 40, 47, 35, 14, 17, 20, 25, 32, 16, 3]\n",
            "NN path : [12, 10, 40, 47, 35, 14, 17, 20, 25, 0, 31, 3]\n",
            "\n",
            "The model is able to find a different path between 32 and 6\n"
          ]
        },
        {
          "output_type": "stream",
          "name": "stderr",
          "text": [
            "DEBUG:matplotlib.axes._base:top of Axes not in the figure, so title not moved\n",
            "DEBUG:matplotlib.axes._base:top of Axes not in the figure, so title not moved\n",
            "DEBUG:matplotlib.axes._base:top of Axes not in the figure, so title not moved\n"
          ]
        },
        {
          "output_type": "display_data",
          "data": {
            "text/plain": [
              "<Figure size 432x288 with 1 Axes>"
            ],
            "image/png": "[encoded data removed]"
          },
          "metadata": {}
        },
        {
          "output_type": "stream",
          "name": "stderr",
          "text": [
            "WARNING:matplotlib.legend:No artists with labels found to put in legend.  Note that artists whose label start with an underscore are ignored when legend() is called with no argument.\n",
            "DEBUG:matplotlib.axes._base:top of Axes not in the figure, so title not moved\n",
            "DEBUG:matplotlib.axes._base:top of Axes not in the figure, so title not moved\n",
            "DEBUG:matplotlib.axes._base:top of Axes not in the figure, so title not moved\n",
            "DEBUG:matplotlib.axes._base:top of Axes not in the figure, so title not moved\n"
          ]
        },
        {
          "output_type": "stream",
          "name": "stdout",
          "text": [
            "Dijkstra path : [32, 25, 20, 17, 14, 35, 47, 40, 10, 5, 36, 6]\n",
            "NN path : [32, 16, 3, 46, 28, 31, 0, 25, 20, 17, 14, 35, 47, 40, 10, 12, 7, 19, 24, 18, 5, 36, 6]\n",
            "\n",
            "The model is able to find a different path between 16 and 44\n"
          ]
        },
        {
          "output_type": "display_data",
          "data": {
            "text/plain": [
              "<Figure size 432x288 with 1 Axes>"
            ],
            "image/png": "[encoded data removed]"
          },
          "metadata": {}
        },
        {
          "output_type": "stream",
          "name": "stderr",
          "text": [
            "WARNING:matplotlib.legend:No artists with labels found to put in legend.  Note that artists whose label start with an underscore are ignored when legend() is called with no argument.\n",
            "DEBUG:matplotlib.axes._base:top of Axes not in the figure, so title not moved\n",
            "DEBUG:matplotlib.axes._base:top of Axes not in the figure, so title not moved\n",
            "DEBUG:matplotlib.axes._base:top of Axes not in the figure, so title not moved\n"
          ]
        },
        {
          "output_type": "stream",
          "name": "stdout",
          "text": [
            "Dijkstra path : [16, 3, 28, 44]\n",
            "NN path : [16, 32, 31, 0, 44]\n",
            "\n",
            "The model is able to find a different path between 44 and 16\n"
          ]
        },
        {
          "output_type": "stream",
          "name": "stderr",
          "text": [
            "DEBUG:matplotlib.axes._base:top of Axes not in the figure, so title not moved\n"
          ]
        },
        {
          "output_type": "display_data",
          "data": {
            "text/plain": [
              "<Figure size 432x288 with 1 Axes>"
            ],
            "image/png": "[encoded data removed]"
          },
          "metadata": {}
        },
        {
          "output_type": "stream",
          "name": "stderr",
          "text": [
            "WARNING:matplotlib.legend:No artists with labels found to put in legend.  Note that artists whose label start with an underscore are ignored when legend() is called with no argument.\n",
            "DEBUG:matplotlib.axes._base:top of Axes not in the figure, so title not moved\n",
            "DEBUG:matplotlib.axes._base:top of Axes not in the figure, so title not moved\n",
            "DEBUG:matplotlib.axes._base:top of Axes not in the figure, so title not moved\n"
          ]
        },
        {
          "output_type": "stream",
          "name": "stdout",
          "text": [
            "Dijkstra path : [44, 28, 3, 16]\n",
            "NN path : [44, 28, 31, 0, 25, 32, 16]\n",
            "\n",
            "The model is able to find a different path between 31 and 10\n"
          ]
        },
        {
          "output_type": "stream",
          "name": "stderr",
          "text": [
            "DEBUG:matplotlib.axes._base:top of Axes not in the figure, so title not moved\n"
          ]
        },
        {
          "output_type": "display_data",
          "data": {
            "text/plain": [
              "<Figure size 432x288 with 1 Axes>"
            ],
            "image/png": "[encoded data removed]"
          },
          "metadata": {}
        },
        {
          "output_type": "stream",
          "name": "stderr",
          "text": [
            "WARNING:matplotlib.legend:No artists with labels found to put in legend.  Note that artists whose label start with an underscore are ignored when legend() is called with no argument.\n",
            "DEBUG:matplotlib.axes._base:top of Axes not in the figure, so title not moved\n",
            "DEBUG:matplotlib.axes._base:top of Axes not in the figure, so title not moved\n"
          ]
        },
        {
          "output_type": "stream",
          "name": "stdout",
          "text": [
            "Dijkstra path : [31, 0, 25, 20, 17, 14, 35, 47, 40, 10]\n",
            "NN path : [31, 3, 16, 32, 25, 20, 17, 14, 35, 47, 40, 10]\n",
            "\n",
            "The model is able to find a different path between 34 and 0\n"
          ]
        },
        {
          "output_type": "stream",
          "name": "stderr",
          "text": [
            "DEBUG:matplotlib.axes._base:top of Axes not in the figure, so title not moved\n",
            "DEBUG:matplotlib.axes._base:top of Axes not in the figure, so title not moved\n"
          ]
        },
        {
          "output_type": "display_data",
          "data": {
            "text/plain": [
              "<Figure size 432x288 with 1 Axes>"
            ],
            "image/png": "[encoded data removed]"
          },
          "metadata": {}
        },
        {
          "output_type": "stream",
          "name": "stderr",
          "text": [
            "WARNING:matplotlib.legend:No artists with labels found to put in legend.  Note that artists whose label start with an underscore are ignored when legend() is called with no argument.\n",
            "DEBUG:matplotlib.axes._base:top of Axes not in the figure, so title not moved\n",
            "DEBUG:matplotlib.axes._base:top of Axes not in the figure, so title not moved\n",
            "DEBUG:matplotlib.axes._base:top of Axes not in the figure, so title not moved\n"
          ]
        },
        {
          "output_type": "stream",
          "name": "stdout",
          "text": [
            "Dijkstra path : [34, 46, 28, 31, 0]\n",
            "NN path : [34, 44, 0]\n",
            "\n",
            "The model is able to find a different path between 28 and 18\n"
          ]
        },
        {
          "output_type": "stream",
          "name": "stderr",
          "text": [
            "DEBUG:matplotlib.axes._base:top of Axes not in the figure, so title not moved\n"
          ]
        },
        {
          "output_type": "display_data",
          "data": {
            "text/plain": [
              "<Figure size 432x288 with 1 Axes>"
            ],
            "image/png": "[encoded data removed]"
          },
          "metadata": {}
        },
        {
          "output_type": "stream",
          "name": "stdout",
          "text": [
            "Dijkstra path : [28, 31, 0, 25, 20, 17, 14, 35, 47, 40, 10, 5, 18]\n",
            "NN path : [28, 31, 0, 25, 20, 17, 14, 35, 47, 40, 10, 12, 18]\n",
            "\n"
          ]
        },
        {
          "output_type": "stream",
          "name": "stderr",
          "text": [
            "WARNING:matplotlib.legend:No artists with labels found to put in legend.  Note that artists whose label start with an underscore are ignored when legend() is called with no argument.\n",
            "DEBUG:matplotlib.axes._base:top of Axes not in the figure, so title not moved\n",
            "DEBUG:matplotlib.axes._base:top of Axes not in the figure, so title not moved\n",
            "DEBUG:matplotlib.axes._base:top of Axes not in the figure, so title not moved\n",
            "DEBUG:matplotlib.axes._base:top of Axes not in the figure, so title not moved\n"
          ]
        },
        {
          "output_type": "stream",
          "name": "stdout",
          "text": [
            "26   0   33\n",
            "The model is able to find a different path between 12 and 36\n"
          ]
        },
        {
          "output_type": "display_data",
          "data": {
            "text/plain": [
              "<Figure size 432x288 with 1 Axes>"
            ],
            "image/png": "[encoded data removed]"
          },
          "metadata": {}
        },
        {
          "output_type": "stream",
          "name": "stdout",
          "text": [
            "Dijkstra path : [12, 18, 5, 36]\n",
            "NN path : [12, 7, 19, 24, 18, 5, 36]\n",
            "\n"
          ]
        },
        {
          "output_type": "stream",
          "name": "stderr",
          "text": [
            "WARNING:matplotlib.legend:No artists with labels found to put in legend.  Note that artists whose label start with an underscore are ignored when legend() is called with no argument.\n"
          ]
        },
        {
          "output_type": "stream",
          "name": "stdout",
          "text": [
            "The model is able to find a different path between 3 and 33\n"
          ]
        },
        {
          "output_type": "stream",
          "name": "stderr",
          "text": [
            "DEBUG:matplotlib.axes._base:top of Axes not in the figure, so title not moved\n",
            "DEBUG:matplotlib.axes._base:top of Axes not in the figure, so title not moved\n",
            "DEBUG:matplotlib.axes._base:top of Axes not in the figure, so title not moved\n",
            "DEBUG:matplotlib.axes._base:top of Axes not in the figure, so title not moved\n"
          ]
        },
        {
          "output_type": "display_data",
          "data": {
            "text/plain": [
              "<Figure size 432x288 with 1 Axes>"
            ],
            "image/png": "[encoded data removed]"
          },
          "metadata": {}
        },
        {
          "output_type": "stream",
          "name": "stdout",
          "text": [
            "Dijkstra path : [3, 16, 32, 25, 20, 17, 14, 35, 47, 40, 10, 12, 7, 19, 22, 33]\n",
            "NN path : [3, 16, 32, 25, 20, 17, 14, 35, 47, 40, 10, 12, 7, 19, 43, 38, 33]\n",
            "\n"
          ]
        },
        {
          "output_type": "stream",
          "name": "stderr",
          "text": [
            "WARNING:matplotlib.legend:No artists with labels found to put in legend.  Note that artists whose label start with an underscore are ignored when legend() is called with no argument.\n"
          ]
        },
        {
          "output_type": "stream",
          "name": "stdout",
          "text": [
            "39   2   49\n",
            "The model is able to find a different path between 49 and 46\n"
          ]
        },
        {
          "output_type": "stream",
          "name": "stderr",
          "text": [
            "DEBUG:matplotlib.axes._base:top of Axes not in the figure, so title not moved\n",
            "DEBUG:matplotlib.axes._base:top of Axes not in the figure, so title not moved\n",
            "DEBUG:matplotlib.axes._base:top of Axes not in the figure, so title not moved\n",
            "DEBUG:matplotlib.axes._base:top of Axes not in the figure, so title not moved\n"
          ]
        },
        {
          "output_type": "display_data",
          "data": {
            "text/plain": [
              "<Figure size 432x288 with 1 Axes>"
            ],
            "image/png": "[encoded data removed]"
          },
          "metadata": {}
        },
        {
          "output_type": "stream",
          "name": "stdout",
          "text": [
            "Dijkstra path : [49, 41, 47, 35, 14, 17, 20, 25, 0, 31, 28, 46]\n",
            "NN path : [49, 41, 47, 35, 14, 17, 20, 25, 32, 16, 3, 46]\n",
            "\n"
          ]
        },
        {
          "output_type": "stream",
          "name": "stderr",
          "text": [
            "WARNING:matplotlib.legend:No artists with labels found to put in legend.  Note that artists whose label start with an underscore are ignored when legend() is called with no argument.\n",
            "DEBUG:matplotlib.axes._base:top of Axes not in the figure, so title not moved\n"
          ]
        },
        {
          "output_type": "stream",
          "name": "stdout",
          "text": [
            "The model is able to find a different path between 44 and 10\n"
          ]
        },
        {
          "output_type": "stream",
          "name": "stderr",
          "text": [
            "DEBUG:matplotlib.axes._base:top of Axes not in the figure, so title not moved\n",
            "DEBUG:matplotlib.axes._base:top of Axes not in the figure, so title not moved\n",
            "DEBUG:matplotlib.axes._base:top of Axes not in the figure, so title not moved\n"
          ]
        },
        {
          "output_type": "display_data",
          "data": {
            "text/plain": [
              "<Figure size 432x288 with 1 Axes>"
            ],
            "image/png": "[encoded data removed]"
          },
          "metadata": {}
        },
        {
          "output_type": "stream",
          "name": "stdout",
          "text": [
            "Dijkstra path : [44, 0, 25, 20, 17, 14, 35, 47, 40, 10]\n",
            "NN path : [44, 28, 31, 0, 25, 20, 17, 14, 35, 47, 40, 10]\n",
            "\n",
            "96 out of 100 can find path: 0.960000\n",
            "62 out of 96 can find optimal path: 0.645833\n",
            "62 out of 100 all paths can find optimal paths: 0.620000\n",
            "96 pairs, μ=0.941143, σ=0.182163\n",
            "96 pairs, μ=0.927664, σ=0.149855\n",
            "Overall efficiency=  0.9465277832452805\n"
          ]
        }
      ],
      "source": [
        "num_node_pairs = 100\n",
        "\n",
        "_, _, G_test, pair_path_dict = generate_samples_from_graph(num_node_pairs=num_node_pairs,\\\n",
        "                                                           graph_size=50,\\\n",
        "                                                           augmentation=False,\\\n",
        "                                                           label='Test')\n",
        "\n",
        "print_paths_statistics(G=G_test,\\\n",
        "                       num_to_test=num_node_pairs,\\\n",
        "                       pair_path_dict=pair_path_dict,\n",
        "                       verbose=True)"
      ]
    }
  ],
  "metadata": {
    "accelerator": "GPU",
    "colab": {
      "provenance": []
    },
    "gpuClass": "standard",
    "kernelspec": {
      "display_name": "Python 3",
      "name": "python3"
    },
    "language_info": {
      "name": "python"
    }
  },
  "nbformat": 4,
  "nbformat_minor": 0
}