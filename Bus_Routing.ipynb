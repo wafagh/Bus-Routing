{
  "cells": [
    {
      "cell_type": "code",
      "execution_count": null,
      "metadata": {
        "colab": {
          "base_uri": "https://localhost:8080/",
          "height": 992
        },
        "id": "AcwdIyF4lqwQ",
        "outputId": "8e1b44f1-9b5d-47fa-bedb-476b65480e5b"
      },
      "outputs": [
        {
          "output_type": "stream",
          "name": "stdout",
          "text": [
            "Looking in indexes: https://pypi.org/simple, https://us-python.pkg.dev/colab-wheels/public/simple/\n",
            "Collecting network\n",
            "  Downloading network-0.1.tar.gz (2.8 kB)\n",
            "  Preparing metadata (setup.py) ... \u001b[?25l\u001b[?25hdone\n",
            "Building wheels for collected packages: network\n",
            "  Building wheel for network (setup.py) ... \u001b[?25l\u001b[?25hdone\n",
            "  Created wheel for network: filename=network-0.1-py3-none-any.whl size=3155 sha256=4ad7f53c2189a22f57e90a8cfc751ccd3d6247033c2c43e47b0368d8bc25e2ff\n",
            "  Stored in directory: /root/.cache/pip/wheels/59/17/3f/c2ad13bea3a1c250f52688f75437681a71e08c47622b82facb\n",
            "Successfully built network\n",
            "Installing collected packages: network\n",
            "Successfully installed network-0.1\n",
            "Looking in indexes: https://pypi.org/simple, https://us-python.pkg.dev/colab-wheels/public/simple/\n",
            "Collecting mxnet\n",
            "  Downloading mxnet-1.9.1-py3-none-manylinux2014_x86_64.whl (49.1 MB)\n",
            "\u001b[2K     \u001b[90m━━━━━━━━━━━━━━━━━━━━━━━━━━━━━━━━━━━━━━━━\u001b[0m \u001b[32m49.1/49.1 MB\u001b[0m \u001b[31m14.7 MB/s\u001b[0m eta \u001b[36m0:00:00\u001b[0m\n",
            "\u001b[?25hRequirement already satisfied: numpy<2.0.0,>1.16.0 in /usr/local/lib/python3.8/dist-packages (from mxnet) (1.22.4)\n",
            "Collecting graphviz<0.9.0,>=0.8.1\n",
            "  Downloading graphviz-0.8.4-py2.py3-none-any.whl (16 kB)\n",
            "Requirement already satisfied: requests<3,>=2.20.0 in /usr/local/lib/python3.8/dist-packages (from mxnet) (2.25.1)\n",
            "Requirement already satisfied: idna<3,>=2.5 in /usr/local/lib/python3.8/dist-packages (from requests<3,>=2.20.0->mxnet) (2.10)\n",
            "Requirement already satisfied: certifi>=2017.4.17 in /usr/local/lib/python3.8/dist-packages (from requests<3,>=2.20.0->mxnet) (2022.12.7)\n",
            "Requirement already satisfied: chardet<5,>=3.0.2 in /usr/local/lib/python3.8/dist-packages (from requests<3,>=2.20.0->mxnet) (4.0.0)\n",
            "Requirement already satisfied: urllib3<1.27,>=1.21.1 in /usr/local/lib/python3.8/dist-packages (from requests<3,>=2.20.0->mxnet) (1.26.14)\n",
            "Installing collected packages: graphviz, mxnet\n",
            "  Attempting uninstall: graphviz\n",
            "    Found existing installation: graphviz 0.10.1\n",
            "    Uninstalling graphviz-0.10.1:\n",
            "      Successfully uninstalled graphviz-0.10.1\n",
            "Successfully installed graphviz-0.8.4 mxnet-1.9.1\n",
            "Looking in indexes: https://pypi.org/simple, https://us-python.pkg.dev/colab-wheels/public/simple/\n",
            "Collecting anvil-uplink\n",
            "  Downloading anvil_uplink-0.4.2-py2.py3-none-any.whl (90 kB)\n",
            "\u001b[2K     \u001b[90m━━━━━━━━━━━━━━━━━━━━━━━━━━━━━━━━━━━━━━━━\u001b[0m \u001b[32m90.1/90.1 KB\u001b[0m \u001b[31m7.4 MB/s\u001b[0m eta \u001b[36m0:00:00\u001b[0m\n",
            "\u001b[?25hCollecting ws4py\n",
            "  Downloading ws4py-0.5.1.tar.gz (51 kB)\n",
            "\u001b[2K     \u001b[90m━━━━━━━━━━━━━━━━━━━━━━━━━━━━━━━━━━━━━━━━\u001b[0m \u001b[32m51.4/51.4 KB\u001b[0m \u001b[31m6.3 MB/s\u001b[0m eta \u001b[36m0:00:00\u001b[0m\n",
            "\u001b[?25h  Preparing metadata (setup.py) ... \u001b[?25l\u001b[?25hdone\n",
            "Requirement already satisfied: future in /usr/local/lib/python3.8/dist-packages (from anvil-uplink) (0.16.0)\n",
            "Requirement already satisfied: six in /usr/local/lib/python3.8/dist-packages (from anvil-uplink) (1.15.0)\n",
            "Collecting argparse\n",
            "  Downloading argparse-1.4.0-py2.py3-none-any.whl (23 kB)\n",
            "Building wheels for collected packages: ws4py\n",
            "  Building wheel for ws4py (setup.py) ... \u001b[?25l\u001b[?25hdone\n",
            "  Created wheel for ws4py: filename=ws4py-0.5.1-py3-none-any.whl size=45229 sha256=ee9bfa05585c9a6ceb81d761fd84904d65126a1f93d899edb3a2af9abe0621ec\n",
            "  Stored in directory: /root/.cache/pip/wheels/ea/f9/a1/34e2943cce3cf7daca304bfc35e91280694ced9194a487ce2f\n",
            "Successfully built ws4py\n",
            "Installing collected packages: ws4py, argparse, anvil-uplink\n",
            "Successfully installed anvil-uplink-0.4.2 argparse-1.4.0 ws4py-0.5.1\n"
          ]
        },
        {
          "output_type": "display_data",
          "data": {
            "application/vnd.colab-display-data+json": {
              "pip_warning": {
                "packages": [
                  "argparse",
                  "google"
                ]
              }
            }
          },
          "metadata": {}
        }
      ],
      "source": [
        "!pip install --upgrade network\n",
        "\n",
        "!pip install --upgrade mxnet\n",
        "!pip install anvil-uplink"
      ]
    },
    {
      "cell_type": "code",
      "execution_count": null,
      "metadata": {
        "colab": {
          "base_uri": "https://localhost:8080/"
        },
        "id": "IDaQ1-6wm_SW",
        "outputId": "b9d29008-032b-4381-cd13-d9a584591e79"
      },
      "outputs": [
        {
          "output_type": "stream",
          "name": "stdout",
          "text": [
            "Looking in indexes: https://pypi.org/simple, https://us-python.pkg.dev/colab-wheels/public/simple/\n",
            "Collecting mxnet-cu112\n",
            "  Downloading mxnet_cu112-1.9.1-py3-none-manylinux2014_x86_64.whl (499.4 MB)\n",
            "\u001b[2K     \u001b[90m━━━━━━━━━━━━━━━━━━━━━━━━━━━━━━━━━━━━━━━\u001b[0m \u001b[32m499.4/499.4 MB\u001b[0m \u001b[31m3.2 MB/s\u001b[0m eta \u001b[36m0:00:00\u001b[0m\n",
            "\u001b[?25hRequirement already satisfied: requests<3,>=2.20.0 in /usr/local/lib/python3.8/dist-packages (from mxnet-cu112) (2.25.1)\n",
            "Requirement already satisfied: numpy<2.0.0,>1.16.0 in /usr/local/lib/python3.8/dist-packages (from mxnet-cu112) (1.22.4)\n",
            "Requirement already satisfied: graphviz<0.9.0,>=0.8.1 in /usr/local/lib/python3.8/dist-packages (from mxnet-cu112) (0.8.4)\n",
            "Requirement already satisfied: certifi>=2017.4.17 in /usr/local/lib/python3.8/dist-packages (from requests<3,>=2.20.0->mxnet-cu112) (2022.12.7)\n",
            "Requirement already satisfied: urllib3<1.27,>=1.21.1 in /usr/local/lib/python3.8/dist-packages (from requests<3,>=2.20.0->mxnet-cu112) (1.26.14)\n",
            "Requirement already satisfied: chardet<5,>=3.0.2 in /usr/local/lib/python3.8/dist-packages (from requests<3,>=2.20.0->mxnet-cu112) (4.0.0)\n",
            "Requirement already satisfied: idna<3,>=2.5 in /usr/local/lib/python3.8/dist-packages (from requests<3,>=2.20.0->mxnet-cu112) (2.10)\n",
            "Installing collected packages: mxnet-cu112\n",
            "Successfully installed mxnet-cu112-1.9.1\n"
          ]
        }
      ],
      "source": [
        "\n",
        "!pip install mxnet-cu112"
      ]
    },
    {
      "cell_type": "code",
      "execution_count": null,
      "metadata": {
        "id": "Z_aj4E2VlSFS"
      },
      "outputs": [],
      "source": [
        "import networkx as nx\n",
        "import matplotlib.pyplot as plt\n",
        "import random\n",
        "import numpy as np\n",
        "import mxnet as mx\n",
        "import logging\n",
        "from sklearn.metrics import accuracy_score\n",
        "import anvil.server\n"
      ]
    },
    {
      "cell_type": "code",
      "source": [
        "from google.colab import drive\n",
        "drive.mount('/content/drive')"
      ],
      "metadata": {
        "colab": {
          "base_uri": "https://localhost:8080/"
        },
        "id": "Q59aTwjTl7OA",
        "outputId": "fde313ab-c434-4bb1-831b-c54aa7a2e32c"
      },
      "execution_count": null,
      "outputs": [
        {
          "output_type": "stream",
          "name": "stdout",
          "text": [
            "Drive already mounted at /content/drive; to attempt to forcibly remount, call drive.mount(\"/content/drive\", force_remount=True).\n"
          ]
        }
      ]
    },
    {
      "cell_type": "code",
      "execution_count": null,
      "metadata": {
        "id": "0p3pZkfVlUyP",
        "colab": {
          "base_uri": "https://localhost:8080/"
        },
        "outputId": "ca7ba16f-031d-43a4-dd22-1ab957fa67bd"
      },
      "outputs": [
        {
          "output_type": "stream",
          "name": "stdout",
          "text": [
            "Connecting to wss://anvil.works/uplink\n",
            "Anvil websocket open\n",
            "Connected to \"Default Environment\" as SERVER\n"
          ]
        }
      ],
      "source": [
        "anvil.server.connect(\"server_ZUGYWX2VJYEPYJREVTQRYCM2-OUXEHI6Q2GOKV3KW\")\n",
        "NUM_NODE = 50\n",
        "WEIGHT_MIN = .5\n",
        "WEIGHT_MAX = 1.\n",
        "const_list=[]\n",
        "for i in range(15):\n",
        "  flag=True\n",
        "  while flag:\n",
        "    index = random.randint(0, 49)\n",
        "    if index not in const_list:\n",
        "      const_list.append(index)\n",
        "      flag=False\n"
      ]
    },
    {
      "cell_type": "code",
      "execution_count": null,
      "metadata": {
        "id": "MidrAlv9wycF"
      },
      "outputs": [],
      "source": [
        "\n",
        "def calc_euclidean_dist(G, tmp_node, node):\n",
        "    \n",
        "    p_1 = np.array([G.nodes[tmp_node]['x'], G.nodes[tmp_node]['y']])\n",
        "    p_2 = np.array([G.nodes[node]['x'], G.nodes[node]['y']])\n",
        "    return np.sqrt(np.sum((p_1 - p_2)**2))\n",
        "\n",
        "def generate_low_degree_g(num_nodes=50,\\\n",
        "                          min_out_degree=2,\\\n",
        "                          max_out_degree=4,\\\n",
        "                          weight_min=WEIGHT_MIN,\\\n",
        "                          weight_max=WEIGHT_MAX,\\\n",
        "                          grid_size=20000):\n",
        "    \n",
        "    G = nx.Graph()\n",
        "    \n",
        "    num_of_passengers=0\n",
        "    #dx=1/grid_size=1/20,000=0.00005\n",
        "    euclidean_coords = np.linspace(0.0, 1.0, num=grid_size, endpoint=False)#[0.00000,0.00005,...,0.99995]\n",
        "    coords_indices = list(range(grid_size))\n",
        "    \n",
        "    random.shuffle(coords_indices)#permutated list of numbers from 0 to 20,000\n",
        "    x_coords = euclidean_coords[coords_indices][:num_nodes]#permutated subset of euclidean_coords\n",
        "    random.shuffle(coords_indices)\n",
        "    y_coords = euclidean_coords[coords_indices][:num_nodes]#permutated subset of euclidean_coords\n",
        "#     print(y_coords)\n",
        "    \n",
        "    # Add coordinates to nodes\n",
        "    #(make nodes: set coordinites and define number of passengers from node to node)\n",
        "    for node, coord in enumerate(zip(x_coords, y_coords)):\n",
        "#         print(node, coord[0], coord[1])\n",
        "        \n",
        "        amount=random.randrange(0,20,5)#number of passengers from the node\n",
        "                                         \n",
        "        num_of_passengers+=amount\n",
        "        #nodes of distinations\n",
        "        pdist=[0]*amount\n",
        "        for i in range(amount):\n",
        "          while True:\n",
        "            pdist[i]=random.randint(0,len(x_coords))\n",
        "            if pdist[i]!=coord[0]:\n",
        "                break\n",
        "              \n",
        "        G.add_node(node, x=coord[0], y=coord[1],passengers=amount,dists=pdist)\n",
        "    \n",
        "\n",
        "    for node in G.nodes:\n",
        "        \n",
        "        tmp_nodes = list(G.nodes)\n",
        "        tmp_nodes.remove(node)\n",
        "        node_dist = map(lambda tmp_node: (tmp_node, calc_euclidean_dist(G, tmp_node, node)), tmp_nodes)\n",
        "        node_dist = sorted(node_dist, key=lambda d:d[1])#list of other nodes odered by distance from this node\n",
        "        \n",
        "        num_of_neighbors = random.randint(min_out_degree, max_out_degree)\n",
        "\n",
        "        \n",
        "        for tmp_node in node_dist:\n",
        "\n",
        "            if G.degree(tmp_node[0]) >= max_out_degree \\\n",
        "                or G.degree(node) >= num_of_neighbors:\n",
        "                continue\n",
        "            passengers=G.nodes[tmp_node[0]]['passengers']+G.nodes[node]['passengers']\n",
        "            if tmp_node in const_list:\n",
        "              weight= 0.3\n",
        "            else:\n",
        "              if passengers>=0 and passengers <=10:\n",
        "                weight=0.9\n",
        "              elif  passengers >10 and passengers <=20:\n",
        "                weight =0.7\n",
        "              elif passengers >20 and passengers <=30 :\n",
        "                weight=0.5\n",
        "              else:\n",
        "                weight =1\n",
        "\n",
        "            geo_dist = calc_euclidean_dist(G, tmp_node[0], node)\n",
        "            \n",
        "            G.add_edge(node, tmp_node[0], weight=weight * geo_dist)\n",
        "    \n",
        "    # Add centrality to edges\n",
        "    edge_centrality = nx.edge_betweenness_centrality(G, \\\n",
        "                                                     k=G.number_of_nodes(), \\\n",
        "                                                     weight='weight')\n",
        "    assert len(edge_centrality) == G.number_of_edges()\n",
        "    \n",
        "    for edge_data in G.edges.data():\n",
        "        edge_data[2]['centrality'] = edge_centrality[(edge_data[0], edge_data[1])]\n",
        "    print(num_of_passengers)\n",
        "    return G"
      ]
    },
    {
      "cell_type": "code",
      "execution_count": null,
      "metadata": {
        "colab": {
          "base_uri": "https://localhost:8080/",
          "height": 448
        },
        "id": "byBiPwu0qCJb",
        "outputId": "3c650b84-289a-44bf-cecc-16d0d53af524"
      },
      "outputs": [
        {
          "output_type": "stream",
          "name": "stdout",
          "text": [
            "365\n",
            "325\n",
            "4\n",
            "2\n",
            "50\n",
            "86\n",
            "the nodes are : [0, 1, 2, 3, 4, 5, 6, 7, 8, 9, 10, 11, 12, 13, 14, 15, 16, 17, 18, 19, 20, 21, 22, 23, 24, 25, 26, 27, 28, 29, 30, 31, 32, 33, 34, 35, 36, 37, 38, 39, 40, 41, 42, 43, 44, 45, 46, 47, 48, 49]\n"
          ]
        },
        {
          "output_type": "display_data",
          "data": {
            "text/plain": [
              "<Figure size 432x288 with 1 Axes>"
            ],
            "image/png": "[encoded data removed]"
          },
          "metadata": {}
        }
      ],
      "source": [
        "\n",
        "\n",
        "G = generate_low_degree_g()\n",
        "while nx.is_connected(G)==False:\n",
        "  G = generate_low_degree_g()\n",
        "max_degree = max(G.degree, key=lambda d: d[1])[1]\n",
        "min_degree = min(G.degree, key=lambda d: d[1])[1]\n",
        "print(max_degree)\n",
        "print(min_degree)\n",
        "print(G.number_of_nodes())\n",
        "print(G.number_of_edges())\n",
        "print(f\"the nodes are : {G.nodes}\")\n",
        "pos = {}\n",
        "x=G.number_of_nodes\n",
        "for t in G.nodes:\n",
        "        pos[t] = (G.nodes[t]['x'], G.nodes[t]['y'])\n",
        "\n",
        "nx.draw(G, pos=pos, node_size=200, font_size=8, with_labels=True)\n",
        "plt.show()"
      ]
    },
    {
      "cell_type": "code",
      "execution_count": null,
      "metadata": {
        "id": "MAScK3zmqCCw"
      },
      "outputs": [],
      "source": [
        "from networkx import NetworkXNoPath\n",
        "\n",
        "def calc_cosine_dist(p1, p2):\n",
        "    return np.dot(p1, p2) / (np.linalg.norm(p1) * np.linalg.norm(p2))\n",
        "\n",
        "def find_central_edge_greedy(G, start, depth=3):\n",
        "    \n",
        "    cur_node = start\n",
        "    path = [cur_node]\n",
        "    \n",
        "    centrality_sum = 0.0\n",
        "    \n",
        "    for d in range(depth + 1):\n",
        "        \n",
        "        edge_tuples = map(lambda e:(e[0], e[1], G.get_edge_data(e[0], e[1])['centrality']),\\\n",
        "                  G.edges(cur_node))\n",
        "        \n",
        "        chosen_edge = max(edge_tuples, key=lambda t:t[2])\n",
        "        \n",
        "        assert cur_node == chosen_edge[0]\n",
        "        cur_node = chosen_edge[1]\n",
        "        \n",
        "        # No point of getting trapped\n",
        "        # in a dead loop;\n",
        "        # just break out\n",
        "        if cur_node in path:\n",
        "            break\n",
        "        \n",
        "        centrality_sum += chosen_edge[2]\n",
        "        path.append(cur_node)\n",
        "    \n",
        "    return centrality_sum\n",
        "\n",
        "def encode_edges(G, parent, node, src, dst):\n",
        "    \n",
        "    ret = np.zeros((max_degree, 7))\n",
        "    ret[:, -1] = -1\n",
        "    \n",
        "    x_dst = G.nodes[dst]['x']\n",
        "    y_dst = G.nodes[dst]['y']\n",
        "    x_src = G.nodes[src]['x']\n",
        "    y_src = G.nodes[src]['y']\n",
        "    \n",
        "    for idx, edge in enumerate(G.edges(node)):\n",
        "        u = edge[0]\n",
        "        v = edge[1]\n",
        "        \n",
        "        # Only look forward\n",
        "        # allow look backwards(shouldn't be included)\n",
        "        if v == parent:\n",
        "            continue\n",
        "        \n",
        "        ret[idx][0] = G.get_edge_data(u, v)['centrality']\n",
        "        ret[idx][1] = G.get_edge_data(u, v)['weight']\n",
        "        \n",
        "        x_u = G.nodes[u]['x']\n",
        "        y_u = G.nodes[u]['y']\n",
        "        x_v = G.nodes[v]['x']\n",
        "        y_v = G.nodes[v]['y']\n",
        "\n",
        "        ret[idx][2] = calc_cosine_dist((x_v-x_u, y_v-y_u), (x_dst-x_u, y_dst-y_u))\n",
        "        ret[idx][3] = calc_euclidean_dist(G, v, dst)\n",
        "        ret[idx][4] = x_v\n",
        "        ret[idx][5] = y_v\n",
        "        ret[idx][-1] = v\n",
        "        \n",
        "    return (ret, x_src, y_src, x_dst, y_dst)\n",
        "\n",
        "def generate_stochastic_dataset(G, num_train_node_pairs=400,\\\n",
        "                                    num_test_node_pairs=100, verbose_frequence=100):\n",
        "    \n",
        "    train_features = []\n",
        "    train_labels = []\n",
        "    test_features = []\n",
        "    test_labels = []\n",
        "    \n",
        "    pair_path_dict = dict()\n",
        "    \n",
        "    train_selected_pairs = []\n",
        "    test_selected_pairs = []\n",
        "    num_of_nodes = G.number_of_nodes()\n",
        "    \n",
        "    train_mode = True\n",
        "    \n",
        "    while True:\n",
        "        src = np.random.randint(0, num_of_nodes)\n",
        "        dst = np.random.randint(0, num_of_nodes)\n",
        "        \n",
        "        if src == dst:\n",
        "            continue\n",
        "        \n",
        "        if (src, dst) in pair_path_dict:\n",
        "            continue\n",
        "        \n",
        "        try:\n",
        "            shortest_path = nx.dijkstra_path(G, src, dst)\n",
        "                \n",
        "        except NetworkXNoPath:\n",
        "            continue\n",
        "    \n",
        "        for path in [shortest_path, shortest_path[::-1]]:\n",
        "            \n",
        "            src = path[0]\n",
        "            dst = path[-1]\n",
        "            \n",
        "            pair_path_dict[(src, dst)] = path\n",
        "            \n",
        "            if train_mode and len(train_selected_pairs) < num_train_node_pairs:\n",
        "                train_selected_pairs.append((src, dst))\n",
        "            else:\n",
        "                train_mode = False\n",
        "                if len(test_selected_pairs) < num_test_node_pairs:\n",
        "                    test_selected_pairs.append((src, dst))\n",
        "                    \n",
        "            parent_node = -1\n",
        "            cur_node = src\n",
        "            for mid_node in path[1:]:\n",
        "\n",
        "                if train_mode:\n",
        "                    train_features.append(encode_edges(G, parent_node, cur_node, src, dst))\n",
        "                    train_labels.append(mid_node)\n",
        "                else:\n",
        "                    test_features.append(encode_edges(G, parent_node, cur_node, src, dst))\n",
        "                    test_labels.append(mid_node)\n",
        "                \n",
        "                parent_node = cur_node\n",
        "                cur_node = mid_node\n",
        "                \n",
        "        if len(train_selected_pairs) >= num_train_node_pairs \\\n",
        "            and len(test_selected_pairs) >= num_test_node_pairs:\n",
        "            break\n",
        "        \n",
        "    return train_features, train_labels, test_features, test_labels, train_selected_pairs, test_selected_pairs, pair_path_dict"
      ]
    },
    {
      "cell_type": "code",
      "execution_count": null,
      "metadata": {
        "id": "X9wYLz4HqB3g"
      },
      "outputs": [],
      "source": [
        "def find_label_idx(feature, label):\n",
        "    \n",
        "    for idx, row in enumerate(feature):\n",
        "        if label == row[-1]:\n",
        "            break\n",
        "    \n",
        "    return idx\n",
        "\n",
        "def augment_dataset(X, y, augmentation=False, augmentation_index=20, print_freq=300000):\n",
        "    \n",
        "    sample_size = len(y)\n",
        "    augmented_sample_size = augmentation_index * sample_size\n",
        "    feature_size = 28\n",
        "    \n",
        "    X_aug, y_aug = np.zeros((augmented_sample_size, feature_size)), np.zeros((augmented_sample_size), dtype=np.int)\n",
        "    indices = np.arange(max_degree)\n",
        "    \n",
        "    cnt = 0\n",
        "    for feature, label in zip(X, y):\n",
        "        for _ in range(augmentation_index):\n",
        "            \n",
        "            if augmentation:\n",
        "                np.random.shuffle(indices)\n",
        "            \n",
        "            feature_tmp = feature[0][indices]\n",
        "            label_tmp = find_label_idx(feature_tmp, label)\n",
        "            \n",
        "            X_aug[cnt] = np.append(feature_tmp[:, :-1].reshape(-1), [feature[1], feature[2], feature[3], feature[4]])\n",
        "            y_aug[cnt] = label_tmp\n",
        "            \n",
        "            cnt += 1\n",
        "            \n",
        "    return X_aug, y_aug"
      ]
    },
    {
      "cell_type": "code",
      "execution_count": null,
      "metadata": {
        "id": "fdleiIA8qKY6"
      },
      "outputs": [],
      "source": [
        "def generate_samples_from_graph(num_node_pairs, graph_size=50, augmentation=False, augmentation_index=1, label='Train'):\n",
        "    \n",
        "    G = generate_low_degree_g(num_nodes=graph_size)\n",
        "    while nx.is_connected(G) == False:\n",
        "      G = generate_low_degree_g()\n",
        "    \n",
        "    features, labels, _, _, selected_pairs, _, pair_path_dict =\\\n",
        "            generate_stochastic_dataset(G, num_train_node_pairs=num_node_pairs, num_test_node_pairs=0)\n",
        "        \n",
        "    X, y = augment_dataset(features, labels,\\\n",
        "                           augmentation=augmentation,\n",
        "                           augmentation_index=augmentation_index, \\\n",
        "                           print_freq=600)\n",
        "    \n",
        "    assert len(features) == len(labels)\n",
        "    assert len(X) == len(y)\n",
        "    \n",
        "    print(label)\n",
        "    print(\"%d pairs are selected for training\" % (len(selected_pairs)))\n",
        "    print(\"len of pair_path_dict: %d\" % (len(pair_path_dict)))\n",
        "    print(\"Num of training sample: %d\" % len(y))\n",
        "    print(label)\n",
        "    print('\\n')\n",
        "    \n",
        "    return X, y, G, pair_path_dict"
      ]
    },
    {
      "cell_type": "code",
      "execution_count": null,
      "metadata": {
        "colab": {
          "base_uri": "https://localhost:8080/"
        },
        "id": "MvgyKGt8qK4x",
        "outputId": "f1094ff9-8c49-46e5-bb88-62010f172159"
      },
      "outputs": [
        {
          "output_type": "stream",
          "name": "stdout",
          "text": [
            "400\n"
          ]
        },
        {
          "output_type": "stream",
          "name": "stderr",
          "text": [
            "<ipython-input-10-13c686ec9d1f>:15: DeprecationWarning: `np.int` is a deprecated alias for the builtin `int`. To silence this warning, use `int` by itself. Doing this will not modify any behavior and is safe. When replacing `np.int`, you may wish to use e.g. `np.int64` or `np.int32` to specify the precision. If you wish to review your current use, check the release note link for additional information.\n",
            "Deprecated in NumPy 1.20; for more details and guidance: https://numpy.org/devdocs/release/1.20.0-notes.html#deprecations\n",
            "  X_aug, y_aug = np.zeros((augmented_sample_size, feature_size)), np.zeros((augmented_sample_size), dtype=np.int)\n"
          ]
        },
        {
          "output_type": "stream",
          "name": "stdout",
          "text": [
            "Train\n",
            "1000 pairs are selected for training\n",
            "len of pair_path_dict: 1000\n",
            "Num of training sample: 100120\n",
            "Train\n",
            "\n",
            "\n",
            "435\n",
            "405\n",
            "440\n",
            "450\n",
            "Validation\n",
            "100 pairs are selected for training\n",
            "len of pair_path_dict: 100\n",
            "Num of training sample: 530\n",
            "Validation\n",
            "\n",
            "\n"
          ]
        }
      ],
      "source": [
        "X_train, y_train, G_train, _ = generate_samples_from_graph(num_node_pairs=1000, augmentation=True, augmentation_index=10, label='Train')\n",
        "X_val, y_val, G_val, _ = generate_samples_from_graph(num_node_pairs=100, augmentation=False, label='Validation')"
      ]
    },
    {
      "cell_type": "code",
      "execution_count": null,
      "metadata": {
        "id": "w9S5vWRCqKwI"
      },
      "outputs": [],
      "source": [
        "batch_size = 128\n",
        "\n",
        "train_iter = mx.io.NDArrayIter(X_train, y_train, batch_size, shuffle=True)\n",
        "val_iter = mx.io.NDArrayIter(X_val, y_val, batch_size=batch_size)"
      ]
    },
    {
      "cell_type": "code",
      "execution_count": null,
      "metadata": {
        "id": "eSfg3G6AqSHT"
      },
      "outputs": [],
      "source": [
        "def build_model(context=mx.gpu()):\n",
        "    \n",
        "    data = mx.sym.var('data')\n",
        "    label = mx.sym.var('softmax_label')\n",
        "    \n",
        "    fc1  = mx.sym.FullyConnected(data=data, num_hidden=2048)\n",
        "    fc1 = mx.sym.Activation(data=fc1, act_type=\"relu\")\n",
        "    fc1 = mx.sym.Dropout(data=fc1)\n",
        "    \n",
        "    fc2  = mx.sym.FullyConnected(data=fc1, num_hidden=1024)\n",
        "    fc2 = mx.sym.Activation(data=fc2, act_type=\"relu\")\n",
        "    fc2 = mx.sym.Dropout(data=fc2)\n",
        "    \n",
        "    fc3  = mx.sym.FullyConnected(data=fc2, num_hidden=max_degree)\n",
        "    mlp  = mx.sym.SoftmaxOutput(data=fc3, label=label)\n",
        "    \n",
        "    return mx.mod.Module(symbol=mlp, context=context)"
      ]
    },
    {
      "cell_type": "code",
      "execution_count": null,
      "metadata": {
        "id": "ufy6un0yqR-S"
      },
      "outputs": [],
      "source": [
        "logging.getLogger().setLevel(logging.DEBUG)  # logging to stdout\n",
        "model = build_model()\n",
        "model.bind(data_shapes=train_iter.provide_data, label_shapes=train_iter.provide_label)\n",
        "model.init_params()"
      ]
    },
    {
      "cell_type": "code",
      "execution_count": null,
      "metadata": {
        "colab": {
          "base_uri": "https://localhost:8080/"
        },
        "id": "QZLjGbP6qY1Z",
        "outputId": "4bbdca4a-8c37-43e4-94cf-ad5d4bd25d1a"
      },
      "outputs": [
        {
          "output_type": "stream",
          "name": "stdout",
          "text": [
            "405\n",
            "Test\n",
            "200 pairs are selected for training\n",
            "len of pair_path_dict: 200\n",
            "Num of training sample: 1404\n",
            "Test\n",
            "\n",
            "\n",
            "Accuracy on test set: 0.192308\n"
          ]
        },
        {
          "output_type": "stream",
          "name": "stderr",
          "text": [
            "<ipython-input-10-13c686ec9d1f>:15: DeprecationWarning: `np.int` is a deprecated alias for the builtin `int`. To silence this warning, use `int` by itself. Doing this will not modify any behavior and is safe. When replacing `np.int`, you may wish to use e.g. `np.int64` or `np.int32` to specify the precision. If you wish to review your current use, check the release note link for additional information.\n",
            "Deprecated in NumPy 1.20; for more details and guidance: https://numpy.org/devdocs/release/1.20.0-notes.html#deprecations\n",
            "  X_aug, y_aug = np.zeros((augmented_sample_size, feature_size)), np.zeros((augmented_sample_size), dtype=np.int)\n"
          ]
        }
      ],
      "source": [
        "X_test, y_test, G_test, _ = generate_samples_from_graph(num_node_pairs=200, graph_size=50, augmentation=False, augmentation_index=1, label='Test')\n",
        "pred_test = np.argmax(model.predict(mx.io.NDArrayIter(X_test, y_test, batch_size=128)).asnumpy(), axis=1)\n",
        "acc = accuracy_score(y_test, pred_test)\n",
        "print(\"Accuracy on test set: %f\" % (acc))"
      ]
    },
    {
      "cell_type": "code",
      "execution_count": null,
      "metadata": {
        "id": "F0jka5oiqkh3"
      },
      "outputs": [],
      "source": [
        "def nn_infer_next_node(G, path, parent, cur_node, src, dst, model, real_time_weight=False):\n",
        "\n",
        "    input_vec, x_src, y_src, x_dst, y_dst = encode_edges(G, parent, cur_node, src, dst)\n",
        "    \n",
        "    assert max_degree == 4\n",
        "    real_time_weight_change_factors = np.array([random.expovariate(lambd=1.0)\\\n",
        "                                                for _ in range(max_degree)])\\\n",
        "                                if real_time_weight else np.ones(max_degree)\n",
        "    \n",
        "    input_vec[:, 1] = np.multiply(input_vec[:, 1], real_time_weight_change_factors)\n",
        "    \n",
        "    real_input_vec = np.append(input_vec[:, :-1].reshape(-1), [x_src, y_src, x_dst, y_dst])\n",
        "    pred = model.predict(mx.io.NDArrayIter(np.array([real_input_vec]), np.array([0]))).asnumpy()[0]\n",
        "    pred_idx = np.argmax(pred)\n",
        "    neighbor = int(input_vec[pred_idx][-1])\n",
        "    \n",
        "    if neighbor == -1:\n",
        "        avaliable_neighbors = filter(lambda d: d >= 0, input_vec[:, -1])\n",
        "        l=list(avaliable_neighbors)\n",
        "        neighbor = int(l[np.random.randint(0, len(l))])\n",
        "            \n",
        "    return (neighbor, G.get_edge_data(cur_node, neighbor)['weight'])\n",
        "\n",
        "def dijkstra_path_finder(G, src, dst, p=0.0, model=None,\\\n",
        "                         invalid_path_threshold=G.number_of_nodes(),\n",
        "                         real_time_weight=False):\n",
        "    \n",
        "    path = [src]\n",
        "    parent_node = -1\n",
        "    cur_node = src\n",
        "    total_weights = .0\n",
        "    \n",
        "    while True:\n",
        "        \n",
        "        if len(path) >= invalid_path_threshold:\n",
        "            return path, total_weights, False\n",
        "        \n",
        "        neigbors = list(G.neighbors(cur_node))\n",
        "        num_neighbors = len(neigbors)\n",
        "        \n",
        "        pred_next_node, _ = nn_infer_next_node(G, path, parent_node,\\\n",
        "                                               cur_node, src, dst, model,\\\n",
        "                                               real_time_weight=real_time_weight)\n",
        "        pred_next_idx = neigbors.index(pred_next_node)\n",
        "        \n",
        "        sample_probabilities = [p/(num_neighbors-1)\\\n",
        "                                for _ in range(num_neighbors)]\n",
        "        sample_probabilities[pred_next_idx] = 1-p\n",
        "        assert sum(sample_probabilities) <= 1.0\n",
        "        \n",
        "        next_node = np.random.choice(neigbors, 1, p=sample_probabilities)[0]\n",
        "        total_weights += G.get_edge_data(cur_node, next_node)['weight']\n",
        "        path.append(next_node)\n",
        "        \n",
        "        if next_node == dst:\n",
        "            return path, total_weights, True\n",
        "        \n",
        "        parent_node = cur_node\n",
        "        cur_node = next_node"
      ]
    },
    {
      "cell_type": "code",
      "execution_count": null,
      "metadata": {
        "id": "WX2GXOzFqkaA"
      },
      "outputs": [],
      "source": [
        "def calc_path_weight_sum(G, path):\n",
        "    \n",
        "    weight_sum = 0.0\n",
        "    \n",
        "    for idx, node in enumerate(path[:-1]):\n",
        "        weight_sum += G.edges[(node, path[idx + 1])]['weight']\n",
        "        \n",
        "    return weight_sum"
      ]
    },
    {
      "cell_type": "code",
      "execution_count": null,
      "metadata": {
        "id": "YMzSQm18qp1e"
      },
      "outputs": [],
      "source": [
        "def calc_statistics(G, pair_path_dict, num_to_test=100, verbose=True):\n",
        "    found_cnt = 0\n",
        "    opt_path_cnt = 0\n",
        "    edge_efficiency = {}\n",
        "    time_efficiency = {}\n",
        "    z=0\n",
        "    keys =  list(pair_path_dict.keys())\n",
        "\n",
        "    \n",
        "    for key in keys:\n",
        "        nn_path, _, found = dijkstra_path_finder(G, key[0], key[1], model=model, invalid_path_threshold=G.number_of_nodes())\n",
        "        \n",
        "        dijkstra_path = pair_path_dict[(key[0],key[1])]\n",
        "        \n",
        "        if not found:\n",
        "            \n",
        "            continue\n",
        "\n",
        "        found_cnt += 1\n",
        "        for i in range(len(nn_path)-1):\n",
        "          index=-1\n",
        "          index1=i\n",
        "          for j in range(i+1,len(nn_path)-1):\n",
        "            \n",
        "            if nn_path[i]==nn_path[j]:\n",
        "              index=j\n",
        "          if index !=-1:\n",
        "           print(index,\" \",index1,\" \",len(nn_path))    \n",
        "           del nn_path[index1:index]\n",
        "           \n",
        "\n",
        "        edge_efficiency[(key[0], key[1])] = float(len(dijkstra_path)-1) / (len(nn_path)-1)\n",
        "        time_efficiency[(key[0], key[1])] = calc_path_weight_sum(G, dijkstra_path) \\\n",
        "                                        / calc_path_weight_sum(G, nn_path)\n",
        "        \n",
        "        if nn_path == dijkstra_path:\n",
        "            opt_path_cnt = opt_path_cnt + 1\n",
        "        plot_dijkstra_nn_comparison(G, dijkstra_path, nn_path,z)\n",
        "        z+=1\n",
        "        '''else:\n",
        "            if verbose:\n",
        "                print(\"The model is able to find a different path between %d and %d\" % (key[0], key[1]))\n",
        "                plot_dijkstra_nn_comparison(G, dijkstra_path, nn_path,i)\n",
        "                print(\"Dijkstra path :\", dijkstra_path)\n",
        "                print(\"NN path :\", nn_path)\n",
        "                print('')'''\n",
        "\n",
        "\n",
        "\n",
        "    return found_cnt, opt_path_cnt, edge_efficiency, time_efficiency"
      ]
    },
    {
      "cell_type": "code",
      "execution_count": null,
      "metadata": {
        "id": "pqi-eOBNqptg"
      },
      "outputs": [],
      "source": [
        "def print_paths_statistics(G, pair_path_dict, num_to_test=100, verbose=True):\n",
        "\n",
        "    num_total_path = num_to_test\n",
        "\n",
        "    found_cnt, opt_path_cnt, edge_efficiency, time_efficiency = calc_statistics(G,\\\n",
        "                                                                pair_path_dict=pair_path_dict,\\\n",
        "                                                                num_to_test=num_to_test,\n",
        "                                                                verbose=verbose)\n",
        "    arrival_rate=float(found_cnt)/num_total_path\n",
        "    print('%d out of %d can find path: %f' % (found_cnt, num_total_path, arrival_rate))\n",
        "    print('%d out of %d can find optimal path: %f' % (opt_path_cnt, found_cnt, float(opt_path_cnt)/found_cnt))\n",
        "    print('%d out of %d all paths can find optimal paths: %f' % (opt_path_cnt, num_total_path, float(opt_path_cnt)/num_total_path))\n",
        "    \n",
        "    edge_efficiency_values = list(edge_efficiency.values())##########################added list\n",
        "    stat_mean = np.mean(edge_efficiency_values)\n",
        "    stat_std = np.std(edge_efficiency_values)\n",
        "    \n",
        "    label = u'%d pairs, μ=%f, σ=%f' % \\\n",
        "            (len(edge_efficiency), stat_mean, stat_std)\n",
        "    print(label)\n",
        "    edge_eff=stat_mean\n",
        "    time_efficiency_values = list(time_efficiency.values())\n",
        "    stat_mean = np.mean(time_efficiency_values)\n",
        "    stat_std = np.std(time_efficiency_values)\n",
        "    \n",
        "    label = u'%d pairs, μ=%f, σ=%f' % \\\n",
        "            (len(time_efficiency), stat_mean, stat_std)\n",
        "    time_eff=stat_mean\n",
        "    print(label)\n",
        "    overall_eff=(0.5 * arrival_rate) + (0.3* time_eff) + (0.2*edge_eff)\n",
        "    print(\"Overall efficiency= \",overall_eff)"
      ]
    },
    {
      "cell_type": "code",
      "execution_count": null,
      "metadata": {
        "id": "8Q4GLAjsqxQx"
      },
      "outputs": [],
      "source": [
        "def plot_dijkstra_nn_comparison(G, dijkstra_node_list, nn_node_list,i):\n",
        "\n",
        "    pos = {}\n",
        "\n",
        "    for node in dijkstra_node_list:\n",
        "        pos[node] = (G.nodes[node]['x'], G.nodes[node]['y'])\n",
        "\n",
        "    dijkstra_edge_list = []\n",
        "    for idx, node in enumerate(dijkstra_node_list[:-1]):\n",
        "        dijkstra_edge_list.append((node, dijkstra_node_list[idx+1]))\n",
        "\n",
        "    nx.draw_networkx_edges(G, pos=pos, edgelist=dijkstra_edge_list, node_size=20, edge_color='r')\n",
        "    nn_pos = {}\n",
        "\n",
        "    for node in nn_node_list:\n",
        "        nn_pos[node] = (G.nodes[node]['x'], G.nodes[node]['y'])\n",
        "\n",
        "    nn_edge_list = []\n",
        "    for idx, node in enumerate(nn_node_list[:-1]):\n",
        "        nn_edge_list.append((node, nn_node_list[idx+1]))\n",
        "\n",
        "    nx.draw_networkx_edges(G, pos=nn_pos, edgelist=set(nn_edge_list), node_size=100, edge_color='b')\n",
        "    \n",
        "    nx.draw_networkx_nodes(G, pos=pos,\\\n",
        "                           nodelist=[dijkstra_node_list[0], dijkstra_node_list[-1]],\\\n",
        "                           node_size=10,\\\n",
        "                           node_color=['r', 'g'])\n",
        "    filename=\"/content/drive/MyDrive/project3/route\"+str(i)+\".png\"\n",
        "    plt.legend(loc='best')\n",
        "    plt.savefig(filename)\n",
        "    plt.show()"
      ]
    },
    {
      "cell_type": "code",
      "source": [
        "batch_size=128\n",
        "\n",
        "X_train, y_train, G_train, _ = generate_samples_from_graph(num_node_pairs=1000, augmentation=True, augmentation_index=10, label='Train')\n",
        "X_val, y_val, G_val, _ = generate_samples_from_graph(num_node_pairs=100, augmentation=False, label='Validation')\n",
        "\n",
        "train_iter = mx.io.NDArrayIter(X_train, y_train, batch_size, shuffle=True)\n",
        "val_iter = mx.io.NDArrayIter(X_val, y_val, batch_size=batch_size)\n",
        "\n",
        "\n",
        "model.fit(train_iter,  # train data\n",
        "            eval_data=val_iter,  # validation data\n",
        "            optimizer='adam',  # use SGD to train\n",
        "            eval_metric='acc',  # report accuracy during training\n",
        "            batch_end_callback = mx.callback.Speedometer(batch_size, 200),\n",
        "            num_epoch=50)\n",
        "model.save_params(\"/content/drive/MyDrive/project3/model\") "
      ],
      "metadata": {
        "colab": {
          "base_uri": "https://localhost:8080/"
        },
        "id": "jEYaPU863dWY",
        "outputId": "2a7c7c47-cda9-4eb8-c627-c7bfaf04f6df"
      },
      "execution_count": null,
      "outputs": [
        {
          "output_type": "stream",
          "name": "stdout",
          "text": [
            "370\n"
          ]
        },
        {
          "output_type": "stream",
          "name": "stderr",
          "text": [
            "<ipython-input-10-13c686ec9d1f>:15: DeprecationWarning: `np.int` is a deprecated alias for the builtin `int`. To silence this warning, use `int` by itself. Doing this will not modify any behavior and is safe. When replacing `np.int`, you may wish to use e.g. `np.int64` or `np.int32` to specify the precision. If you wish to review your current use, check the release note link for additional information.\n",
            "Deprecated in NumPy 1.20; for more details and guidance: https://numpy.org/devdocs/release/1.20.0-notes.html#deprecations\n",
            "  X_aug, y_aug = np.zeros((augmented_sample_size, feature_size)), np.zeros((augmented_sample_size), dtype=np.int)\n"
          ]
        },
        {
          "output_type": "stream",
          "name": "stdout",
          "text": [
            "Train\n",
            "1000 pairs are selected for training\n",
            "len of pair_path_dict: 1000\n",
            "Num of training sample: 72940\n",
            "Train\n",
            "\n",
            "\n",
            "320\n"
          ]
        },
        {
          "output_type": "stream",
          "name": "stderr",
          "text": [
            "WARNING:root:Already bound, ignoring bind()\n",
            "WARNING:root:optimizer already initialized, ignoring...\n"
          ]
        },
        {
          "output_type": "stream",
          "name": "stdout",
          "text": [
            "Validation\n",
            "100 pairs are selected for training\n",
            "len of pair_path_dict: 100\n",
            "Num of training sample: 586\n",
            "Validation\n",
            "\n",
            "\n"
          ]
        },
        {
          "output_type": "stream",
          "name": "stderr",
          "text": [
            "INFO:root:Epoch[0] Batch [0-200]\tSpeed: 62477.52 samples/sec\taccuracy=0.862251\n",
            "INFO:root:Epoch[0] Batch [200-400]\tSpeed: 66674.11 samples/sec\taccuracy=0.881094\n",
            "INFO:root:Epoch[0] Train-accuracy=0.875603\n",
            "INFO:root:Epoch[0] Time cost=1.344\n",
            "INFO:root:Epoch[0] Validation-accuracy=0.909375\n",
            "INFO:root:Epoch[1] Batch [0-200]\tSpeed: 39748.67 samples/sec\taccuracy=0.893657\n",
            "INFO:root:Epoch[1] Batch [200-400]\tSpeed: 41728.87 samples/sec\taccuracy=0.892031\n",
            "INFO:root:Epoch[1] Train-accuracy=0.892626\n",
            "INFO:root:Epoch[1] Time cost=1.805\n",
            "INFO:root:Epoch[1] Validation-accuracy=0.893750\n",
            "INFO:root:Epoch[2] Batch [0-200]\tSpeed: 38657.53 samples/sec\taccuracy=0.896611\n",
            "INFO:root:Epoch[2] Batch [200-400]\tSpeed: 36376.37 samples/sec\taccuracy=0.899687\n",
            "INFO:root:Epoch[2] Train-accuracy=0.897629\n",
            "INFO:root:Epoch[2] Time cost=1.724\n",
            "INFO:root:Epoch[2] Validation-accuracy=0.917188\n",
            "INFO:root:Epoch[3] Batch [0-200]\tSpeed: 72961.57 samples/sec\taccuracy=0.900381\n",
            "INFO:root:Epoch[3] Batch [200-400]\tSpeed: 70272.30 samples/sec\taccuracy=0.902070\n",
            "INFO:root:Epoch[3] Train-accuracy=0.901467\n",
            "INFO:root:Epoch[3] Time cost=1.020\n",
            "INFO:root:Epoch[3] Validation-accuracy=0.893750\n",
            "INFO:root:Epoch[4] Batch [0-200]\tSpeed: 73738.76 samples/sec\taccuracy=0.905434\n",
            "INFO:root:Epoch[4] Batch [200-400]\tSpeed: 73422.81 samples/sec\taccuracy=0.906406\n",
            "INFO:root:Epoch[4] Train-accuracy=0.904825\n",
            "INFO:root:Epoch[4] Time cost=0.992\n",
            "INFO:root:Epoch[4] Validation-accuracy=0.920312\n",
            "INFO:root:Epoch[5] Batch [0-200]\tSpeed: 72814.67 samples/sec\taccuracy=0.906133\n",
            "INFO:root:Epoch[5] Batch [200-400]\tSpeed: 72787.72 samples/sec\taccuracy=0.905742\n",
            "INFO:root:Epoch[5] Train-accuracy=0.906442\n",
            "INFO:root:Epoch[5] Time cost=1.006\n",
            "INFO:root:Epoch[5] Validation-accuracy=0.904687\n",
            "INFO:root:Epoch[6] Batch [0-200]\tSpeed: 73879.51 samples/sec\taccuracy=0.911070\n",
            "INFO:root:Epoch[6] Batch [200-400]\tSpeed: 74370.13 samples/sec\taccuracy=0.905547\n",
            "INFO:root:Epoch[6] Train-accuracy=0.907758\n",
            "INFO:root:Epoch[6] Time cost=0.989\n",
            "INFO:root:Epoch[6] Validation-accuracy=0.882812\n",
            "INFO:root:Epoch[7] Batch [0-200]\tSpeed: 75101.02 samples/sec\taccuracy=0.909243\n",
            "INFO:root:Epoch[7] Batch [200-400]\tSpeed: 72679.03 samples/sec\taccuracy=0.907813\n",
            "INFO:root:Epoch[7] Train-accuracy=0.908498\n",
            "INFO:root:Epoch[7] Time cost=0.995\n",
            "INFO:root:Epoch[7] Validation-accuracy=0.900000\n",
            "INFO:root:Epoch[8] Batch [0-200]\tSpeed: 74427.76 samples/sec\taccuracy=0.908543\n",
            "INFO:root:Epoch[8] Batch [200-400]\tSpeed: 70795.50 samples/sec\taccuracy=0.911367\n",
            "INFO:root:Epoch[8] Train-accuracy=0.908333\n",
            "INFO:root:Epoch[8] Time cost=0.998\n",
            "INFO:root:Epoch[8] Validation-accuracy=0.915625\n",
            "INFO:root:Epoch[9] Batch [0-200]\tSpeed: 75208.49 samples/sec\taccuracy=0.911614\n",
            "INFO:root:Epoch[9] Batch [200-400]\tSpeed: 63960.03 samples/sec\taccuracy=0.907891\n",
            "INFO:root:Epoch[9] Train-accuracy=0.910389\n",
            "INFO:root:Epoch[9] Time cost=1.033\n",
            "INFO:root:Epoch[9] Validation-accuracy=0.904687\n",
            "INFO:root:Epoch[10] Batch [0-200]\tSpeed: 72854.29 samples/sec\taccuracy=0.915073\n",
            "INFO:root:Epoch[10] Batch [200-400]\tSpeed: 75198.01 samples/sec\taccuracy=0.911172\n",
            "INFO:root:Epoch[10] Train-accuracy=0.912185\n",
            "INFO:root:Epoch[10] Time cost=0.987\n",
            "INFO:root:Epoch[10] Validation-accuracy=0.921875\n",
            "INFO:root:Epoch[11] Batch [0-200]\tSpeed: 74439.89 samples/sec\taccuracy=0.909049\n",
            "INFO:root:Epoch[11] Batch [200-400]\tSpeed: 72448.94 samples/sec\taccuracy=0.908672\n",
            "INFO:root:Epoch[11] Train-accuracy=0.908854\n",
            "INFO:root:Epoch[11] Time cost=1.009\n",
            "INFO:root:Epoch[11] Validation-accuracy=0.901563\n",
            "INFO:root:Epoch[12] Batch [0-200]\tSpeed: 71896.45 samples/sec\taccuracy=0.909515\n",
            "INFO:root:Epoch[12] Batch [200-400]\tSpeed: 40293.19 samples/sec\taccuracy=0.912266\n",
            "INFO:root:Epoch[12] Train-accuracy=0.910855\n",
            "INFO:root:Epoch[12] Time cost=1.524\n",
            "INFO:root:Epoch[12] Validation-accuracy=0.893750\n",
            "INFO:root:Epoch[13] Batch [0-200]\tSpeed: 40895.59 samples/sec\taccuracy=0.912313\n",
            "INFO:root:Epoch[13] Batch [200-400]\tSpeed: 38679.64 samples/sec\taccuracy=0.910547\n",
            "INFO:root:Epoch[13] Train-accuracy=0.912198\n",
            "INFO:root:Epoch[13] Time cost=1.858\n",
            "INFO:root:Epoch[13] Validation-accuracy=0.926562\n",
            "INFO:root:Epoch[14] Batch [0-200]\tSpeed: 36948.27 samples/sec\taccuracy=0.915928\n",
            "INFO:root:Epoch[14] Batch [200-400]\tSpeed: 60949.12 samples/sec\taccuracy=0.915039\n",
            "INFO:root:Epoch[14] Train-accuracy=0.914899\n",
            "INFO:root:Epoch[14] Time cost=1.433\n",
            "INFO:root:Epoch[14] Validation-accuracy=0.923438\n",
            "INFO:root:Epoch[15] Batch [0-200]\tSpeed: 76081.49 samples/sec\taccuracy=0.915073\n",
            "INFO:root:Epoch[15] Batch [200-400]\tSpeed: 74590.27 samples/sec\taccuracy=0.914609\n",
            "INFO:root:Epoch[15] Train-accuracy=0.914529\n",
            "INFO:root:Epoch[15] Time cost=0.983\n",
            "INFO:root:Epoch[15] Validation-accuracy=0.896875\n",
            "INFO:root:Epoch[16] Batch [0-200]\tSpeed: 75396.49 samples/sec\taccuracy=0.909243\n",
            "INFO:root:Epoch[16] Batch [200-400]\tSpeed: 73591.44 samples/sec\taccuracy=0.912852\n",
            "INFO:root:Epoch[16] Train-accuracy=0.911568\n",
            "INFO:root:Epoch[16] Time cost=0.987\n",
            "INFO:root:Epoch[16] Validation-accuracy=0.915625\n",
            "INFO:root:Epoch[17] Batch [0-200]\tSpeed: 76852.35 samples/sec\taccuracy=0.913246\n",
            "INFO:root:Epoch[17] Batch [200-400]\tSpeed: 71687.79 samples/sec\taccuracy=0.918203\n",
            "INFO:root:Epoch[17] Train-accuracy=0.914926\n",
            "INFO:root:Epoch[17] Time cost=1.023\n",
            "INFO:root:Epoch[17] Validation-accuracy=0.900000\n",
            "INFO:root:Epoch[18] Batch [0-200]\tSpeed: 76013.14 samples/sec\taccuracy=0.911303\n",
            "INFO:root:Epoch[18] Batch [200-400]\tSpeed: 72463.66 samples/sec\taccuracy=0.916133\n",
            "INFO:root:Epoch[18] Train-accuracy=0.914433\n",
            "INFO:root:Epoch[18] Time cost=0.986\n",
            "INFO:root:Epoch[18] Validation-accuracy=0.900000\n",
            "INFO:root:Epoch[19] Batch [0-200]\tSpeed: 75576.13 samples/sec\taccuracy=0.914568\n",
            "INFO:root:Epoch[19] Batch [200-400]\tSpeed: 74755.36 samples/sec\taccuracy=0.912813\n",
            "INFO:root:Epoch[19] Train-accuracy=0.913473\n",
            "INFO:root:Epoch[19] Time cost=0.986\n",
            "INFO:root:Epoch[19] Validation-accuracy=0.893750\n",
            "INFO:root:Epoch[20] Batch [0-200]\tSpeed: 73696.76 samples/sec\taccuracy=0.915073\n",
            "INFO:root:Epoch[20] Batch [200-400]\tSpeed: 72906.33 samples/sec\taccuracy=0.915977\n",
            "INFO:root:Epoch[20] Train-accuracy=0.916571\n",
            "INFO:root:Epoch[20] Time cost=0.999\n",
            "INFO:root:Epoch[20] Validation-accuracy=0.910937\n",
            "INFO:root:Epoch[21] Batch [0-200]\tSpeed: 68432.65 samples/sec\taccuracy=0.917444\n",
            "INFO:root:Epoch[21] Batch [200-400]\tSpeed: 75394.91 samples/sec\taccuracy=0.915000\n",
            "INFO:root:Epoch[21] Train-accuracy=0.915406\n",
            "INFO:root:Epoch[21] Time cost=1.018\n",
            "INFO:root:Epoch[21] Validation-accuracy=0.918750\n",
            "INFO:root:Epoch[22] Batch [0-200]\tSpeed: 70134.19 samples/sec\taccuracy=0.914723\n",
            "INFO:root:Epoch[22] Batch [200-400]\tSpeed: 74855.37 samples/sec\taccuracy=0.913906\n",
            "INFO:root:Epoch[22] Train-accuracy=0.914062\n",
            "INFO:root:Epoch[22] Time cost=1.023\n",
            "INFO:root:Epoch[22] Validation-accuracy=0.889062\n",
            "INFO:root:Epoch[23] Batch [0-200]\tSpeed: 72945.21 samples/sec\taccuracy=0.913596\n",
            "INFO:root:Epoch[23] Batch [200-400]\tSpeed: 74961.14 samples/sec\taccuracy=0.912070\n",
            "INFO:root:Epoch[23] Train-accuracy=0.913103\n",
            "INFO:root:Epoch[23] Time cost=1.010\n",
            "INFO:root:Epoch[23] Validation-accuracy=0.900000\n",
            "INFO:root:Epoch[24] Batch [0-200]\tSpeed: 41445.18 samples/sec\taccuracy=0.918493\n",
            "INFO:root:Epoch[24] Batch [200-400]\tSpeed: 43517.82 samples/sec\taccuracy=0.918867\n",
            "INFO:root:Epoch[24] Train-accuracy=0.918353\n",
            "INFO:root:Epoch[24] Time cost=1.742\n",
            "INFO:root:Epoch[24] Validation-accuracy=0.915625\n",
            "INFO:root:Epoch[25] Batch [0-200]\tSpeed: 39779.66 samples/sec\taccuracy=0.918338\n",
            "INFO:root:Epoch[25] Batch [200-400]\tSpeed: 40577.73 samples/sec\taccuracy=0.917539\n",
            "INFO:root:Epoch[25] Train-accuracy=0.917064\n",
            "INFO:root:Epoch[25] Time cost=1.873\n",
            "INFO:root:Epoch[25] Validation-accuracy=0.884375\n",
            "INFO:root:Epoch[26] Batch [0-200]\tSpeed: 54606.06 samples/sec\taccuracy=0.915073\n",
            "INFO:root:Epoch[26] Batch [200-400]\tSpeed: 69624.80 samples/sec\taccuracy=0.918516\n",
            "INFO:root:Epoch[26] Train-accuracy=0.918078\n",
            "INFO:root:Epoch[26] Time cost=1.127\n",
            "INFO:root:Epoch[26] Validation-accuracy=0.901563\n",
            "INFO:root:Epoch[27] Batch [0-200]\tSpeed: 74184.49 samples/sec\taccuracy=0.916356\n",
            "INFO:root:Epoch[27] Batch [200-400]\tSpeed: 73449.13 samples/sec\taccuracy=0.918398\n",
            "INFO:root:Epoch[27] Train-accuracy=0.917133\n",
            "INFO:root:Epoch[27] Time cost=0.985\n",
            "INFO:root:Epoch[27] Validation-accuracy=0.892188\n",
            "INFO:root:Epoch[28] Batch [0-200]\tSpeed: 75595.13 samples/sec\taccuracy=0.917094\n",
            "INFO:root:Epoch[28] Batch [200-400]\tSpeed: 72909.40 samples/sec\taccuracy=0.918320\n",
            "INFO:root:Epoch[28] Train-accuracy=0.918161\n",
            "INFO:root:Epoch[28] Time cost=0.984\n",
            "INFO:root:Epoch[28] Validation-accuracy=0.890625\n",
            "INFO:root:Epoch[29] Batch [0-200]\tSpeed: 76023.09 samples/sec\taccuracy=0.915073\n",
            "INFO:root:Epoch[29] Batch [200-400]\tSpeed: 71528.24 samples/sec\taccuracy=0.916758\n",
            "INFO:root:Epoch[29] Train-accuracy=0.916283\n",
            "INFO:root:Epoch[29] Time cost=0.987\n",
            "INFO:root:Epoch[29] Validation-accuracy=0.893750\n",
            "INFO:root:Epoch[30] Batch [0-200]\tSpeed: 72232.74 samples/sec\taccuracy=0.917716\n",
            "INFO:root:Epoch[30] Batch [200-400]\tSpeed: 71736.21 samples/sec\taccuracy=0.915937\n",
            "INFO:root:Epoch[30] Train-accuracy=0.917050\n",
            "INFO:root:Epoch[30] Time cost=1.001\n",
            "INFO:root:Epoch[30] Validation-accuracy=0.889062\n",
            "INFO:root:Epoch[31] Batch [0-200]\tSpeed: 73904.73 samples/sec\taccuracy=0.917405\n",
            "INFO:root:Epoch[31] Batch [200-400]\tSpeed: 69640.88 samples/sec\taccuracy=0.917344\n",
            "INFO:root:Epoch[31] Train-accuracy=0.916790\n",
            "INFO:root:Epoch[31] Time cost=1.003\n",
            "INFO:root:Epoch[31] Validation-accuracy=0.917188\n",
            "INFO:root:Epoch[32] Batch [0-200]\tSpeed: 75104.91 samples/sec\taccuracy=0.920942\n",
            "INFO:root:Epoch[32] Batch [200-400]\tSpeed: 68002.07 samples/sec\taccuracy=0.917344\n",
            "INFO:root:Epoch[32] Train-accuracy=0.919737\n",
            "INFO:root:Epoch[32] Time cost=1.035\n",
            "INFO:root:Epoch[32] Validation-accuracy=0.904687\n",
            "INFO:root:Epoch[33] Batch [0-200]\tSpeed: 76751.38 samples/sec\taccuracy=0.919426\n",
            "INFO:root:Epoch[33] Batch [200-400]\tSpeed: 73459.78 samples/sec\taccuracy=0.919961\n",
            "INFO:root:Epoch[33] Train-accuracy=0.919161\n",
            "INFO:root:Epoch[33] Time cost=0.979\n",
            "INFO:root:Epoch[33] Validation-accuracy=0.903125\n",
            "INFO:root:Epoch[34] Batch [0-200]\tSpeed: 72122.02 samples/sec\taccuracy=0.920281\n",
            "INFO:root:Epoch[34] Batch [200-400]\tSpeed: 70601.38 samples/sec\taccuracy=0.922695\n",
            "INFO:root:Epoch[34] Train-accuracy=0.919997\n",
            "INFO:root:Epoch[34] Time cost=1.027\n",
            "INFO:root:Epoch[34] Validation-accuracy=0.910937\n",
            "INFO:root:Epoch[35] Batch [0-200]\tSpeed: 74040.95 samples/sec\taccuracy=0.918843\n",
            "INFO:root:Epoch[35] Batch [200-400]\tSpeed: 61292.97 samples/sec\taccuracy=0.917148\n",
            "INFO:root:Epoch[35] Train-accuracy=0.918325\n",
            "INFO:root:Epoch[35] Time cost=1.348\n",
            "INFO:root:Epoch[35] Validation-accuracy=0.910937\n",
            "INFO:root:Epoch[36] Batch [0-200]\tSpeed: 40740.88 samples/sec\taccuracy=0.916550\n",
            "INFO:root:Epoch[36] Batch [200-400]\tSpeed: 38613.72 samples/sec\taccuracy=0.920195\n",
            "INFO:root:Epoch[36] Train-accuracy=0.919463\n",
            "INFO:root:Epoch[36] Time cost=1.841\n",
            "INFO:root:Epoch[36] Validation-accuracy=0.898438\n",
            "INFO:root:Epoch[37] Batch [0-200]\tSpeed: 38475.04 samples/sec\taccuracy=0.916317\n",
            "INFO:root:Epoch[37] Batch [200-400]\tSpeed: 38656.22 samples/sec\taccuracy=0.917383\n",
            "INFO:root:Epoch[37] Train-accuracy=0.917777\n",
            "INFO:root:Epoch[37] Time cost=1.904\n",
            "INFO:root:Epoch[37] Validation-accuracy=0.890625\n",
            "INFO:root:Epoch[38] Batch [0-200]\tSpeed: 37731.34 samples/sec\taccuracy=0.919543\n",
            "INFO:root:Epoch[38] Batch [200-400]\tSpeed: 40663.26 samples/sec\taccuracy=0.915000\n",
            "INFO:root:Epoch[38] Train-accuracy=0.917941\n",
            "INFO:root:Epoch[38] Time cost=1.873\n",
            "INFO:root:Epoch[38] Validation-accuracy=0.901563\n",
            "INFO:root:Epoch[39] Batch [0-200]\tSpeed: 34490.85 samples/sec\taccuracy=0.918921\n",
            "INFO:root:Epoch[39] Batch [200-400]\tSpeed: 35779.80 samples/sec\taccuracy=0.917773\n",
            "INFO:root:Epoch[39] Train-accuracy=0.919189\n",
            "INFO:root:Epoch[39] Time cost=1.806\n",
            "INFO:root:Epoch[39] Validation-accuracy=0.909375\n",
            "INFO:root:Epoch[40] Batch [0-200]\tSpeed: 72248.24 samples/sec\taccuracy=0.920981\n",
            "INFO:root:Epoch[40] Batch [200-400]\tSpeed: 72633.21 samples/sec\taccuracy=0.915430\n",
            "INFO:root:Epoch[40] Train-accuracy=0.918188\n",
            "INFO:root:Epoch[40] Time cost=1.019\n",
            "INFO:root:Epoch[40] Validation-accuracy=0.889062\n",
            "INFO:root:Epoch[41] Batch [0-200]\tSpeed: 76015.24 samples/sec\taccuracy=0.922030\n",
            "INFO:root:Epoch[41] Batch [200-400]\tSpeed: 76585.94 samples/sec\taccuracy=0.919453\n",
            "INFO:root:Epoch[41] Train-accuracy=0.920134\n",
            "INFO:root:Epoch[41] Time cost=0.984\n",
            "INFO:root:Epoch[41] Validation-accuracy=0.906250\n",
            "INFO:root:Epoch[42] Batch [0-200]\tSpeed: 76284.18 samples/sec\taccuracy=0.918066\n",
            "INFO:root:Epoch[42] Batch [200-400]\tSpeed: 75263.63 samples/sec\taccuracy=0.921602\n",
            "INFO:root:Epoch[42] Train-accuracy=0.919230\n",
            "INFO:root:Epoch[42] Time cost=0.994\n",
            "INFO:root:Epoch[42] Validation-accuracy=0.892188\n",
            "INFO:root:Epoch[43] Batch [0-200]\tSpeed: 73765.46 samples/sec\taccuracy=0.919737\n",
            "INFO:root:Epoch[43] Batch [200-400]\tSpeed: 74872.69 samples/sec\taccuracy=0.916836\n",
            "INFO:root:Epoch[43] Train-accuracy=0.918695\n",
            "INFO:root:Epoch[43] Time cost=1.003\n",
            "INFO:root:Epoch[43] Validation-accuracy=0.920312\n",
            "INFO:root:Epoch[44] Batch [0-200]\tSpeed: 75806.04 samples/sec\taccuracy=0.918727\n",
            "INFO:root:Epoch[44] Batch [200-400]\tSpeed: 72244.31 samples/sec\taccuracy=0.919687\n",
            "INFO:root:Epoch[44] Train-accuracy=0.919792\n",
            "INFO:root:Epoch[44] Time cost=0.999\n",
            "INFO:root:Epoch[44] Validation-accuracy=0.910937\n",
            "INFO:root:Epoch[45] Batch [0-200]\tSpeed: 78892.32 samples/sec\taccuracy=0.922691\n",
            "INFO:root:Epoch[45] Batch [200-400]\tSpeed: 75731.35 samples/sec\taccuracy=0.922930\n",
            "INFO:root:Epoch[45] Train-accuracy=0.921806\n",
            "INFO:root:Epoch[45] Time cost=0.967\n",
            "INFO:root:Epoch[45] Validation-accuracy=0.920312\n",
            "INFO:root:Epoch[46] Batch [0-200]\tSpeed: 77042.54 samples/sec\taccuracy=0.924246\n",
            "INFO:root:Epoch[46] Batch [200-400]\tSpeed: 74835.23 samples/sec\taccuracy=0.925273\n",
            "INFO:root:Epoch[46] Train-accuracy=0.923561\n",
            "INFO:root:Epoch[46] Time cost=0.986\n",
            "INFO:root:Epoch[46] Validation-accuracy=0.879687\n",
            "INFO:root:Epoch[47] Batch [0-200]\tSpeed: 75975.22 samples/sec\taccuracy=0.917677\n",
            "INFO:root:Epoch[47] Batch [200-400]\tSpeed: 75932.24 samples/sec\taccuracy=0.920664\n",
            "INFO:root:Epoch[47] Train-accuracy=0.918928\n",
            "INFO:root:Epoch[47] Time cost=0.978\n",
            "INFO:root:Epoch[47] Validation-accuracy=0.921875\n",
            "INFO:root:Epoch[48] Batch [0-200]\tSpeed: 76056.16 samples/sec\taccuracy=0.924246\n",
            "INFO:root:Epoch[48] Batch [200-400]\tSpeed: 75086.21 samples/sec\taccuracy=0.924258\n",
            "INFO:root:Epoch[48] Train-accuracy=0.922437\n",
            "INFO:root:Epoch[48] Time cost=0.994\n",
            "INFO:root:Epoch[48] Validation-accuracy=0.921875\n",
            "INFO:root:Epoch[49] Batch [0-200]\tSpeed: 62073.32 samples/sec\taccuracy=0.918493\n",
            "INFO:root:Epoch[49] Batch [200-400]\tSpeed: 41164.44 samples/sec\taccuracy=0.921289\n",
            "INFO:root:Epoch[49] Train-accuracy=0.920628\n",
            "INFO:root:Epoch[49] Time cost=1.592\n",
            "INFO:root:Epoch[49] Validation-accuracy=0.915625\n"
          ]
        }
      ]
    },
    {
      "cell_type": "code",
      "source": [
        "model.load_params(\"/content/drive/MyDrive/project3/model\")"
      ],
      "metadata": {
        "id": "_TJ_eDBj1tXt"
      },
      "execution_count": null,
      "outputs": []
    },
    {
      "cell_type": "code",
      "execution_count": null,
      "metadata": {
        "id": "7zBHrKVJEuKN"
      },
      "outputs": [],
      "source": [
        "\n",
        "def generate_stochastic_dataset_routes(G, src1,dest1,src2,dest2,src3,dest3,src4,dest4,src5,dest5,\\\n",
        "                                     verbose_frequence=100):\n",
        "    \n",
        "    train_features = []\n",
        "    train_labels = []\n",
        "    mylist=[(src1,dest1),(src2,dest2),(src3,dest3),(src4,dest4),(src5,dest5)]\n",
        "    pair_path_dict = dict()\n",
        "    \n",
        "    train_selected_pairs = []\n",
        " \n",
        "    for i in mylist:\n",
        "        src = int(i[0])\n",
        "        dst = int(i[1])\n",
        "        \n",
        "        if src == dst:\n",
        "            continue\n",
        "        \n",
        "        if (src, dst) in pair_path_dict:\n",
        "            continue\n",
        "        \n",
        "        try:\n",
        "            shortest_path = nx.dijkstra_path(G, src, dst)\n",
        "                \n",
        "        except NetworkXNoPath:\n",
        "#                 print(\"No path between %d and %d\" % (src, dst))\n",
        "            continue\n",
        "    \n",
        "        for path in [shortest_path]:\n",
        "            \n",
        "            src = path[0]\n",
        "            dst = path[-1]\n",
        "            \n",
        "            pair_path_dict[(src, dst)] = path\n",
        "         \n",
        "            train_selected_pairs.append((src, dst))\n",
        "            \n",
        "                    \n",
        "            parent_node = -1\n",
        "            cur_node = src\n",
        "            for mid_node in path[1:]:\n",
        "\n",
        "                \n",
        "                train_features.append(encode_edges(G, parent_node, cur_node, src, dst))\n",
        "                train_labels.append(mid_node)\n",
        "                \n",
        "                parent_node = cur_node\n",
        "                cur_node = mid_node\n",
        "                \n",
        "\n",
        "    print(\"the dict before sending\",pair_path_dict)\n",
        "    return train_features, train_labels, train_selected_pairs, pair_path_dict\n"
      ]
    },
    {
      "cell_type": "code",
      "execution_count": null,
      "metadata": {
        "id": "yoT-UUGzVUgr",
        "colab": {
          "base_uri": "https://localhost:8080/",
          "height": 1000
        },
        "outputId": "09c12399-27f3-4b5c-abf0-0d2caa9898b0"
      },
      "outputs": [
        {
          "output_type": "stream",
          "name": "stderr",
          "text": [
            "DEBUG:matplotlib.axes._base:top of Axes not in the figure, so title not moved\n",
            "DEBUG:matplotlib.axes._base:top of Axes not in the figure, so title not moved\n"
          ]
        },
        {
          "output_type": "stream",
          "name": "stdout",
          "text": [
            "350\n",
            "/content/drive/MyDrive/project3/graph.png\n"
          ]
        },
        {
          "output_type": "stream",
          "name": "stderr",
          "text": [
            "DEBUG:matplotlib.axes._base:top of Axes not in the figure, so title not moved\n",
            "DEBUG:matplotlib.axes._base:top of Axes not in the figure, so title not moved\n"
          ]
        },
        {
          "output_type": "stream",
          "name": "stdout",
          "text": [
            "365\n",
            "345\n",
            "/content/drive/MyDrive/project3/graph.png\n"
          ]
        },
        {
          "output_type": "stream",
          "name": "stderr",
          "text": [
            "WARNING:matplotlib.legend:No artists with labels found to put in legend.  Note that artists whose label start with an underscore are ignored when legend() is called with no argument.\n",
            "DEBUG:matplotlib.axes._base:top of Axes not in the figure, so title not moved\n"
          ]
        },
        {
          "output_type": "stream",
          "name": "stdout",
          "text": [
            "the dict before sending {(0, 15): [0, 45, 24, 7, 33, 47, 44, 1, 15], (10, 20): [10, 19, 41, 1, 44, 2, 34, 20], (26, 37): [26, 9, 47, 33, 39, 16, 37], (44, 49): [44, 2, 34, 20, 4, 49], (37, 44): [37, 16, 39, 33, 47, 44]}\n"
          ]
        },
        {
          "output_type": "stream",
          "name": "stderr",
          "text": [
            "DEBUG:matplotlib.axes._base:top of Axes not in the figure, so title not moved\n",
            "DEBUG:matplotlib.axes._base:top of Axes not in the figure, so title not moved\n",
            "DEBUG:matplotlib.axes._base:top of Axes not in the figure, so title not moved\n",
            "DEBUG:matplotlib.axes._base:top of Axes not in the figure, so title not moved\n",
            "DEBUG:matplotlib.axes._base:top of Axes not in the figure, so title not moved\n"
          ]
        },
        {
          "output_type": "display_data",
          "data": {
            "text/plain": [
              "<Figure size 432x288 with 1 Axes>"
            ],
            "image/png": "[encoded data removed]"
          },
          "metadata": {}
        },
        {
          "output_type": "stream",
          "name": "stderr",
          "text": [
            "WARNING:matplotlib.legend:No artists with labels found to put in legend.  Note that artists whose label start with an underscore are ignored when legend() is called with no argument.\n",
            "DEBUG:matplotlib.axes._base:top of Axes not in the figure, so title not moved\n",
            "DEBUG:matplotlib.axes._base:top of Axes not in the figure, so title not moved\n",
            "DEBUG:matplotlib.axes._base:top of Axes not in the figure, so title not moved\n",
            "DEBUG:matplotlib.axes._base:top of Axes not in the figure, so title not moved\n",
            "DEBUG:matplotlib.axes._base:top of Axes not in the figure, so title not moved\n",
            "DEBUG:matplotlib.axes._base:top of Axes not in the figure, so title not moved\n"
          ]
        },
        {
          "output_type": "display_data",
          "data": {
            "text/plain": [
              "<Figure size 432x288 with 1 Axes>"
            ],
            "image/png": "[encoded data removed]"
          },
          "metadata": {}
        },
        {
          "output_type": "stream",
          "name": "stderr",
          "text": [
            "WARNING:matplotlib.legend:No artists with labels found to put in legend.  Note that artists whose label start with an underscore are ignored when legend() is called with no argument.\n",
            "DEBUG:matplotlib.axes._base:top of Axes not in the figure, so title not moved\n",
            "DEBUG:matplotlib.axes._base:top of Axes not in the figure, so title not moved\n",
            "DEBUG:matplotlib.axes._base:top of Axes not in the figure, so title not moved\n",
            "DEBUG:matplotlib.axes._base:top of Axes not in the figure, so title not moved\n",
            "DEBUG:matplotlib.axes._base:top of Axes not in the figure, so title not moved\n",
            "DEBUG:matplotlib.axes._base:top of Axes not in the figure, so title not moved\n"
          ]
        },
        {
          "output_type": "display_data",
          "data": {
            "text/plain": [
              "<Figure size 432x288 with 1 Axes>"
            ],
            "image/png": "[encoded data removed]"
          },
          "metadata": {}
        },
        {
          "output_type": "stream",
          "name": "stderr",
          "text": [
            "WARNING:matplotlib.legend:No artists with labels found to put in legend.  Note that artists whose label start with an underscore are ignored when legend() is called with no argument.\n",
            "DEBUG:matplotlib.axes._base:top of Axes not in the figure, so title not moved\n",
            "DEBUG:matplotlib.axes._base:top of Axes not in the figure, so title not moved\n",
            "DEBUG:matplotlib.axes._base:top of Axes not in the figure, so title not moved\n",
            "DEBUG:matplotlib.axes._base:top of Axes not in the figure, so title not moved\n",
            "DEBUG:matplotlib.axes._base:top of Axes not in the figure, so title not moved\n",
            "DEBUG:matplotlib.axes._base:top of Axes not in the figure, so title not moved\n"
          ]
        },
        {
          "output_type": "display_data",
          "data": {
            "text/plain": [
              "<Figure size 432x288 with 1 Axes>"
            ],
            "image/png": "[encoded data removed]"
          },
          "metadata": {}
        },
        {
          "output_type": "stream",
          "name": "stderr",
          "text": [
            "WARNING:matplotlib.legend:No artists with labels found to put in legend.  Note that artists whose label start with an underscore are ignored when legend() is called with no argument.\n",
            "DEBUG:matplotlib.axes._base:top of Axes not in the figure, so title not moved\n",
            "DEBUG:matplotlib.axes._base:top of Axes not in the figure, so title not moved\n",
            "DEBUG:matplotlib.axes._base:top of Axes not in the figure, so title not moved\n",
            "DEBUG:matplotlib.axes._base:top of Axes not in the figure, so title not moved\n",
            "DEBUG:matplotlib.axes._base:top of Axes not in the figure, so title not moved\n",
            "DEBUG:matplotlib.axes._base:top of Axes not in the figure, so title not moved\n"
          ]
        },
        {
          "output_type": "display_data",
          "data": {
            "text/plain": [
              "<Figure size 432x288 with 1 Axes>"
            ],
            "image/png": "[encoded data removed]"
          },
          "metadata": {}
        },
        {
          "output_type": "stream",
          "name": "stdout",
          "text": [
            "5 out of 5 can find path: 1.000000\n",
            "3 out of 5 can find optimal path: 0.600000\n",
            "3 out of 5 all paths can find optimal paths: 0.600000\n",
            "5 pairs, μ=0.816667, σ=0.290593\n",
            "5 pairs, μ=0.808284, σ=0.275283\n",
            "Overall efficiency=  0.9058186600991741\n",
            "Route1\n",
            "Route2\n",
            "Route3\n",
            "Route4\n",
            "Route5\n"
          ]
        },
        {
          "output_type": "stream",
          "name": "stderr",
          "text": [
            "DEBUG:matplotlib.axes._base:top of Axes not in the figure, so title not moved\n",
            "DEBUG:matplotlib.axes._base:top of Axes not in the figure, so title not moved\n"
          ]
        },
        {
          "output_type": "stream",
          "name": "stdout",
          "text": [
            "380\n",
            "/content/drive/MyDrive/project3/graph.png\n"
          ]
        },
        {
          "output_type": "error",
          "ename": "KeyboardInterrupt",
          "evalue": "ignored",
          "traceback": [
            "\u001b[0;31m---------------------------------------------------------------------------\u001b[0m",
            "\u001b[0;31mKeyboardInterrupt\u001b[0m                         Traceback (most recent call last)",
            "\u001b[0;32m<ipython-input-25-41ef0e1be1e5>\u001b[0m in \u001b[0;36m<module>\u001b[0;34m\u001b[0m\n\u001b[1;32m     61\u001b[0m   \u001b[0mimg\u001b[0m\u001b[0;34m=\u001b[0m\u001b[0manvil\u001b[0m\u001b[0;34m.\u001b[0m\u001b[0mmedia\u001b[0m\u001b[0;34m.\u001b[0m\u001b[0mfrom_file\u001b[0m\u001b[0;34m(\u001b[0m\u001b[0mfilename\u001b[0m\u001b[0;34m)\u001b[0m\u001b[0;34m\u001b[0m\u001b[0;34m\u001b[0m\u001b[0m\n\u001b[1;32m     62\u001b[0m   \u001b[0;32mreturn\u001b[0m \u001b[0mimg\u001b[0m\u001b[0;34m\u001b[0m\u001b[0;34m\u001b[0m\u001b[0m\n\u001b[0;32m---> 63\u001b[0;31m \u001b[0manvil\u001b[0m\u001b[0;34m.\u001b[0m\u001b[0mserver\u001b[0m\u001b[0;34m.\u001b[0m\u001b[0mwait_forever\u001b[0m\u001b[0;34m(\u001b[0m\u001b[0;34m)\u001b[0m\u001b[0;34m\u001b[0m\u001b[0;34m\u001b[0m\u001b[0m\n\u001b[0m",
            "\u001b[0;32m/usr/local/lib/python3.8/dist-packages/anvil/server.py\u001b[0m in \u001b[0;36mwait_forever\u001b[0;34m()\u001b[0m\n\u001b[1;32m    435\u001b[0m     \u001b[0m_get_connection\u001b[0m\u001b[0;34m(\u001b[0m\u001b[0;34m)\u001b[0m\u001b[0;34m\u001b[0m\u001b[0;34m\u001b[0m\u001b[0m\n\u001b[1;32m    436\u001b[0m     \u001b[0;32mwhile\u001b[0m \u001b[0;32mTrue\u001b[0m\u001b[0;34m:\u001b[0m\u001b[0;34m\u001b[0m\u001b[0;34m\u001b[0m\u001b[0m\n\u001b[0;32m--> 437\u001b[0;31m         \u001b[0mtime\u001b[0m\u001b[0;34m.\u001b[0m\u001b[0msleep\u001b[0m\u001b[0;34m(\u001b[0m\u001b[0;36m1\u001b[0m\u001b[0;34m)\u001b[0m\u001b[0;34m\u001b[0m\u001b[0;34m\u001b[0m\u001b[0m\n\u001b[0m",
            "\u001b[0;31mKeyboardInterrupt\u001b[0m: "
          ]
        },
        {
          "output_type": "display_data",
          "data": {
            "text/plain": [
              "<Figure size 432x288 with 0 Axes>"
            ]
          },
          "metadata": {}
        }
      ],
      "source": [
        "from PIL import Image\n",
        "import matplotlib.pyplot as plt\n",
        "import anvil.media\n",
        "import os\n",
        "\n",
        "@anvil.server.callable\n",
        "def show_graph():\n",
        "  filename=\"/content/drive/MyDrive/project3/graph.png\"\n",
        "  \n",
        "  G=generate_low_degree_g()\n",
        "  while nx.is_connected(G) == False:\n",
        "    G = generate_low_degree_g()\n",
        "  pos = {}\n",
        "  for t in G.nodes:\n",
        "        pos[t] = (G.nodes[t]['x'], G.nodes[t]['y'])\n",
        "  \n",
        "  nx.draw(G, pos=pos, node_size=200, font_size=8, with_labels=True)\n",
        "  \n",
        "  print(filename)\n",
        "  \n",
        "  plt.savefig(filename)\n",
        "  plt.clf()\n",
        "  img=anvil.media.from_file(filename)\n",
        "  os.remove(filename)\n",
        "  \n",
        "  return img\n",
        "\n",
        "\n",
        "@anvil.server.callable\n",
        "def calc_routes(src1,dest1,src2,dest2,src3,dest3,src4,dest4,src5,dest5):\n",
        "  routes_list=[]\n",
        "   \n",
        "  features, labels, selected_pairs, pair_path_dict =\\\n",
        "          generate_stochastic_dataset_routes(G, src1,dest1,src2,dest2,src3,dest3,src4,dest4,src5,dest5)\n",
        "      \n",
        "  \n",
        "\n",
        "\n",
        "  print_paths_statistics(G,\\\n",
        "                       num_to_test=5,\\\n",
        "                       pair_path_dict=pair_path_dict,\n",
        "                       verbose=True)\n",
        "\n",
        "  return routes_list\n",
        "\n",
        "@anvil.server.callable\n",
        "def show_route(name):\n",
        "  filename=\"\"\n",
        "  print(name)\n",
        "  if name ==\"Route1\":\n",
        "    filename=\"/content/drive/MyDrive/project3/route0.png\"\n",
        "  if name ==\"Route2\":\n",
        "    filename=\"/content/drive/MyDrive/project3/route1.png\"\n",
        "  if name ==\"Route3\":\n",
        "    filename=\"/content/drive/MyDrive/project3/route2.png\"\n",
        "  if name ==\"Route4\":\n",
        "    filename=\"/content/drive/MyDrive/project3/route3.png\"\n",
        "  if name ==\"Route5\":\n",
        "    filename=\"/content/drive/MyDrive/project3/route4.png\"\n",
        "  \n",
        "  img=anvil.media.from_file(filename)\n",
        "  return img\n",
        "anvil.server.wait_forever()"
      ]
    }
  ],
  "metadata": {
    "accelerator": "GPU",
    "colab": {
      "provenance": []
    },
    "gpuClass": "standard",
    "kernelspec": {
      "display_name": "Python 3",
      "name": "python3"
    },
    "language_info": {
      "name": "python"
    }
  },
  "nbformat": 4,
  "nbformat_minor": 0
}